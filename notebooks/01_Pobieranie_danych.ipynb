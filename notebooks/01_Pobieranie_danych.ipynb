{
 "cells": [
  {
   "cell_type": "markdown",
   "metadata": {
    "id": "t0DZ7QM0cSq7",
    "tags": []
   },
   "source": [
    " # Opis notatnika\n",
    "\n",
    " Ten notatnik inicjuje naszą pracę nad warsztatem końcowym. Naszym zadaniem tutaj jest pobranie udostępnionych nam danych do obszaru roboczego, które w następnym kroku wgramy na naszą bazę danych. Ich obróbka oraz analiza zostanie przeprowadzona w specjalnie do tego celu przygotowanych kolejnych notatnikach.\n",
    "\n",
    " Na potrzeby tego warsztatu został stworzony dedykowany serwis API, który dostępny jest pod adresem: https://api-datalab.coderslab.com/api/. Dodatkowo udostępniona została dokumentacja, z którą można zapoznać się tutaj: [klik](https://api-datalab.coderslab.com/docs/).\n",
    "\n",
    " > Dokumentacja jest czysto techniczna i ma na celu prezentację dostępnych endpointów wraz ze zwracanym typem. W celu przetestowania należy kliknąć przysisk `Authorize`, podać token (dostępny poniżej), a następnie `Try it out!` oraz uzupełnić wymagane pola (parametry requesta).\n",
    "\n",
    " Zgodnie z dokumentacją stwierdzamy, że udostępnione zostały nam 4 endpointy:\n",
    " - `airport` - dane o lotnisku,\n",
    " - `weather` - informacje o zarejestrowaniej pogodzie na lotnisku danego dnia,\n",
    " - `aircraft` - dane o samolotach\n",
    " - `flights` - dane o wylotach z danego lotniska per dzień.\n",
    "\n",
    " Wszystkie te źródła musimy pobrać, aby być w stanie wykonać całość warsztatu. W celu pobrania informacji, gdzie wymagany jest paramatr `airportId`, posłużymy się listą z pliku `airports.csv`.\n",
    "\n",
    " Przy wykonywaniu tego zadania możesz posłużyć się tym tokenem: `WpzDMZeeCq6tbPdsTHUX8W9mecuUVwXAnmcorefr`.\n",
    "\n",
    " ### Uwagi\n",
    " - Ze względów ćwiczeniowych, konstrukcja poszczególnych endpointów jest różna – w trakcie pracy dokładnie przyjrzyj się, w jaki sposób należy wykonać zapytanie, aby otrzymać odpowiedź.\n",
    " - Pamiętaj o dodaniu `sleep` pomiędzy poszczególnymi wywołaniami endpoint.\n",
    " - Limit wywołań API to 500/min, zadbaj o nieprzekroczenie tego limitu – w przeciwnym wypadku będzie zwracany błąd 429."
   ]
  },
  {
   "cell_type": "markdown",
   "metadata": {
    "id": "KfoENWKJcSq9"
   },
   "source": [
    " # Konfiguracja notatnika"
   ]
  },
  {
   "cell_type": "markdown",
   "metadata": {
    "id": "W9F120yecSq-"
   },
   "source": [
    "import wymaganych bibliotek"
   ]
  },
  {
   "cell_type": "code",
   "execution_count": 1,
   "metadata": {
    "id": "WoyekjhTcSq_"
   },
   "outputs": [],
   "source": [
    "from tqdm import tqdm\n",
    "import requests\n",
    "import pandas as pd\n",
    "import time\n",
    "import datetime\n",
    "import sys\n",
    "sys.path.append('../')\n",
    "\n",
    "\n",
    "pd.set_option(\"display.max_colwidth\", 3000)\n",
    "pd.set_option(\"display.max_columns\", None)"
   ]
  },
  {
   "cell_type": "markdown",
   "metadata": {},
   "source": [
    "definicja parametru połączenia do API"
   ]
  },
  {
   "cell_type": "code",
   "execution_count": 2,
   "metadata": {
    "id": "xT_qqTgTcSq_"
   },
   "outputs": [],
   "source": [
    "from config.api_datalab import base_url, token"
   ]
  },
  {
   "cell_type": "code",
   "execution_count": 3,
   "metadata": {
    "id": "ZnX5NHdIcSrA"
   },
   "outputs": [],
   "source": [
    "def return_from_api(url, token):\n",
    "    # print(url)\n",
    "    try:\n",
    "        r = requests.get(url, headers={\"authorization\": token})\n",
    "    except requests.exceptions.Timeout:\n",
    "        print('Maybe set up for a retry, or continue in a retry loop')\n",
    "    except requests.exceptions.TooManyRedirects:\n",
    "        print('Tell the user their URL was bad and try a different one')\n",
    "    except requests.exceptions.RequestException as e:\n",
    "        print('catastrophic error.')\n",
    "        raise SystemExit(e)\n",
    "    return r"
   ]
  },
  {
   "cell_type": "markdown",
   "metadata": {
    "id": "6qQIv0FYcSrA"
   },
   "source": [
    "Tutaj wczytaj plik `airports.csv` i dostosuj do dalszych kroków w celu pobierania z kolejnych endpointów. Lista lotnisk jest dostępna w kolumnie `origin_airport_id`."
   ]
  },
  {
   "cell_type": "code",
   "execution_count": 4,
   "metadata": {
    "id": "cch5SNo7cSrB",
    "tags": []
   },
   "outputs": [],
   "source": [
    "airports = pd.read_csv(\"../data/airports.csv\", index_col=None)"
   ]
  },
  {
   "cell_type": "code",
   "execution_count": 5,
   "metadata": {
    "id": "cch5SNo7cSrB",
    "tags": []
   },
   "outputs": [
    {
     "name": "stdout",
     "output_type": "stream",
     "text": [
      "<class 'pandas.core.frame.DataFrame'>\n",
      "RangeIndex: 364 entries, 0 to 363\n",
      "Data columns (total 1 columns):\n",
      " #   Column             Non-Null Count  Dtype\n",
      "---  ------             --------------  -----\n",
      " 0   origin_airport_id  364 non-null    int64\n",
      "dtypes: int64(1)\n",
      "memory usage: 3.0 KB\n"
     ]
    }
   ],
   "source": [
    "airports.info()"
   ]
  },
  {
   "cell_type": "markdown",
   "metadata": {
    "id": "nl2wpRlFcSrB"
   },
   "source": [
    " # Pobieranie `Airport`\n",
    " Zapoznaj się z dokumentacją endpointu `airport`, a następnie pobierz dane dot. poszczególnych lotnisk. Wyniki tego kroku zapisz do ramki `airport_df`, a następnie zapisz do pliku `csv`.\n",
    "\n",
    " ### Wskazówki\n",
    " - Nie wszystkie lotniska dostępne w pliku `airports.csv`, są dostępne w endpoint. Zadbaj o odpowiednie obsłużenie takiej sytuacji,\n",
    " - Do skonwertowania wyników przydatna może okazać się metoda `Pandas` - [from_records](https://pandas.pydata.org/docs/reference/api/pandas.DataFrame.from_records.html),\n",
    " - Artykuł LMS: `Python - analiza danych > Dzień 4 - API > Uwierzytelnianie`\n",
    " - Artykuł LMS: `Python - analiza danych > Przygotowanie do zjazdu 2`"
   ]
  },
  {
   "cell_type": "markdown",
   "metadata": {
    "id": "0BFT2Q6LcSrC"
   },
   "source": [
    " Tutaj pobierz dane z endpoint'u `airport`"
   ]
  },
  {
   "cell_type": "code",
   "execution_count": 6,
   "metadata": {
    "id": "LU15PHoucsWC"
   },
   "outputs": [],
   "source": [
    "def get_airports(airports):\n",
    "    tmp = []\n",
    "    wait = 0.2\n",
    "    all_rows = len(airports)\n",
    "    td = datetime.timedelta(seconds=all_rows * wait)\n",
    "\n",
    "    print(\"Pobieram informację o lotniskach\")\n",
    "    print(f\"Wierszy do sprawdzenia: {all_rows}\")\n",
    "    print(f\"Czas do zakończenia: {td} [hh:mm:ss]\")\n",
    "\n",
    "    start_time = time.time()\n",
    "    pbar = tqdm(airports[\"origin_airport_id\"])\n",
    "\n",
    "    for airport_id in pbar:\n",
    "        from_api = return_from_api(\n",
    "            url=f\"{base_url}airport/{airport_id}\", token=token)\n",
    "\n",
    "        pbar.set_description(f'Lotnisko {airport_id}')\n",
    "        all_rows -= 1\n",
    "        time.sleep(wait)\n",
    "        if from_api.reason == \"OK\":\n",
    "            tmp.append(from_api.json())\n",
    "\n",
    "        # print(f\"\\twczytano {len(tmp)} zostało {all_rows}\")\n",
    "\n",
    "    pbar.close()\n",
    "    end_time = time.time()\n",
    "    print(\n",
    "        f'Pobrano wszystkie dane w czasie {datetime.timedelta(seconds=(end_time-start_time))} [hh:mm:ss]')\n",
    "    return pd.DataFrame(tmp)"
   ]
  },
  {
   "cell_type": "code",
   "execution_count": 7,
   "metadata": {
    "id": "LU15PHoucsWC"
   },
   "outputs": [
    {
     "name": "stdout",
     "output_type": "stream",
     "text": [
      "Pobieram informację o lotniskach\n",
      "Wierszy do sprawdzenia: 364\n",
      "Czas do zakończenia: 0:01:12.800000 [hh:mm:ss]\n"
     ]
    },
    {
     "name": "stderr",
     "output_type": "stream",
     "text": [
      "Lotnisko 12511: 100%|██████████| 364/364 [01:38<00:00,  3.70it/s]"
     ]
    },
    {
     "name": "stdout",
     "output_type": "stream",
     "text": [
      "Pobrano wszystkie dane w czasie 0:01:38.335432 [hh:mm:ss]\n"
     ]
    },
    {
     "name": "stderr",
     "output_type": "stream",
     "text": [
      "\n"
     ]
    }
   ],
   "source": [
    "airport_df = get_airports(airports=airports)"
   ]
  },
  {
   "cell_type": "code",
   "execution_count": 8,
   "metadata": {
    "id": "LU15PHoucsWC"
   },
   "outputs": [
    {
     "name": "stdout",
     "output_type": "stream",
     "text": [
      "<class 'pandas.core.frame.DataFrame'>\n",
      "RangeIndex: 97 entries, 0 to 96\n",
      "Data columns (total 4 columns):\n",
      " #   Column                Non-Null Count  Dtype \n",
      "---  ------                --------------  ----- \n",
      " 0   ORIGIN_AIRPORT_ID     97 non-null     int64 \n",
      " 1   DISPLAY_AIRPORT_NAME  97 non-null     object\n",
      " 2   ORIGIN_CITY_NAME      97 non-null     object\n",
      " 3   NAME                  97 non-null     object\n",
      "dtypes: int64(1), object(3)\n",
      "memory usage: 3.2+ KB\n"
     ]
    }
   ],
   "source": [
    "airport_df.info()"
   ]
  },
  {
   "cell_type": "markdown",
   "metadata": {
    "id": "PBYU4uZIcSrC"
   },
   "source": [
    " ## Sprawdzenie\n",
    " Uruchom kod poniżej, aby sprawdzić, czy ta część została poprawnie wykonana."
   ]
  },
  {
   "cell_type": "code",
   "execution_count": 9,
   "metadata": {
    "colab": {
     "base_uri": "https://localhost:8080/",
     "height": 183
    },
    "id": "v_uYoqUxcSrD",
    "outputId": "99974b89-87c9-4ced-cb20-3830cda40085"
   },
   "outputs": [],
   "source": [
    "airport_df_expected_shape = (97, 4)\n",
    "assert airport_df_expected_shape == airport_df.shape"
   ]
  },
  {
   "cell_type": "markdown",
   "metadata": {
    "id": "VM2aiFNgcSrD"
   },
   "source": [
    " Tutaj zapisz ramkę `airport_df` do pliku `airport_list.csv`."
   ]
  },
  {
   "cell_type": "code",
   "execution_count": 10,
   "metadata": {
    "id": "kX0YVty_cSrE"
   },
   "outputs": [],
   "source": [
    "airport_df.to_csv(\"../data/raw/airport_list.csv\", index=False)"
   ]
  },
  {
   "cell_type": "markdown",
   "metadata": {
    "id": "WFFoDzkMcSrE"
   },
   "source": [
    " # Pobieranie `Weather`\n",
    " Zapoznaj się z dokumentacją endpotu `Weather`, następnie pobierz dane dotyczące zarejestrowanej pogody na poszczególnych lotniskach. Wyniki zapisz do ramki `weather_df`, a później do pliku `airport_weather.csv`.\n",
    "\n",
    " Wskazówki:\n",
    " - Ze względu na wolumen danych, które tutaj się pobiorą, odradzamy zapisywanie danych bezpośrednio do ramki. Rekomendujemy podejście podobne do tego z warsztatu na kursie `Python - analiza danych` - `Dzień 10 - Warsztat > Warsztat > Scrapowanie danych`, czyli stworzenie listy, a następnie przekonwertowanie jej w postać ramki.\n",
    " - Data początkowa danych to `2019-01-01`, zaś data końcowa to `2020-03-31`, czyli 15 miesięcy,\n",
    " - Ze względu na czas, jaki ten krok będzie się wykonywał, warto dodać w pętli instrukcję (lub kilka) `print`, aby monitorować przebieg wykonywania tego kroku.\n",
    " - Przy dodawaniu miesięcy do daty może przydać się metoda [relativedelta](https://www.geeksforgeeks.org/python-get-month-from-year-and-weekday/)."
   ]
  },
  {
   "cell_type": "code",
   "execution_count": 11,
   "metadata": {},
   "outputs": [],
   "source": [
    "def get_weather_df(start_date, end_date):\n",
    "    \"\"\"\n",
    "    dopisuje wiersze z json do DatataFrames\n",
    "    \"\"\"\n",
    "    tmpDF = pd.DataFrame()\n",
    "    tmp = 0\n",
    "    wait = 0.2\n",
    "    daterange = pd.date_range(start_date, end_date, freq=\"M\").strftime(\"%Y-%m\")\n",
    "    all_month = len(daterange)\n",
    "    td = datetime.timedelta(seconds=all_month * wait)\n",
    "\n",
    "    print(\"pobieram informacje o pogodzie\")\n",
    "    print(f\"Ilość zapytań przez API:{all_month}\")\n",
    "    print(f\"Czas do zakończenia powyżej: {td} [hh:mm:ss]\")\n",
    "    start_time = time.time()\n",
    "    pbar = tqdm(daterange, desc='year_month', unit='month')\n",
    "    for year_month in pbar:\n",
    "        from_api = return_from_api(\n",
    "            url=f\"{base_url}airportWeather?date={year_month}\", token=token\n",
    "        )\n",
    "        all_month -= 1\n",
    "        time.sleep(wait)\n",
    "        if from_api.reason == \"OK\":\n",
    "            tmp += 1\n",
    "            tmpDF = pd.concat(\n",
    "                [tmpDF, pd.DataFrame(from_api.json())], ignore_index=True, axis=0\n",
    "            )\n",
    "            # print(f'pobrano dane dla miesiąca {year_month} zostało do pobrania jeszcze {all_month} miesięcy\")\n",
    "\n",
    "    pbar.close()\n",
    "    end_time = time.time()\n",
    "    print(\n",
    "        f'Pobrano wszystkie dane w czasie {datetime.timedelta(seconds=(end_time-start_time))} [hh:mm:ss]')\n",
    "    return pd.DataFrame(tmpDF)"
   ]
  },
  {
   "cell_type": "code",
   "execution_count": 12,
   "metadata": {},
   "outputs": [
    {
     "name": "stderr",
     "output_type": "stream",
     "text": [
      "/tmp/ipykernel_231242/3693180267.py:8: FutureWarning: 'M' is deprecated and will be removed in a future version, please use 'ME' instead.\n",
      "  daterange = pd.date_range(start_date, end_date, freq=\"M\").strftime(\"%Y-%m\")\n"
     ]
    },
    {
     "name": "stdout",
     "output_type": "stream",
     "text": [
      "pobieram informacje o pogodzie\n",
      "Ilość zapytań przez API:15\n",
      "Czas do zakończenia powyżej: 0:00:03 [hh:mm:ss]\n"
     ]
    },
    {
     "name": "stderr",
     "output_type": "stream",
     "text": [
      "year_month: 100%|██████████| 15/15 [00:10<00:00,  1.38month/s]"
     ]
    },
    {
     "name": "stdout",
     "output_type": "stream",
     "text": [
      "Pobrano wszystkie dane w czasie 0:00:10.853574 [hh:mm:ss]\n"
     ]
    },
    {
     "name": "stderr",
     "output_type": "stream",
     "text": [
      "\n"
     ]
    }
   ],
   "source": [
    "start_date = \"2019-01-01\"\n",
    "end_date = \"2020-03-31\"\n",
    "\n",
    "airport_weather_df = get_weather_df(start_date=start_date, end_date=end_date)"
   ]
  },
  {
   "cell_type": "code",
   "execution_count": 13,
   "metadata": {},
   "outputs": [
    {
     "name": "stdout",
     "output_type": "stream",
     "text": [
      "<class 'pandas.core.frame.DataFrame'>\n",
      "RangeIndex: 46226 entries, 0 to 46225\n",
      "Data columns (total 33 columns):\n",
      " #   Column   Non-Null Count  Dtype  \n",
      "---  ------   --------------  -----  \n",
      " 0   WT18     0 non-null      object \n",
      " 1   STATION  46226 non-null  object \n",
      " 2   NAME     46226 non-null  object \n",
      " 3   DATE     46226 non-null  object \n",
      " 4   AWND     45845 non-null  float64\n",
      " 5   PRCP     46197 non-null  float64\n",
      " 6   SNOW     32338 non-null  float64\n",
      " 7   SNWD     31750 non-null  float64\n",
      " 8   TAVG     34625 non-null  float64\n",
      " 9   TMAX     46203 non-null  float64\n",
      " 10  TMIN     46200 non-null  float64\n",
      " 11  WDF2     45854 non-null  float64\n",
      " 12  WDF5     45704 non-null  float64\n",
      " 13  WSF2     45854 non-null  float64\n",
      " 14  WSF5     45704 non-null  float64\n",
      " 15  WT01     16798 non-null  float64\n",
      " 16  WT08     5589 non-null   float64\n",
      " 17  WT02     2268 non-null   float64\n",
      " 18  WT03     5085 non-null   float64\n",
      " 19  WT04     362 non-null    float64\n",
      " 20  WT09     316 non-null    float64\n",
      " 21  WT06     522 non-null    float64\n",
      " 22  WT05     146 non-null    float64\n",
      " 23  PGTM     4484 non-null   float64\n",
      " 24  WT10     5 non-null      float64\n",
      " 25  WESD     7 non-null      float64\n",
      " 26  SN32     453 non-null    float64\n",
      " 27  SX32     454 non-null    float64\n",
      " 28  PSUN     430 non-null    float64\n",
      " 29  TSUN     429 non-null    float64\n",
      " 30  TOBS     355 non-null    float64\n",
      " 31  WT07     28 non-null     float64\n",
      " 32  WT11     1 non-null      float64\n",
      "dtypes: float64(29), object(4)\n",
      "memory usage: 11.6+ MB\n"
     ]
    }
   ],
   "source": [
    "airport_weather_df.info()"
   ]
  },
  {
   "cell_type": "markdown",
   "metadata": {
    "id": "ESOue3vucSrF"
   },
   "source": [
    " ## Sprawdzenie\n",
    " Uruchom kod poniżej, aby sprawdzić, czy ta część została poprawnie wykonana."
   ]
  },
  {
   "cell_type": "code",
   "execution_count": 14,
   "metadata": {
    "id": "RyAhmF0tcSrF"
   },
   "outputs": [],
   "source": [
    "airport_weather_df_expected_shape = (46226, 33)\n",
    "assert airport_weather_df_expected_shape == airport_weather_df.shape"
   ]
  },
  {
   "cell_type": "markdown",
   "metadata": {
    "id": "s6AC9708cSrF"
   },
   "source": [
    " ## Zapis do pliku\n",
    " Tutaj zapisz ramkę `weather_df` do pliku `airport_weather.csv` w katalogu `data/raw`."
   ]
  },
  {
   "cell_type": "code",
   "execution_count": 15,
   "metadata": {
    "id": "-XdjTZeucSrG"
   },
   "outputs": [],
   "source": [
    "airport_weather_df.to_csv(\"../data/raw/airport_weather.csv\", index=False)"
   ]
  },
  {
   "cell_type": "markdown",
   "metadata": {
    "id": "TjzQYZp7cSrG"
   },
   "source": [
    " # Pobranie `Aircraft`\n",
    " Zapoznaj się z dokumentacją endpointu `aircraft` a następnie pobierz dane produkcyjne samolotów. Wyniki zapisz do ramki `aircraft_df`, a następnie zapisz do pliku `aircraft.csv`.\n"
   ]
  },
  {
   "cell_type": "code",
   "execution_count": 16,
   "metadata": {},
   "outputs": [],
   "source": [
    "def get_aircraft():\n",
    "    tmp = []\n",
    "    wait = 0.2\n",
    "    from_api = return_from_api(url=f\"{base_url}aircraft\", token=token)\n",
    "    time.sleep(wait)\n",
    "    print(\"Pobieram informację o samolotach\")\n",
    "    if from_api.reason == \"OK\":\n",
    "        print(\"Pobrano wszystkie dane\")\n",
    "        return pd.DataFrame(from_api.json())\n",
    "    print(f\"wystąpił błąd dostępu do serwera:{from_api.reason}\")\n",
    "    return from_api.reason"
   ]
  },
  {
   "cell_type": "code",
   "execution_count": 17,
   "metadata": {
    "id": "bxqkmGNOdjnL"
   },
   "outputs": [
    {
     "name": "stdout",
     "output_type": "stream",
     "text": [
      "Pobieram informację o samolotach\n",
      "Pobrano wszystkie dane\n"
     ]
    }
   ],
   "source": [
    "aircraft_df = get_aircraft()"
   ]
  },
  {
   "cell_type": "code",
   "execution_count": 18,
   "metadata": {
    "id": "bxqkmGNOdjnL"
   },
   "outputs": [
    {
     "name": "stdout",
     "output_type": "stream",
     "text": [
      "<class 'pandas.core.frame.DataFrame'>\n",
      "RangeIndex: 7383 entries, 0 to 7382\n",
      "Data columns (total 3 columns):\n",
      " #   Column            Non-Null Count  Dtype  \n",
      "---  ------            --------------  -----  \n",
      " 0   MANUFACTURE_YEAR  7383 non-null   int64  \n",
      " 1   TAIL_NUM          7383 non-null   object \n",
      " 2   NUMBER_OF_SEATS   7376 non-null   float64\n",
      "dtypes: float64(1), int64(1), object(1)\n",
      "memory usage: 173.2+ KB\n"
     ]
    }
   ],
   "source": [
    "aircraft_df.info()"
   ]
  },
  {
   "cell_type": "markdown",
   "metadata": {
    "id": "d8i46jiccSrG"
   },
   "source": [
    " ## Sprawdzenie\n",
    " Uruchom kod poniżej, aby sprawdzić, czy ta część została poprawnie wykonana."
   ]
  },
  {
   "cell_type": "code",
   "execution_count": 19,
   "metadata": {
    "id": "pHH5brQscSrG"
   },
   "outputs": [],
   "source": [
    "aircraft_df_expected_shape = (7383, 3)\n",
    "assert aircraft_df_expected_shape == aircraft_df.shape"
   ]
  },
  {
   "cell_type": "markdown",
   "metadata": {
    "id": "mWgrH0AWcSrG"
   },
   "source": [
    " ## Zapis do pliku\n",
    " Tutaj zapisz ramkę `aircraft_df` do pliku `aircraft.csv` w katalogu `data/raw`.\n"
   ]
  },
  {
   "cell_type": "code",
   "execution_count": 20,
   "metadata": {},
   "outputs": [],
   "source": [
    "aircraft_df.to_csv(\"../data/raw/aircraft.csv\", index=False)"
   ]
  },
  {
   "cell_type": "markdown",
   "metadata": {
    "id": "MXI-QwVbcSrH"
   },
   "source": [
    " # Pobranie `Flight`\n",
    " Zapoznaj się z dokumentacją endpointu `flights`, następnie pobierz dane dotyczące ruchu lotniczego. Wyniki zapisz do ramki `flight_df`, a później do pliku `flight.csv`.\n",
    "\n",
    " Wskazówki:\n",
    " - Zwróć szczególną uwagę na konstrukcję endpointa,\n",
    " - Ze względu na wolumen danych, które tutaj się pobiorą, odradzamy zapisywanie danych bezpośrednio do ramki. Rekomendujemy podejście podobne do tego, z warsztatu na kursie `Python - analiza danych` - `Dzień 10 - Warsztat > Warsztat > Scrapowanie danych`,\n",
    " - Data początkowa danych to `2019-01-01`, zaś końcowa to `2020-03-31`, czyli 456 dni,\n",
    " - Ze względu na czas, jaki ten krok będzie się wykonywał, warto dodać w pętli instrukcję (lub kilka) `print`, aby monitorować przebieg wykonywania tego kroku."
   ]
  },
  {
   "cell_type": "code",
   "execution_count": 21,
   "metadata": {
    "id": "X7hWOqzCcSrH"
   },
   "outputs": [],
   "source": [
    "def get_flights(airports, start_date, end_date):\n",
    "    wait = 0.5\n",
    "\n",
    "    tmpDF = pd.DataFrame()\n",
    "\n",
    "    daterange = pd.date_range(start_date, end_date, freq=\"ME\").strftime(\"%Y-%m\")\n",
    "    all_airports = len(airports)\n",
    "    all_month = len(daterange)\n",
    "    total_reqest = all_month * all_airports\n",
    "    td = datetime.timedelta(seconds=total_reqest*wait)\n",
    "\n",
    "    print(f\"Ilość lotnisk: {all_airports}\")\n",
    "    print(f\"ilość miesięcy dla każdego z lotnisk: {all_month}\")\n",
    "    print(\n",
    "        f\"Ilość zapytań przez API: {all_month}*{all_airports} = {total_reqest}\")\n",
    "    print(f\"Czas do zakończenia powyżej: {td} [hh:mm:ss]\")\n",
    "\n",
    "    pbar = tqdm(airports[\"origin_airport_id\"], unit='airport')\n",
    "    start_time = time.time()\n",
    "    for airport_id in pbar:\n",
    "        for year_month in daterange:\n",
    "            pbar.set_description(\n",
    "                f'airport ID {airport_id}, month {year_month}')\n",
    "            from_api = return_from_api(\n",
    "                url=f\"{base_url}flight?airportId={airport_id}&date={year_month}\",\n",
    "                token=token,\n",
    "            )\n",
    "            if from_api.reason == \"OK\":\n",
    "                tmpDF = pd.concat(\n",
    "                    [tmpDF, pd.DataFrame(from_api.json())], ignore_index=True, axis=0\n",
    "                )\n",
    "            time.sleep(wait)\n",
    "\n",
    "    pbar.close()\n",
    "    end_time = time.time()\n",
    "    print(\n",
    "        f'Pobrano wszystkie dane w czasie {datetime.timedelta(seconds=(end_time-start_time))} [hh:mm:ss]')\n",
    "\n",
    "    return tmpDF"
   ]
  },
  {
   "cell_type": "code",
   "execution_count": 22,
   "metadata": {},
   "outputs": [
    {
     "name": "stdout",
     "output_type": "stream",
     "text": [
      "Ilość lotnisk: 364\n",
      "ilość miesięcy dla każdego z lotnisk: 15\n",
      "Ilość zapytań przez API: 15*364 = 5460\n",
      "Czas do zakończenia powyżej: 0:45:30 [hh:mm:ss]\n"
     ]
    },
    {
     "name": "stderr",
     "output_type": "stream",
     "text": [
      "airport ID 12511, month 2020-03: 100%|██████████| 364/364 [1:58:33<00:00, 19.54s/airport]  "
     ]
    },
    {
     "name": "stdout",
     "output_type": "stream",
     "text": [
      "Pobrano wszystkie dane w czasie 1:58:33.332595 [hh:mm:ss]\n"
     ]
    },
    {
     "name": "stderr",
     "output_type": "stream",
     "text": [
      "\n"
     ]
    }
   ],
   "source": [
    "start_date = \"2019-01-01\"\n",
    "end_date = \"2020-03-31\"\n",
    "\n",
    "flight_df = get_flights(\n",
    "    airports=airports, start_date=start_date, end_date=end_date)"
   ]
  },
  {
   "cell_type": "code",
   "execution_count": 23,
   "metadata": {},
   "outputs": [
    {
     "name": "stdout",
     "output_type": "stream",
     "text": [
      "<class 'pandas.core.frame.DataFrame'>\n",
      "RangeIndex: 9251880 entries, 0 to 9251879\n",
      "Data columns (total 27 columns):\n",
      " #   Column               Dtype  \n",
      "---  ------               -----  \n",
      " 0   MONTH                int64  \n",
      " 1   DAY_OF_MONTH         int64  \n",
      " 2   DAY_OF_WEEK          int64  \n",
      " 3   OP_UNIQUE_CARRIER    object \n",
      " 4   TAIL_NUM             object \n",
      " 5   OP_CARRIER_FL_NUM    int64  \n",
      " 6   ORIGIN_AIRPORT_ID    int64  \n",
      " 7   DEST_AIRPORT_ID      int64  \n",
      " 8   CRS_DEP_TIME         int64  \n",
      " 9   DEP_TIME             float64\n",
      " 10  DEP_DELAY_NEW        float64\n",
      " 11  DEP_TIME_BLK         object \n",
      " 12  CRS_ARR_TIME         int64  \n",
      " 13  ARR_TIME             float64\n",
      " 14  ARR_DELAY_NEW        float64\n",
      " 15  ARR_TIME_BLK         object \n",
      " 16  CANCELLED            int64  \n",
      " 17  CRS_ELAPSED_TIME     float64\n",
      " 18  ACTUAL_ELAPSED_TIME  float64\n",
      " 19  DISTANCE             int64  \n",
      " 20  DISTANCE_GROUP       int64  \n",
      " 21  YEAR                 int64  \n",
      " 22  CARRIER_DELAY        float64\n",
      " 23  WEATHER_DELAY        float64\n",
      " 24  NAS_DELAY            float64\n",
      " 25  SECURITY_DELAY       float64\n",
      " 26  LATE_AIRCRAFT_DELAY  float64\n",
      "dtypes: float64(11), int64(12), object(4)\n",
      "memory usage: 1.9+ GB\n"
     ]
    }
   ],
   "source": [
    "flight_df.info()"
   ]
  },
  {
   "cell_type": "markdown",
   "metadata": {
    "id": "9UJgH0CGcSrH"
   },
   "source": [
    " ## Sprawdzenie\n",
    " Uruchom kod poniżej, aby sprawdzić, czy ta część została poprawnie wykonana."
   ]
  },
  {
   "cell_type": "code",
   "execution_count": 24,
   "metadata": {
    "id": "Igrh65KgcSrH"
   },
   "outputs": [],
   "source": [
    "flight_df_expected_shape = (9251880, 27)\n",
    "assert flight_df_expected_shape == flight_df.shape"
   ]
  },
  {
   "cell_type": "markdown",
   "metadata": {
    "id": "3nfBsnwNcSrI"
   },
   "source": [
    " ## Zapis do pliku\n",
    " Tutaj zapisz ramkę `flight_df` do pliku `flight.csv` w katalogu `data/raw`."
   ]
  },
  {
   "cell_type": "code",
   "execution_count": 25,
   "metadata": {
    "id": "737lnCqacSrI"
   },
   "outputs": [],
   "source": [
    "flight_df.to_csv(\"../data/raw/flight.csv\", index=False)"
   ]
  },
  {
   "cell_type": "markdown",
   "metadata": {
    "id": "AbxEeR32cSrI"
   },
   "source": [
    " # Podsumowanie\n",
    " W tym notatniku wykonaliśmy podstawowy krok w analizie danych - pozyskaliśmy je. Są gotowe do dalszej pracy, czyli możemy załadować je na bazę danych, a następnie zapoznać się z tym, jakie informacje ze sobą niosą. Kolejne notatniki będą służyły właśnie tym celom."
   ]
  },
  {
   "cell_type": "code",
   "execution_count": 26,
   "metadata": {
    "id": "XFsso0kKcSrI"
   },
   "outputs": [
    {
     "name": "stdout",
     "output_type": "stream",
     "text": [
      "Wszystko wygląda OK :) Możesz przejść do kolejnego kroku.\n"
     ]
    }
   ],
   "source": [
    "msg = \"Wszystko wygląda OK :) Możesz przejść do kolejnego kroku.\"\n",
    "print(msg)"
   ]
  }
 ],
 "metadata": {
  "colab": {
   "provenance": []
  },
  "kernelspec": {
   "display_name": "Python 3 (ipykernel)",
   "language": "python",
   "name": "python3"
  },
  "language_info": {
   "codemirror_mode": {
    "name": "ipython",
    "version": 3
   },
   "file_extension": ".py",
   "mimetype": "text/x-python",
   "name": "python",
   "nbconvert_exporter": "python",
   "pygments_lexer": "ipython3",
   "version": "3.10.12"
  },
  "widgets": {
   "application/vnd.jupyter.widget-state+json": {
    "state": {},
    "version_major": 2,
    "version_minor": 0
   }
  }
 },
 "nbformat": 4,
 "nbformat_minor": 4
}
