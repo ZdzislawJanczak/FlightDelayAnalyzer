{
 "cells": [
  {
   "cell_type": "markdown",
   "metadata": {
    "id": "t0DZ7QM0cSq7",
    "tags": []
   },
   "source": [
    " # Opis notatnika\n",
    "\n",
    " Ten notatnik inicjuje naszą pracę nad warsztatem końcowym. Naszym zadaniem tutaj jest pobranie udostępnionych nam danych do obszaru roboczego, które w następnym kroku wgramy na naszą bazę danych. Ich obróbka oraz analiza zostanie przeprowadzona w specjalnie do tego celu przygotowanych kolejnych notatnikach.\n",
    "\n",
    " Na potrzeby tego warsztatu został stworzony dedykowany serwis API, który dostępny jest pod adresem: https://api-datalab.coderslab.com/api/. Dodatkowo udostępniona została dokumentacja, z którą można zapoznać się tutaj: [klik](https://api-datalab.coderslab.com/docs/).\n",
    "\n",
    " > Dokumentacja jest czysto techniczna i ma na celu prezentację dostępnych endpointów wraz ze zwracanym typem. W celu przetestowania należy kliknąć przysisk `Authorize`, podać token (dostępny poniżej), a następnie `Try it out!` oraz uzupełnić wymagane pola (parametry requesta).\n",
    "\n",
    " Zgodnie z dokumentacją stwierdzamy, że udostępnione zostały nam 4 endpointy:\n",
    " - `airport` - dane o lotnisku,\n",
    " - `weather` - informacje o zarejestrowaniej pogodzie na lotnisku danego dnia,\n",
    " - `aircraft` - dane o samolotach\n",
    " - `flights` - dane o wylotach z danego lotniska per dzień.\n",
    "\n",
    " Wszystkie te źródła musimy pobrać, aby być w stanie wykonać całość warsztatu. W celu pobrania informacji, gdzie wymagany jest paramatr `airportId`, posłużymy się listą z pliku `airports.csv`.\n",
    "\n",
    " Przy wykonywaniu tego zadania możesz posłużyć się tym tokenem: `WpzDMZeeCq6tbPdsTHUX8W9mecuUVwXAnmcorefr`.\n",
    "\n",
    " ### Uwagi\n",
    " - Ze względów ćwiczeniowych, konstrukcja poszczególnych endpointów jest różna – w trakcie pracy dokładnie przyjrzyj się, w jaki sposób należy wykonać zapytanie, aby otrzymać odpowiedź.\n",
    " - Pamiętaj o dodaniu `sleep` pomiędzy poszczególnymi wywołaniami endpoint.\n",
    " - Limit wywołań API to 500/min, zadbaj o nieprzekroczenie tego limitu – w przeciwnym wypadku będzie zwracany błąd 429."
   ]
  },
  {
   "cell_type": "markdown",
   "metadata": {
    "id": "KfoENWKJcSq9"
   },
   "source": [
    " # Konfiguracja notatnika"
   ]
  },
  {
   "cell_type": "markdown",
   "metadata": {
    "id": "W9F120yecSq-"
   },
   "source": [
    "import wymaganych bibliotek"
   ]
  },
  {
   "cell_type": "code",
   "execution_count": 7,
   "metadata": {
    "id": "WoyekjhTcSq_"
   },
   "outputs": [],
   "source": [
    "from tqdm import tqdm\n",
    "import requests\n",
    "import pandas as pd\n",
    "import time\n",
    "import datetime\n",
    "import sys\n",
    "sys.path.append('../')\n",
    "\n",
    "\n",
    "pd.set_option(\"display.max_colwidth\", 3000)\n",
    "pd.set_option(\"display.max_columns\", None)"
   ]
  },
  {
   "cell_type": "markdown",
   "metadata": {},
   "source": [
    "definicja parametru połączenia do API"
   ]
  },
  {
   "cell_type": "code",
   "execution_count": 8,
   "metadata": {
    "id": "xT_qqTgTcSq_"
   },
   "outputs": [
    {
     "ename": "ModuleNotFoundError",
     "evalue": "No module named 'config.api_datalab'",
     "output_type": "error",
     "traceback": [
      "\u001b[0;31m---------------------------------------------------------------------------\u001b[0m",
      "\u001b[0;31mModuleNotFoundError\u001b[0m                       Traceback (most recent call last)",
      "Cell \u001b[0;32mIn[8], line 1\u001b[0m\n\u001b[0;32m----> 1\u001b[0m \u001b[38;5;28;01mfrom\u001b[39;00m\u001b[38;5;250m \u001b[39m\u001b[38;5;21;01mconfig\u001b[39;00m\u001b[38;5;21;01m.\u001b[39;00m\u001b[38;5;21;01mapi_datalab\u001b[39;00m\u001b[38;5;250m \u001b[39m\u001b[38;5;28;01mimport\u001b[39;00m base_url, token\n",
      "\u001b[0;31mModuleNotFoundError\u001b[0m: No module named 'config.api_datalab'"
     ]
    }
   ],
   "source": [
    "from config.api_datalab import base_url, token"
   ]
  },
  {
   "cell_type": "code",
   "execution_count": 3,
   "metadata": {
    "id": "ZnX5NHdIcSrA"
   },
   "outputs": [],
   "source": [
    "def return_from_api(url, token):\n",
    "    # print(url)\n",
    "    try:\n",
    "        r = requests.get(url, headers={\"authorization\": token})\n",
    "    except requests.exceptions.Timeout:\n",
    "        print('Maybe set up for a retry, or continue in a retry loop')\n",
    "    except requests.exceptions.TooManyRedirects:\n",
    "        print('Tell the user their URL was bad and try a different one')\n",
    "    except requests.exceptions.RequestException as e:\n",
    "        print('catastrophic error.')\n",
    "        raise SystemExit(e)\n",
    "    return r"
   ]
  },
  {
   "cell_type": "markdown",
   "metadata": {
    "id": "6qQIv0FYcSrA"
   },
   "source": [
    "Tutaj wczytaj plik `airports.csv` i dostosuj do dalszych kroków w celu pobierania z kolejnych endpointów. Lista lotnisk jest dostępna w kolumnie `origin_airport_id`."
   ]
  },
  {
   "cell_type": "code",
   "execution_count": 4,
   "metadata": {
    "id": "cch5SNo7cSrB",
    "tags": []
   },
   "outputs": [],
   "source": [
    "airports = pd.read_csv(\"../data/airports.csv\", index_col=None)"
   ]
  },
  {
   "cell_type": "code",
   "execution_count": null,
   "metadata": {
    "id": "cch5SNo7cSrB",
    "tags": []
   },
   "outputs": [],
   "source": [
    "airports.info()"
   ]
  },
  {
   "cell_type": "markdown",
   "metadata": {
    "id": "nl2wpRlFcSrB"
   },
   "source": [
    " # Pobieranie `Airport`\n",
    " Zapoznaj się z dokumentacją endpointu `airport`, a następnie pobierz dane dot. poszczególnych lotnisk. Wyniki tego kroku zapisz do ramki `airport_df`, a następnie zapisz do pliku `csv`.\n",
    "\n",
    " ### Wskazówki\n",
    " - Nie wszystkie lotniska dostępne w pliku `airports.csv`, są dostępne w endpoint. Zadbaj o odpowiednie obsłużenie takiej sytuacji,\n",
    " - Do skonwertowania wyników przydatna może okazać się metoda `Pandas` - [from_records](https://pandas.pydata.org/docs/reference/api/pandas.DataFrame.from_records.html),\n",
    " - Artykuł LMS: `Python - analiza danych > Dzień 4 - API > Uwierzytelnianie`\n",
    " - Artykuł LMS: `Python - analiza danych > Przygotowanie do zjazdu 2`"
   ]
  },
  {
   "cell_type": "markdown",
   "metadata": {
    "id": "0BFT2Q6LcSrC"
   },
   "source": [
    " Tutaj pobierz dane z endpoint'u `airport`"
   ]
  },
  {
   "cell_type": "code",
   "execution_count": 6,
   "metadata": {
    "id": "LU15PHoucsWC"
   },
   "outputs": [],
   "source": [
    "def get_airports(airports):\n",
    "    tmp = []\n",
    "    wait = 0.2\n",
    "    all_rows = len(airports)\n",
    "    td = datetime.timedelta(seconds=all_rows * wait)\n",
    "\n",
    "    print(\"Pobieram informację o lotniskach\")\n",
    "    print(f\"Wierszy do sprawdzenia: {all_rows}\")\n",
    "    print(f\"Czas do zakończenia: {td} [hh:mm:ss]\")\n",
    "\n",
    "    start_time = time.time()\n",
    "    pbar = tqdm(airports[\"origin_airport_id\"])\n",
    "\n",
    "    for airport_id in pbar:\n",
    "        from_api = return_from_api(\n",
    "            url=f\"{base_url}airport/{airport_id}\", token=token)\n",
    "\n",
    "        pbar.set_description(f'Lotnisko {airport_id}')\n",
    "        all_rows -= 1\n",
    "        time.sleep(wait)\n",
    "        if from_api.reason == \"OK\":\n",
    "            tmp.append(from_api.json())\n",
    "\n",
    "        # print(f\"\\twczytano {len(tmp)} zostało {all_rows}\")\n",
    "\n",
    "    pbar.close()\n",
    "    end_time = time.time()\n",
    "    print(\n",
    "        f'Pobrano wszystkie dane w czasie {datetime.timedelta(seconds=(end_time-start_time))} [hh:mm:ss]')\n",
    "    return pd.DataFrame(tmp)"
   ]
  },
  {
   "cell_type": "code",
   "execution_count": null,
   "metadata": {
    "id": "LU15PHoucsWC"
   },
   "outputs": [],
   "source": [
    "airport_df = get_airports(airports=airports)"
   ]
  },
  {
   "cell_type": "code",
   "execution_count": null,
   "metadata": {
    "id": "LU15PHoucsWC"
   },
   "outputs": [],
   "source": [
    "airport_df.info()"
   ]
  },
  {
   "cell_type": "markdown",
   "metadata": {
    "id": "PBYU4uZIcSrC"
   },
   "source": [
    " ## Sprawdzenie\n",
    " Uruchom kod poniżej, aby sprawdzić, czy ta część została poprawnie wykonana."
   ]
  },
  {
   "cell_type": "code",
   "execution_count": 9,
   "metadata": {
    "colab": {
     "base_uri": "https://localhost:8080/",
     "height": 183
    },
    "id": "v_uYoqUxcSrD",
    "outputId": "99974b89-87c9-4ced-cb20-3830cda40085"
   },
   "outputs": [],
   "source": [
    "airport_df_expected_shape = (97, 4)\n",
    "assert airport_df_expected_shape == airport_df.shape"
   ]
  },
  {
   "cell_type": "markdown",
   "metadata": {
    "id": "VM2aiFNgcSrD"
   },
   "source": [
    " Tutaj zapisz ramkę `airport_df` do pliku `airport_list.csv`."
   ]
  },
  {
   "cell_type": "code",
   "execution_count": 10,
   "metadata": {
    "id": "kX0YVty_cSrE"
   },
   "outputs": [],
   "source": [
    "airport_df.to_csv(\"../data/raw/airport_list.csv\", index=False)"
   ]
  },
  {
   "cell_type": "markdown",
   "metadata": {
    "id": "WFFoDzkMcSrE"
   },
   "source": [
    " # Pobieranie `Weather`\n",
    " Zapoznaj się z dokumentacją endpotu `Weather`, następnie pobierz dane dotyczące zarejestrowanej pogody na poszczególnych lotniskach. Wyniki zapisz do ramki `weather_df`, a później do pliku `airport_weather.csv`.\n",
    "\n",
    " Wskazówki:\n",
    " - Ze względu na wolumen danych, które tutaj się pobiorą, odradzamy zapisywanie danych bezpośrednio do ramki. Rekomendujemy podejście podobne do tego z warsztatu na kursie `Python - analiza danych` - `Dzień 10 - Warsztat > Warsztat > Scrapowanie danych`, czyli stworzenie listy, a następnie przekonwertowanie jej w postać ramki.\n",
    " - Data początkowa danych to `2019-01-01`, zaś data końcowa to `2020-03-31`, czyli 15 miesięcy,\n",
    " - Ze względu na czas, jaki ten krok będzie się wykonywał, warto dodać w pętli instrukcję (lub kilka) `print`, aby monitorować przebieg wykonywania tego kroku.\n",
    " - Przy dodawaniu miesięcy do daty może przydać się metoda [relativedelta](https://www.geeksforgeeks.org/python-get-month-from-year-and-weekday/)."
   ]
  },
  {
   "cell_type": "code",
   "execution_count": 11,
   "metadata": {},
   "outputs": [],
   "source": [
    "def get_weather_df(start_date, end_date):\n",
    "    \"\"\"\n",
    "    dopisuje wiersze z json do DatataFrames\n",
    "    \"\"\"\n",
    "    tmpDF = pd.DataFrame()\n",
    "    tmp = 0\n",
    "    wait = 0.2\n",
    "    daterange = pd.date_range(start_date, end_date,\n",
    "                              freq=\"ME\").strftime(\"%Y-%m\")\n",
    "    all_month = len(daterange)\n",
    "    td = datetime.timedelta(seconds=all_month * wait)\n",
    "\n",
    "    print(\"pobieram informacje o pogodzie\")\n",
    "    print(f\"Ilość zapytań przez API:{all_month}\")\n",
    "    print(f\"Czas do zakończenia powyżej: {td} [hh:mm:ss]\")\n",
    "    start_time = time.time()\n",
    "    pbar = tqdm(daterange, desc='year_month', unit='month')\n",
    "    for year_month in pbar:\n",
    "        from_api = return_from_api(\n",
    "            url=f\"{base_url}airportWeather?date={year_month}\", token=token\n",
    "        )\n",
    "        all_month -= 1\n",
    "        time.sleep(wait)\n",
    "        if from_api.reason == \"OK\":\n",
    "            tmp += 1\n",
    "            tmpDF = pd.concat(\n",
    "                [tmpDF, pd.DataFrame(from_api.json())], ignore_index=True, axis=0\n",
    "            )\n",
    "            # print(f'pobrano dane dla miesiąca {year_month} zostało do pobrania jeszcze {all_month} miesięcy\")\n",
    "\n",
    "    pbar.close()\n",
    "    end_time = time.time()\n",
    "    print(\n",
    "        f'Pobrano wszystkie dane w czasie {datetime.timedelta(seconds=(end_time-start_time))} [hh:mm:ss]')\n",
    "    return pd.DataFrame(tmpDF)"
   ]
  },
  {
   "cell_type": "code",
   "execution_count": null,
   "metadata": {},
   "outputs": [],
   "source": [
    "start_date = \"2019-01-01\"\n",
    "end_date = \"2020-03-31\"\n",
    "\n",
    "airport_weather_df = get_weather_df(start_date=start_date, end_date=end_date)"
   ]
  },
  {
   "cell_type": "code",
   "execution_count": null,
   "metadata": {},
   "outputs": [],
   "source": [
    "airport_weather_df.info()"
   ]
  },
  {
   "cell_type": "markdown",
   "metadata": {
    "id": "ESOue3vucSrF"
   },
   "source": [
    " ## Sprawdzenie\n",
    " Uruchom kod poniżej, aby sprawdzić, czy ta część została poprawnie wykonana."
   ]
  },
  {
   "cell_type": "code",
   "execution_count": 14,
   "metadata": {
    "id": "RyAhmF0tcSrF"
   },
   "outputs": [],
   "source": [
    "airport_weather_df_expected_shape = (46226, 33)\n",
    "assert airport_weather_df_expected_shape == airport_weather_df.shape"
   ]
  },
  {
   "cell_type": "markdown",
   "metadata": {
    "id": "s6AC9708cSrF"
   },
   "source": [
    " ## Zapis do pliku\n",
    " Tutaj zapisz ramkę `weather_df` do pliku `airport_weather.csv` w katalogu `data/raw`."
   ]
  },
  {
   "cell_type": "code",
   "execution_count": 15,
   "metadata": {
    "id": "-XdjTZeucSrG"
   },
   "outputs": [],
   "source": [
    "airport_weather_df.to_csv(\"../data/raw/airport_weather.csv\", index=False)"
   ]
  },
  {
   "cell_type": "markdown",
   "metadata": {
    "id": "TjzQYZp7cSrG"
   },
   "source": [
    " # Pobranie `Aircraft`\n",
    " Zapoznaj się z dokumentacją endpointu `aircraft` a następnie pobierz dane produkcyjne samolotów. Wyniki zapisz do ramki `aircraft_df`, a następnie zapisz do pliku `aircraft.csv`.\n"
   ]
  },
  {
   "cell_type": "code",
   "execution_count": 16,
   "metadata": {},
   "outputs": [],
   "source": [
    "def get_aircraft():\n",
    "    tmp = []\n",
    "    wait = 0.2\n",
    "    from_api = return_from_api(url=f\"{base_url}aircraft\", token=token)\n",
    "    time.sleep(wait)\n",
    "    print(\"Pobieram informację o samolotach\")\n",
    "    if from_api.reason == \"OK\":\n",
    "        print(\"Pobrano wszystkie dane\")\n",
    "        return pd.DataFrame(from_api.json())\n",
    "    print(f\"wystąpił błąd dostępu do serwera:{from_api.reason}\")\n",
    "    return from_api.reason"
   ]
  },
  {
   "cell_type": "code",
   "execution_count": null,
   "metadata": {
    "id": "bxqkmGNOdjnL"
   },
   "outputs": [],
   "source": [
    "aircraft_df = get_aircraft()"
   ]
  },
  {
   "cell_type": "code",
   "execution_count": null,
   "metadata": {
    "id": "bxqkmGNOdjnL"
   },
   "outputs": [],
   "source": [
    "aircraft_df.info()"
   ]
  },
  {
   "cell_type": "markdown",
   "metadata": {
    "id": "d8i46jiccSrG"
   },
   "source": [
    " ## Sprawdzenie\n",
    " Uruchom kod poniżej, aby sprawdzić, czy ta część została poprawnie wykonana."
   ]
  },
  {
   "cell_type": "code",
   "execution_count": 19,
   "metadata": {
    "id": "pHH5brQscSrG"
   },
   "outputs": [],
   "source": [
    "aircraft_df_expected_shape = (7383, 3)\n",
    "assert aircraft_df_expected_shape == aircraft_df.shape"
   ]
  },
  {
   "cell_type": "markdown",
   "metadata": {
    "id": "mWgrH0AWcSrG"
   },
   "source": [
    " ## Zapis do pliku\n",
    " Tutaj zapisz ramkę `aircraft_df` do pliku `aircraft.csv` w katalogu `data/raw`.\n"
   ]
  },
  {
   "cell_type": "code",
   "execution_count": 20,
   "metadata": {},
   "outputs": [],
   "source": [
    "aircraft_df.to_csv(\"../data/raw/aircraft.csv\", index=False)"
   ]
  },
  {
   "cell_type": "markdown",
   "metadata": {
    "id": "MXI-QwVbcSrH"
   },
   "source": [
    " # Pobranie `Flight`\n",
    " Zapoznaj się z dokumentacją endpointu `flights`, następnie pobierz dane dotyczące ruchu lotniczego. Wyniki zapisz do ramki `flight_df`, a później do pliku `flight.csv`.\n",
    "\n",
    " Wskazówki:\n",
    " - Zwróć szczególną uwagę na konstrukcję endpointa,\n",
    " - Ze względu na wolumen danych, które tutaj się pobiorą, odradzamy zapisywanie danych bezpośrednio do ramki. Rekomendujemy podejście podobne do tego, z warsztatu na kursie `Python - analiza danych` - `Dzień 10 - Warsztat > Warsztat > Scrapowanie danych`,\n",
    " - Data początkowa danych to `2019-01-01`, zaś końcowa to `2020-03-31`, czyli 456 dni,\n",
    " - Ze względu na czas, jaki ten krok będzie się wykonywał, warto dodać w pętli instrukcję (lub kilka) `print`, aby monitorować przebieg wykonywania tego kroku."
   ]
  },
  {
   "cell_type": "code",
   "execution_count": 21,
   "metadata": {
    "id": "X7hWOqzCcSrH"
   },
   "outputs": [],
   "source": [
    "def get_flights(airports, start_date, end_date):\n",
    "    wait = 0.2\n",
    "\n",
    "    tmpDF = pd.DataFrame()\n",
    "\n",
    "    daterange = pd.date_range(start_date, end_date,\n",
    "                              freq=\"ME\").strftime(\"%Y-%m\")\n",
    "    all_airports = len(airports)\n",
    "    all_month = len(daterange)\n",
    "    total_reqest = all_month * all_airports\n",
    "    td = datetime.timedelta(seconds=total_reqest*wait)\n",
    "\n",
    "    print(f\"Ilość lotnisk: {all_airports}\")\n",
    "    print(f\"ilość miesięcy dla każdego z lotnisk: {all_month}\")\n",
    "    print(\n",
    "        f\"Ilość zapytań przez API: {all_month}*{all_airports} = {total_reqest}\")\n",
    "    print(f\"Czas do zakończenia powyżej: {td} [hh:mm:ss]\")\n",
    "\n",
    "    pbar = tqdm(airports[\"origin_airport_id\"], unit='airport')\n",
    "    start_time = time.time()\n",
    "    for airport_id in pbar:\n",
    "        for year_month in daterange:\n",
    "            pbar.set_description(\n",
    "                f'airport ID {airport_id}, month {year_month}')\n",
    "            from_api = return_from_api(\n",
    "                url=f\"{base_url}flight?airportId={airport_id}&date={year_month}\",\n",
    "                token=token,\n",
    "            )\n",
    "            if from_api.reason == \"OK\":\n",
    "                tmpDF = pd.concat(\n",
    "                    [tmpDF, pd.DataFrame(from_api.json())], ignore_index=True, axis=0\n",
    "                )\n",
    "            time.sleep(wait)\n",
    "\n",
    "    pbar.close()\n",
    "    end_time = time.time()\n",
    "    print(\n",
    "        f'Pobrano wszystkie dane w czasie {datetime.timedelta(seconds=(end_time-start_time))} [hh:mm:ss]')\n",
    "\n",
    "    return tmpDF"
   ]
  },
  {
   "cell_type": "code",
   "execution_count": null,
   "metadata": {},
   "outputs": [],
   "source": [
    "start_date = \"2019-01-01\"\n",
    "end_date = \"2020-03-31\"\n",
    "\n",
    "flight_df = get_flights(\n",
    "    airports=airports, start_date=start_date, end_date=end_date)"
   ]
  },
  {
   "cell_type": "code",
   "execution_count": null,
   "metadata": {},
   "outputs": [],
   "source": [
    "flight_df.info()"
   ]
  },
  {
   "cell_type": "markdown",
   "metadata": {
    "id": "9UJgH0CGcSrH"
   },
   "source": [
    " ## Sprawdzenie\n",
    " Uruchom kod poniżej, aby sprawdzić, czy ta część została poprawnie wykonana."
   ]
  },
  {
   "cell_type": "code",
   "execution_count": 24,
   "metadata": {
    "id": "Igrh65KgcSrH"
   },
   "outputs": [],
   "source": [
    "flight_df_expected_shape = (9251880, 27)\n",
    "assert flight_df_expected_shape == flight_df.shape"
   ]
  },
  {
   "cell_type": "markdown",
   "metadata": {
    "id": "3nfBsnwNcSrI"
   },
   "source": [
    " ## Zapis do pliku\n",
    " Tutaj zapisz ramkę `flight_df` do pliku `flight.csv` w katalogu `data/raw`."
   ]
  },
  {
   "cell_type": "code",
   "execution_count": 25,
   "metadata": {
    "id": "737lnCqacSrI"
   },
   "outputs": [],
   "source": [
    "flight_df.to_csv(\"../data/raw/flight.csv\", index=False)"
   ]
  },
  {
   "cell_type": "markdown",
   "metadata": {
    "id": "AbxEeR32cSrI"
   },
   "source": [
    " # Podsumowanie\n",
    " W tym notatniku wykonaliśmy podstawowy krok w analizie danych - pozyskaliśmy je. Są gotowe do dalszej pracy, czyli możemy załadować je na bazę danych, a następnie zapoznać się z tym, jakie informacje ze sobą niosą. Kolejne notatniki będą służyły właśnie tym celom."
   ]
  },
  {
   "cell_type": "code",
   "execution_count": null,
   "metadata": {
    "id": "XFsso0kKcSrI"
   },
   "outputs": [],
   "source": [
    "msg = \"Wszystko wygląda OK :) Możesz przejść do kolejnego kroku.\"\n",
    "print(msg)"
   ]
  }
 ],
 "metadata": {
  "colab": {
   "provenance": []
  },
  "kernelspec": {
   "display_name": "venv",
   "language": "python",
   "name": "python3"
  },
  "language_info": {
   "codemirror_mode": {
    "name": "ipython",
    "version": 3
   },
   "file_extension": ".py",
   "mimetype": "text/x-python",
   "name": "python",
   "nbconvert_exporter": "python",
   "pygments_lexer": "ipython3",
   "version": "3.11.2"
  },
  "widgets": {
   "application/vnd.jupyter.widget-state+json": {
    "state": {},
    "version_major": 2,
    "version_minor": 0
   }
  }
 },
 "nbformat": 4,
 "nbformat_minor": 4
}
