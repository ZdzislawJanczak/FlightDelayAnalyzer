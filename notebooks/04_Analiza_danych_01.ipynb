{
 "cells": [
  {
   "cell_type": "markdown",
   "metadata": {
    "id": "58ZUD24sfPTL"
   },
   "source": [
    " # Opis notatnika\n",
    " Po pobraniu danych z zewnętrznego serwisu, a następnie załadowaniu ich do naszej wewnętrznej (prawie firmowej) bazy, czas na ich analizę oraz eksplorację.\n",
    " Ponieważ zakładamy, że pracujemy z tym zbiorem pierwszy raz, warto przejrzeć go pod dość szerokim kątem, aby nabrać świadomości, jakie informacje są tam ukryte i co stanowi potencjalną wartość biznesową.\n",
    "\n",
    " Eksplorację zaczniemy od centralnej bazy danych `flight`, w której nastawimy się w szczególności na zmienną `dep_delay` (za dokumentacją u [źródła](https://www.kaggle.com/datasets/threnjen/2019-airline-delays-and-cancellations?resource=download&select=raw_data_documentation.txt)), która informuje o wysokości opóźnienia odlotu samolotu.\n",
    " Wykonując kolejne kroki, najpierw odpowiednio przygotujemy nasz wyjściowy zbiór do analizy, by później zacząć go wzbogacać o dodatkowe informacje, np. pogodowe.\n",
    "\n",
    " Dzięki wyciągnięciu wniosków z danych, które otrzymaliśmy, będziemy mogli zaproponować system raportowania wspomagający biznes, czy zdefiniować dalsze kroki, które usprawnią działania lotnisk.\n",
    "\n",
    " Powodzenia!\n",
    "\n",
    " > Ze względu na objętość zadań w tym obszarze, ten krok podzielony został na kilka mniejszych części."
   ]
  },
  {
   "cell_type": "markdown",
   "metadata": {
    "id": "ClzbyY6pfPTP"
   },
   "source": [
    " # Konfiguracja\n",
    " Uzupełnij implementajcę procedury `load_table_from_db`, która będzie odpowiedzialna za\n",
    " pobieranie danych z bazy danych oraz zwrócenie ramki do dalszej pracy.\n",
    "\n",
    " W trakcie pracy nad jej implementacją możesz wspomóc się następującymi materiałami:\n",
    " - `read_sql` - dokumentacja techniczna metody: [klik](https://pandas.pydata.org/docs/reference/api/pandas.read_sql.html),\n",
    " - `SQL - analiza danych -> Zjazd 1 - materiał dodatkowe -> Export danych -> Python`\n",
    "\n",
    " > **Uwaga:**  \n",
    " > Metoda powinna tylko pobierać dane z bazy, nie implementuj tutaj dodatkowej logiki."
   ]
  },
  {
   "cell_type": "markdown",
   "metadata": {
    "id": "OnIo3Pt6fPTQ"
   },
   "source": [
    " Tutaj zaimportuj wymagane biblioteki"
   ]
  },
  {
   "cell_type": "code",
   "execution_count": null,
   "metadata": {},
   "outputs": [],
   "source": [
    "# %pip install matplotlib --quiet\n",
    "# %pip install dask[dataframe] --quiet"
   ]
  },
  {
   "cell_type": "code",
   "execution_count": null,
   "metadata": {
    "id": "zNNgsvd2fPTR"
   },
   "outputs": [],
   "source": [
    "from sqlalchemy import create_engine\n",
    "import numpy as np\n",
    "import matplotlib.pyplot as plt\n",
    "import matplotlib.mlab as mlab\n",
    "import pandas as pd\n",
    "import time\n",
    "import dask.dataframe as dd\n",
    "import multiprocessing\n",
    "import sys\n",
    "sys.path.append('../')\n",
    "\n",
    "pd.set_option(\"display.max_colwidth\", 3000)\n",
    "pd.set_option(\"display.max_columns\", None)\n",
    "num_cores = multiprocessing.cpu_count()\n",
    "\n",
    "%matplotlib inline\n",
    "print(f\"{num_cores=}\")"
   ]
  },
  {
   "cell_type": "markdown",
   "metadata": {
    "id": "8cAhYq1vfPTS"
   },
   "source": [
    " ## Połączenie z bazą danych\n",
    " Tutaj uzupełnij konfigurację połączenia"
   ]
  },
  {
   "cell_type": "code",
   "execution_count": null,
   "metadata": {
    "id": "Qcwz7iMUfPTT"
   },
   "outputs": [],
   "source": [
    "from config.DB_connect import username, passwd, hostname, db_name"
   ]
  },
  {
   "cell_type": "markdown",
   "metadata": {
    "id": "Vy4dQx2zfPTT"
   },
   "source": [
    " Tutaj stwórz zmienną engine, która zostanie użyta do połączenia z bazą danych"
   ]
  },
  {
   "cell_type": "code",
   "execution_count": null,
   "metadata": {
    "id": "UwJuaCL-fPTU"
   },
   "outputs": [],
   "source": [
    "url = f\"postgresql://{username}:{passwd}@{hostname}:{port}/{db_name}\"\n",
    "engine = create_engine(url, echo=False)"
   ]
  },
  {
   "cell_type": "markdown",
   "metadata": {
    "id": "ifhPLFqGfPTU"
   },
   "source": [
    " Tutaj uzupełnij implementację metody `read_sql_table`"
   ]
  },
  {
   "cell_type": "code",
   "execution_count": null,
   "metadata": {
    "id": "3T-3UXDqfPTV"
   },
   "outputs": [],
   "source": [
    "def read_sql_table(table_name):\n",
    "    return pd.read_sql(f\"SELECT * FROM {table_name}\", engine)"
   ]
  },
  {
   "cell_type": "markdown",
   "metadata": {
    "id": "vW7b0DvDfPTW"
   },
   "source": [
    " # Wczytanie danych do obszaru roboczego\n",
    " Używając metody `read_sql_table`, wczytaj do obszaru roboczego zawartośc tabeli `flight` i zapisz w ramce o nazwie `flight_df_raw`.\n",
    "\n",
    " Następnie wykonaj poniższe polecenia:\n",
    " 1. Usuń z ramki loty, które:\n",
    "     * odbyły się w 2020 roku,\n",
    "     * zostały anulowane.\n",
    " 1. Zmień nazwę kolumny `dep_delay_new` na `dep_delay`.\n",
    " 1. Tak powstałą tabelę zapisz do ramki, która nazywać się będzie `flight_df` - z tej ramki będziemy korzystali do końca analizy.\n",
    " 1. Wyznacz, ile kolumn ma tabela `flight_df`, wynik zapisz do zmiennej `flight_df_columns_amount`.\n",
    " 1. Wyznacz, ile wierszy ma tabela `flight_df`, wynik zapisz do zmiennej `flight_df_rows_amount`."
   ]
  },
  {
   "cell_type": "markdown",
   "metadata": {
    "id": "_rL3QErYfPTX"
   },
   "source": [
    " Tutaj wczytaj ramkę do obszaru roboczego"
   ]
  },
  {
   "cell_type": "code",
   "execution_count": null,
   "metadata": {
    "id": "dkdSGVzofPTX"
   },
   "outputs": [],
   "source": [
    "flight_df_raw = read_sql_table(\"flight\")"
   ]
  },
  {
   "cell_type": "markdown",
   "metadata": {
    "id": "DNyMijbKfPTX"
   },
   "source": [
    " Tutaj oczyść ramkę usuwając loty z roku 2020 oraz te anulowane"
   ]
  },
  {
   "cell_type": "code",
   "execution_count": null,
   "metadata": {
    "id": "g_R4PHPMfPTY"
   },
   "outputs": [],
   "source": [
    "flight_df = flight_df_raw.loc[\n",
    "    (flight_df_raw[\"year\"] != 2020) & (flight_df_raw[\"cancelled\"] == False)\n",
    "]"
   ]
  },
  {
   "cell_type": "markdown",
   "metadata": {
    "id": "CUV4fzqhfPTY"
   },
   "source": [
    " Tutaj zmień nazwę kolumny `dep_delay_new` na `dep_delay`"
   ]
  },
  {
   "cell_type": "code",
   "execution_count": null,
   "metadata": {
    "id": "MvvFo0mhfPTY"
   },
   "outputs": [],
   "source": [
    "flight_df = flight_df.rename(columns={\"dep_delay_new\": \"dep_delay\"})"
   ]
  },
  {
   "cell_type": "markdown",
   "metadata": {
    "id": "r0H1o4uffPTY"
   },
   "source": [
    " Tutaj zainicjuj zmienne `flight_df_columns_amount` oraz `flight_df_rows_amount`, które zostaną użyte do sprawdzenia poprawności wykonania tej części"
   ]
  },
  {
   "cell_type": "code",
   "execution_count": null,
   "metadata": {
    "id": "LUjVnkPefPTZ"
   },
   "outputs": [],
   "source": [
    "flight_df_columns_amount = flight_df.shape[1]\n",
    "flight_df_rows_amount = flight_df.shape[0]"
   ]
  },
  {
   "cell_type": "markdown",
   "metadata": {
    "id": "-sQl6hx1fPTZ"
   },
   "source": [
    " ## Sprawdzenie\n",
    " Uruchom kod poniżej, aby sprawdzić, czy ta część została poprawnie wykonana."
   ]
  },
  {
   "cell_type": "markdown",
   "metadata": {
    "id": "n9GkS7-PfPTZ"
   },
   "source": [
    " ### Sprawdzenie liczby kolumn"
   ]
  },
  {
   "cell_type": "code",
   "execution_count": null,
   "metadata": {
    "colab": {
     "base_uri": "https://localhost:8080/",
     "height": 183
    },
    "id": "Xw2HanpFfPTa",
    "outputId": "b76e0774-7c0b-4037-e817-460f39a1949b"
   },
   "outputs": [],
   "source": [
    "flight_df_expected_columns_amount = 28\n",
    "assert (\n",
    "    flight_df_columns_amount == flight_df_expected_columns_amount\n",
    "), f\"Oczekiwano {flight_df_expected_columns_amount} kolumn, otrzymano {flight_df_columns_amount}\""
   ]
  },
  {
   "cell_type": "markdown",
   "metadata": {
    "id": "Ia9wAn-bfPTa"
   },
   "source": [
    " ### Sprawdzenie liczby wierszy"
   ]
  },
  {
   "cell_type": "code",
   "execution_count": null,
   "metadata": {
    "id": "r8OnZYX3fPTa"
   },
   "outputs": [],
   "source": [
    "flight_df_expected_rows_amount = 7287112\n",
    "assert (\n",
    "    flight_df_rows_amount == flight_df_expected_rows_amount\n",
    "), f\"Oczekiwano {flight_df_expected_rows_amount} wierszy, otrzymano {flight_df_rows_amount}\""
   ]
  },
  {
   "cell_type": "markdown",
   "metadata": {
    "id": "uozHluysfPTa"
   },
   "source": [
    " ### Sprawdzenie czy nie zostały w ramce loty z 2020"
   ]
  },
  {
   "cell_type": "code",
   "execution_count": null,
   "metadata": {
    "id": "kZPAxHnJfPTb"
   },
   "outputs": [],
   "source": [
    "flight_df_year_test = flight_df.loc[flight_df[\"year\"] == 2020].shape[0]\n",
    "assert (\n",
    "    flight_df_year_test == 0\n",
    "), \"W ramce `flight_df` nadal znajdują się loty z 2020 roku\""
   ]
  },
  {
   "cell_type": "markdown",
   "metadata": {
    "id": "o-uWkKRofPTb"
   },
   "source": [
    " ### Sprawdzenie czy nie zostały w ramce loty anulowane"
   ]
  },
  {
   "cell_type": "code",
   "execution_count": null,
   "metadata": {
    "id": "w9g0UKhAfPTb"
   },
   "outputs": [],
   "source": [
    "flight_df_cancelled_test = flight_df.loc[flight_df[\"cancelled\"] != 0].shape[0]\n",
    "assert (\n",
    "    flight_df_cancelled_test == 0\n",
    "), \"W ramce `flight_df` nadal znajdują się anulowane loty\""
   ]
  },
  {
   "cell_type": "markdown",
   "metadata": {
    "id": "d26Pkv90fPTb"
   },
   "source": [
    " ### Sprawdzenie czy nazwa kolumny została poprawnie zmieniona"
   ]
  },
  {
   "cell_type": "code",
   "execution_count": null,
   "metadata": {
    "id": "E4ouXDNKfPTc"
   },
   "outputs": [],
   "source": [
    "assert (\n",
    "    \"dep_delay\" in flight_df.columns\n",
    "), \"Kolumna dep_delay nie została znaleziona w ramce flight_df\""
   ]
  },
  {
   "cell_type": "markdown",
   "metadata": {
    "id": "suOSj5RUfPTc"
   },
   "source": [
    " # Analiza kolumny `dep_delay` cz. 1\n",
    " Wyznacz statystyki opisowe dla zmiennej `dep_delay` i zapisz do zmiennej `dep_delay_statistics_df`.\n",
    " W ramce powinny znaleźć się następujące wiersze:\n",
    " - średnia,\n",
    " - mediana,\n",
    " - odchylenie standardowe,\n",
    " - min, max\n",
    " - percentyle `[0.1, 0.25, 0.5, 0.75, 0.9, 0.95, 0.99]`\n",
    "\n",
    "Wyniki zaokrągl do dwóch miejsc po przecinku.\n",
    "\n",
    "W trakcie rozwiązywania tego zadania możesz posłużyć się następującymi materiałami:\n",
    " - `LMS -> Python-Analiza danych -> Przygotowanie do zjazd 3 -> Podstawy statystyki opisowej`\n",
    " - `describe` - dokumentacja techniczna metody: [klik](https://pandas.pydata.org/docs/reference/api/pandas.DataFrame.describe.html)"
   ]
  },
  {
   "cell_type": "markdown",
   "metadata": {
    "id": "cZmgvR9_fPTd"
   },
   "source": [
    " Tutaj wyznacz statystyki opisowe dla kolumny `dep_delay` oraz zainicjuj ramkę `dep_delay_statistics_df`"
   ]
  },
  {
   "cell_type": "code",
   "execution_count": null,
   "metadata": {
    "id": "P-Ll2oWdfPTd"
   },
   "outputs": [],
   "source": [
    "dep_delay_statistics_df = (\n",
    "    flight_df[\"dep_delay\"].describe(\n",
    "        [0.1, 0.25, 0.5, 0.75, 0.9, 0.95, 0.99]).round(2)\n",
    ")"
   ]
  },
  {
   "cell_type": "markdown",
   "metadata": {
    "id": "cwC_I9wkfPTd"
   },
   "source": [
    " ## Sprawdzenie wyników\n",
    " Uruchom kod poniżej, aby sprawdzić, czy ta część została poprawnie wykonana"
   ]
  },
  {
   "cell_type": "code",
   "execution_count": null,
   "metadata": {
    "id": "zjR3k8LtfPTd"
   },
   "outputs": [],
   "source": [
    "expected = {\n",
    "    \"count\": 7287112.0,\n",
    "    \"mean\": 14.07,\n",
    "    \"std\": 47.82,\n",
    "    \"min\": 0.0,\n",
    "    \"10%\": 0.0,\n",
    "    \"25%\": 0.0,\n",
    "    \"50%\": 0.0,\n",
    "    \"75%\": 7.0,\n",
    "    \"90%\": 39.0,\n",
    "    \"95%\": 77.0,\n",
    "    \"99%\": 200.0,\n",
    "    \"max\": 2710.0,\n",
    "}\n",
    "dep_delay_statistics_dict = dep_delay_statistics_df.to_dict()\n",
    "\n",
    "assert (\n",
    "    dep_delay_statistics_dict == expected\n",
    "), f\"Błąd. Otrzymano wartości : {dep_delay_statistics_dict}\""
   ]
  },
  {
   "cell_type": "markdown",
   "metadata": {
    "id": "h3FuFQdAfPTd"
   },
   "source": [
    " # Analiza kolumny `dep_delay` cz. 2\n",
    " Przeanalizuj dokładniej kolumnę `dep_delay` wykonując poniższe polecenia:\n",
    " 1. Wyznacz wykres dla _całej kolumny_ (tzn. tak jak jest).\n",
    " 1. Wyznacz wykres z pominięciem tych wierszy, dla których `dep_delay=0`.\n",
    " 1. Obcinając wykres do percentyla 95% oraz pomijając `dep_delay=0`.\n",
    "\n",
    "Dla wszystkich wykresów użyj histogramu z koszykami co 10 tj. `[0, 10)`, `[10, 20)` i tak dalej.\n",
    "\n",
    "Możesz tutaj użyć swojego ulubionego narzędzia do tworzenia wykresów - `matplotlib` czy `dash`. Pamiętaj o odpowiednim wystylowaniu każdego z wykresów zgodnie z dobrymi praktykami.\n",
    "\n",
    " W trakcie pracy możesz posłużyć się następującymi artykułami:\n",
    " - Dla `Matplotlib`:\n",
    "     - `Python - analiza danych -> Dzień 7 - Wykresy -> Zaawansowane wykresy`\n",
    "     - `hist` - dokumentacja metody: [klik](https://matplotlib.org/stable/api/_as_gen/matplotlib.pyplot.hist.html)\n",
    " - Dla `Plotly`:\n",
    "     - `Wizualizacja danych -> Dzień 2 -> Wprowadznie do plotly`\n",
    "     - `histogram` - dokumentacja metody: [klik](https://plotly.com/python/histograms/)"
   ]
  },
  {
   "cell_type": "markdown",
   "metadata": {
    "id": "JDoneUplfPTe"
   },
   "source": [
    " Tutaj stwórz wykres dla całej kolumny `dep_delay`"
   ]
  },
  {
   "cell_type": "code",
   "execution_count": null,
   "metadata": {
    "id": "Oormr8RUfPTe"
   },
   "outputs": [],
   "source": [
    "plt.figure(figsize=(15, 10))\n",
    "plt.hist(\n",
    "    flight_df[\"dep_delay\"],\n",
    "    bins=range(\n",
    "        int(flight_df[\"dep_delay\"].min()), int(\n",
    "            flight_df[\"dep_delay\"].max()), 10\n",
    "    ),\n",
    "    edgecolor=\"white\",\n",
    "    align=\"left\",\n",
    "    log=True,\n",
    "    label=\"Ilość odlotów\",\n",
    ")\n",
    "\n",
    "plt.xticks = range(\n",
    "    int(flight_df[\"dep_delay\"].min()), int(flight_df[\"dep_delay\"].max()), 10\n",
    ")\n",
    "\n",
    "plt.ylabel(\"Ilość odlotów (skala logarytmiczna)\")\n",
    "plt.xlabel(\"Czas opóżnienia [min]]\")\n",
    "plt.title(\n",
    "    \"Rozkład wszystkich odlotów od 0 minut opóżnienia, w przedziałach co 10 minut.\\nRok 2019\"\n",
    ")\n",
    "plt.legend()\n",
    "plt.grid(axis=\"both\")\n",
    "\n",
    "plt.show()"
   ]
  },
  {
   "cell_type": "markdown",
   "metadata": {
    "id": "C-O0KGojfPTe"
   },
   "source": [
    " Tutaj stwórz wykres dla `dep_delay` używając warunku `dep_delay > 0`"
   ]
  },
  {
   "cell_type": "code",
   "execution_count": null,
   "metadata": {
    "id": "KQq6PfLEfPTe"
   },
   "outputs": [],
   "source": [
    "flight_delays_df = flight_df.loc[(flight_df[\"dep_delay\"] > 0)]\n",
    "\n",
    "plt.figure(figsize=(15, 10))\n",
    "\n",
    "plt.hist(\n",
    "    flight_delays_df[\"dep_delay\"],\n",
    "    bins=range(\n",
    "        int(flight_delays_df[\"dep_delay\"].min()),\n",
    "        int(flight_delays_df[\"dep_delay\"].max()),\n",
    "        10,\n",
    "    ),\n",
    "    edgecolor=\"white\",\n",
    "    # align='left',\n",
    "    log=True,\n",
    "    label=\"Ilość odlotów\",\n",
    ")\n",
    "\n",
    "plt.xticks = range(\n",
    "    int(flight_delays_df[\"dep_delay\"].min()),\n",
    "    int(flight_delays_df[\"dep_delay\"].max()),\n",
    "    10,\n",
    ")\n",
    "\n",
    "plt.ylabel(\"Ilość odlotów opóżnionych (skala logarytmiczna)\")\n",
    "plt.xlabel(\"Czas opóżnienia [min]]\")\n",
    "plt.title(\n",
    "    \"Rozkład wszystkich opóżnionych odlotów w przedziałach opóżnień co 10 min\\n Rok 1999\"\n",
    ")\n",
    "plt.legend()\n",
    "plt.grid(axis=\"both\")\n",
    "\n",
    "plt.show()"
   ]
  },
  {
   "cell_type": "markdown",
   "metadata": {
    "id": "sScl8v2GfPTe"
   },
   "source": [
    " Tutaj stwórz wykres dla `dep_delay` używając warunków `dep_delay > 0` oraz `dep_delay < percentile 95%`"
   ]
  },
  {
   "cell_type": "code",
   "execution_count": null,
   "metadata": {
    "id": "TQS3bUZwfPTe"
   },
   "outputs": [],
   "source": [
    "fight_delay_quantile = flight_df[\n",
    "    (flight_df[\"dep_delay\"] > 0)\n",
    "    & (flight_df[\"dep_delay\"] < flight_df[\"dep_delay\"].quantile(0.95))\n",
    "]\n",
    "\n",
    "plt.figure(figsize=(15, 10))\n",
    "\n",
    "plt.hist(\n",
    "    fight_delay_quantile[\"dep_delay\"],\n",
    "    bins=range(\n",
    "        int(fight_delay_quantile[\"dep_delay\"].min()),\n",
    "        int(fight_delay_quantile[\"dep_delay\"].max()),\n",
    "        10,\n",
    "    ),\n",
    "    edgecolor=\"white\",\n",
    "    rwidth=0.8,\n",
    "    log=False,\n",
    "    label=\"Ilość odlotów\",\n",
    ")\n",
    "\n",
    "plt.xticks = range(\n",
    "    int(fight_delay_quantile[\"dep_delay\"].min()),\n",
    "    int(fight_delay_quantile[\"dep_delay\"].max()),\n",
    "    10,\n",
    ")\n",
    "\n",
    "plt.yticks = range(0, 1000000, 1000)\n",
    "\n",
    "plt.ylabel(\"Ilość odlotów opóżnionych (w milionach)\")\n",
    "plt.xlabel(\"Czas opóżnienia w przedziałach co 10min]\")\n",
    "plt.title(\"Rozkład opóżnionych odlotów bez 5% największych opóżnień\")\n",
    "plt.legend()\n",
    "plt.grid(axis=\"both\")\n",
    "\n",
    "plt.show()"
   ]
  },
  {
   "cell_type": "markdown",
   "metadata": {
    "id": "X0Gjv5CEfPTf"
   },
   "source": [
    " # Analiza opóźnień\n",
    " Zdefiniuj w ramce `flight_df` nową kolumnę - `is_delayed` jako te opóźnienia, które wynosiły więcej niż `(>)` 15 minut.\n",
    "\n",
    " Zgodnie z powyższą definicją, wyznacz jaki procent wszystkich lotów był opóźniony. Wynik zapisz do zmiennej `delayed_ratio` z dokładnością do dwóch miejsc po przecinku. Postaraj się, aby wartość tej zmiennej nie była zapisana ręcznie."
   ]
  },
  {
   "cell_type": "markdown",
   "metadata": {
    "id": "jX-1XuNMfPTf"
   },
   "source": [
    " Tutaj stwórz nową kolumnę `is_delayed` oraz odpowiednio ją uzupełnij."
   ]
  },
  {
   "cell_type": "code",
   "execution_count": null,
   "metadata": {
    "id": "WooTaLMJfPTf"
   },
   "outputs": [],
   "source": [
    "flight_df[\"is_delayed\"] = flight_df[\"dep_delay\"] > 15"
   ]
  },
  {
   "cell_type": "markdown",
   "metadata": {
    "id": "vNHmE-EOfPTf"
   },
   "source": [
    " Tutaj zdefiniuj oraz wyznacz wartość dla zmiennej `delayed_ratio`"
   ]
  },
  {
   "cell_type": "code",
   "execution_count": null,
   "metadata": {},
   "outputs": [],
   "source": [
    "delayed_ratio = (flight_df[\"is_delayed\"].sum() /\n",
    "                 flight_df[\"is_delayed\"].count()).round(2)"
   ]
  },
  {
   "cell_type": "markdown",
   "metadata": {
    "id": "Un1ubXlzfPTf"
   },
   "source": [
    " ### Sprawdzenie\n",
    " Uruchom kod poniżej, aby sprawdzić, czy ta część została poprawnie wykonana"
   ]
  },
  {
   "cell_type": "code",
   "execution_count": null,
   "metadata": {
    "id": "A2eoEWbBfPTf"
   },
   "outputs": [],
   "source": [
    "delayed_ratio_expected = 0.18\n",
    "assert (\n",
    "    delayed_ratio == delayed_ratio_expected\n",
    "), f\"Oczekiwanio {delayed_ratio_expected}, otrzymano {delayed_ratio}\""
   ]
  },
  {
   "cell_type": "markdown",
   "metadata": {
    "id": "0sFapSy2fPTf"
   },
   "source": [
    " # Opóźnienia vs. miesiąc kalendarzowy\n",
    " Zbadaj, jak zmienia się odsetek opóźnień w zależności od **miesiąca kalendarzowego**. Zadanie wykonaj w dwóch krokach:\n",
    " 1. stwórz zmienną `flight_delays_by_month_df` używając metody `groupby`,\n",
    " 1. na podstawie zmiennej `flight_delays_by_month_df`, wygeneruj odpowiedni wykres zgodnie z dobrymi praktykami.\n",
    "\n",
    "W trakcie pracy nad tym zadaniem możesz posłużyć się następującymi materiałami z `LMS`:\n",
    " - `Python - analiza danych -> Dzień 5 - Pandas -> Grupowanie`\n",
    " - `groupby`- dokumentacja metody `Pandas`: [klik](https://pandas.pydata.org/docs/reference/api/pandas.DataFrame.groupby.html)"
   ]
  },
  {
   "cell_type": "markdown",
   "metadata": {
    "id": "zEqnUy1jfPTg"
   },
   "source": [
    " Tutaj pogrupuj dane, a wyniki zapisz do ramki `flight_delays_by_month_df`"
   ]
  },
  {
   "cell_type": "code",
   "execution_count": null,
   "metadata": {},
   "outputs": [],
   "source": [
    "dask_df = dd.from_pandas(flight_df, npartitions=num_cores)\n",
    "\n",
    "start_time = time.time()\n",
    "flight_delays_by_month_df = dask_df.groupby(\n",
    "    [\"month\"]).sum()[\"is_delayed\"].compute()\n",
    "\n",
    "flight_delays_by_month_df.sort_index(inplace=True)\n",
    "end_time = time.time()\n",
    "\n",
    "print(f\"Czas wykonania: {end_time - start_time} sekund\")"
   ]
  },
  {
   "cell_type": "markdown",
   "metadata": {
    "id": "ZJPHjuGvfPTg"
   },
   "source": [
    " Tutaj narysuj wykres, używając danych z ramki `flight_delays_by_month_df`"
   ]
  },
  {
   "cell_type": "code",
   "execution_count": null,
   "metadata": {},
   "outputs": [],
   "source": [
    "# Przygotowanie danych do wykresu\n",
    "fig = plt.figure(figsize=(15, 10))\n",
    "plt.plot(\n",
    "    flight_delays_by_month_df.index,\n",
    "    flight_delays_by_month_df,\n",
    "    label=\"opóźnione\",\n",
    "    drawstyle=\"steps-mid\",\n",
    ")\n",
    "plt.ylabel(\"Ilość odlotów opóźnionych\")\n",
    "plt.xlabel(\"Miesiące\")\n",
    "plt.title(\"Rozkład opóźnionych odlotów wg miesięcy\")\n",
    "plt.legend()\n",
    "plt.grid(axis=\"both\")\n",
    "plt.show()"
   ]
  },
  {
   "cell_type": "markdown",
   "metadata": {
    "id": "FWhdXPwVfPTg"
   },
   "source": [
    " # Opóźnienia vs. dzień tygodnia cz. 1\n",
    " Zbadaj, jak zmienia się odsetek opóźnień w zależności od **dnia tygodnia**. Zadanie wykonaj w dwóch krokach:\n",
    " 1. stwórz zmienną `flight_delays_by_weekday_df` używając metody `groupby`,\n",
    " 1. na podstawie zmiennej `flight_delays_by_weekday_df`, wygeneruj odpowiedni wykres zgodnie z dobrymi praktykami."
   ]
  },
  {
   "cell_type": "markdown",
   "metadata": {
    "id": "045Q6fzkfPTg"
   },
   "source": [
    " Tutaj pogrupuj dane"
   ]
  },
  {
   "cell_type": "code",
   "execution_count": null,
   "metadata": {
    "id": "SfiWTKDxfPTh"
   },
   "outputs": [],
   "source": [
    "start_time = time.time()\n",
    "flight_delays_by_weekday_df = dask_df.groupby(\n",
    "    [\"day_of_week\"]).sum()[\"is_delayed\"].compute()\n",
    "\n",
    "flight_delays_by_weekday_df.sort_index(inplace=True)\n",
    "end_time = time.time()\n",
    "\n",
    "print(f\"Czas wykonania: {end_time - start_time} sekund\")"
   ]
  },
  {
   "cell_type": "markdown",
   "metadata": {
    "id": "x8QqVvLIfPTh"
   },
   "source": [
    " Tutaj narysuj wykres"
   ]
  },
  {
   "cell_type": "code",
   "execution_count": null,
   "metadata": {
    "id": "8t1bsNAefPTh"
   },
   "outputs": [],
   "source": [
    "plt.figure(figsize=(15, 10))\n",
    "\n",
    "plt.plot(\n",
    "    flight_delays_by_weekday_df.index,\n",
    "    flight_delays_by_weekday_df,\n",
    "    drawstyle=\"steps-mid\",\n",
    ")\n",
    "\n",
    "plt.ylabel(\"Suma opóżnionych wylotów > 15min\")\n",
    "plt.xlabel(\"Dni tygodnia\")\n",
    "plt.title(\"Opóżnione wyloty wg dni tygodnia\")\n",
    "plt.grid(axis=\"both\")\n",
    "\n",
    "plt.show()\n",
    "plt.close()"
   ]
  },
  {
   "cell_type": "markdown",
   "metadata": {
    "id": "Hef6UKudfPTh"
   },
   "source": [
    " # Opóźnienia vs. dzień tygodnia cz. 2\n",
    " Dokonaj agregacji kolumny `day_of_week` do nowej kolumny `is_weekend` w `flight_df`. Jako weekend przyjmij wartości 6, 7.\n",
    " 1. Używając grupowania, wyznacz odsetek opóźnień w zależności od tego, czy lot odbywał się w weekend czy nie. Wyniki zapisz do ramki `flight_delays_by_weekend_df` oraz zaokrąglij do dwóch miejsc po przecinku.\n",
    " 1. Zaprezentuj graficznie wynik analizy.\n",
    " 1. Czy Twoim zdaniem odsetek opóźnień jest zależny od tego, czy lot odbywał się w weekend? Uzasadnij."
   ]
  },
  {
   "cell_type": "markdown",
   "metadata": {
    "id": "sBK8g0KDfPTh"
   },
   "source": [
    " Tutaj dodaj nową kolumnę `is_weekend` do `flight_df`"
   ]
  },
  {
   "cell_type": "code",
   "execution_count": null,
   "metadata": {
    "id": "hoXhhRp2fPTh"
   },
   "outputs": [],
   "source": [
    "flight_df[\"is_weekend\"] = flight_df[\"day_of_week\"] > 5"
   ]
  },
  {
   "cell_type": "markdown",
   "metadata": {
    "id": "G6ZAazh6fPTh"
   },
   "source": [
    " Tutaj dokonaj agregacji danych do ramki `flight_delays_by_weekend_df`"
   ]
  },
  {
   "cell_type": "code",
   "execution_count": null,
   "metadata": {},
   "outputs": [],
   "source": [
    "# Assuming flight_df is a Pandas DataFrame\n",
    "flight_ddf = dd.from_pandas(flight_df, npartitions=num_cores)\n",
    "\n",
    "# Step 1: Grouping and Summarizing Data\n",
    "grouped_ddf = flight_ddf.groupby([\"is_weekend\"]).sum()\n",
    "\n",
    "# Step 2: Selecting Specific Columns\n",
    "is_delayed_sum_ddf = grouped_ddf[[\"is_delayed\"]]\n",
    "\n",
    "# Step 3: Calculating Proportion of Non-Delayed Flights\n",
    "proportion_non_delayed = flight_ddf[\"is_delayed\"].count(\n",
    ") - flight_ddf[\"is_delayed\"].sum().compute()\n",
    "\n",
    "# Step 4: Calculating Final Result\n",
    "flight_delays_by_weekend_ddf = (\n",
    "    is_delayed_sum_ddf / proportion_non_delayed).round(2).compute()\n",
    "\n",
    "# Print or use flight_delays_by_weekend_ddf as needed\n",
    "print(flight_delays_by_weekend_ddf)"
   ]
  },
  {
   "cell_type": "code",
   "execution_count": null,
   "metadata": {},
   "outputs": [],
   "source": [
    "flight_delays_by_weekend_df = flight_delays_by_weekend_ddf.is_delayed"
   ]
  },
  {
   "cell_type": "code",
   "execution_count": null,
   "metadata": {},
   "outputs": [],
   "source": [
    "flight_delays_by_weekend_df.to_dict()"
   ]
  },
  {
   "cell_type": "code",
   "execution_count": null,
   "metadata": {},
   "outputs": [],
   "source": [
    "# flight_delays_by_weekend_df = (\n",
    "#     flight_df.groupby([\"is_weekend\"], as_index=None).sum()[[\"is_delayed\"]]\n",
    "#     / (flight_df[\"is_delayed\"].count() - flight_df[\"is_delayed\"].sum())\n",
    "# ).round(2)"
   ]
  },
  {
   "cell_type": "markdown",
   "metadata": {
    "id": "jjbnHZ-sfPTh"
   },
   "source": [
    " Tutaj narysuj wykres, używając danych z ramki `flight_delays_by_weekend_df`"
   ]
  },
  {
   "cell_type": "code",
   "execution_count": null,
   "metadata": {
    "id": "N923OTxRfPTi"
   },
   "outputs": [],
   "source": [
    "plt.figure(figsize=(15, 10))\n",
    "\n",
    "plt.plot([\"dni robocze\", \"weekend\"],\n",
    "         flight_delays_by_weekend_df * 100,\n",
    "         drawstyle=\"steps-mid\",\n",
    "         )\n",
    "\n",
    "plt.xlabel(\"Dni tygodnia\")\n",
    "plt.ylabel(\"Udział opóżnionych wylotów > 15min w % do wylotów o czasie\")\n",
    "plt.title(\"Opóżnione wyloty wg dni tygodnia \")\n",
    "plt.grid(axis=\"both\")\n",
    "\n",
    "plt.show()"
   ]
  },
  {
   "cell_type": "markdown",
   "metadata": {
    "id": "RWWcYaCafPTi"
   },
   "source": [
    " ### Sprawdzenie\n",
    " Uruchom kod poniżej, aby sprawdzić, czy ta część została poprawnie wykonana"
   ]
  },
  {
   "cell_type": "code",
   "execution_count": null,
   "metadata": {
    "id": "T6QFai7RfPTi"
   },
   "outputs": [],
   "source": [
    "expected_flight_df_by_weekend = {0: 0.16, 1: 0.06}\n",
    "assert (\n",
    "    flight_delays_by_weekend_df.to_dict() == expected_flight_df_by_weekend\n",
    "), f\"Spodziewano się wyników: {expected_flight_df_by_weekend}\\n otrzymano  {flight_delays_by_weekend_df}\""
   ]
  },
  {
   "cell_type": "markdown",
   "metadata": {
    "id": "4rTzizXkfPTi"
   },
   "source": [
    " # Opóźnienia vs. odległość lotu\n",
    " Przeanalizuj kolumnę `distance`, wykonując poniższe polecenia:\n",
    " 1. Podobnie jak dla zmiennej `dep_delay`, wyznacz statystyki opisowe oraz dodatkowo przedstaw percentyle `[0.1, 0.25, 0.5, 0.75, 0.9, 0.95, 0.99]`. Wynik zapisz do zmiennej `flight_distance_analysis_df` oraz zaokrąglij do dwóch miejsc po przecinku.\n",
    " 1. Nakreśl wykres punktowy (`scatter`) używając `distance` oraz `dep_delay`. Narysuj wykres dla losowych 10 tysięcy wierszy. Czy na takim wykresie możesz coś zaobserwować?\n",
    " 1. Usuń z ramki `flight_df`, te wiersze, dla których `distance` jest powyżej 95% percentyla.\n",
    " 1. Używając ramki `flight_df`, dokonaj agregacji zmiennej `distance` co 100 mil do nowej kolumny `distance_agg` oraz wyznacz odsetek opóźnień w każdym koszyku. Wynik zapisz do ramki o nazwie `flight_delays_by_distance_agg_df`.\n",
    " 1. Narysuj wykres słupkowy, używając danych zapisanych w `flight_delays_by_distance_agg_df`.\n",
    " 1. Czy Twoim zdaniem większy dystans oznacza większe prawdopodobieństwo opóźnienia lotu? Uzasadnij.\n",
    "\n",
    " Wskazówka:\n",
    " - Przy generowaniu losowych wierszy przyda sie link do dokumentacji metody `sample`: [klik](https://pandas.pydata.org/docs/reference/api/pandas.DataFrame.sample.html)\n",
    " - Przy generowaniu grup przyda się link do dokumentacji metody `cut`: [klik](https://pandas.pydata.org/docs/reference/api/pandas.cut.html)\n",
    "\n",
    " > Dla dużych zbiorów danych kreślenie wszystkich danych mija się z celem ze względu na czytelność. Mimo że zaprezentujemy pewną część zbioru, zakładamy, że danych na wykresie jest na tyle dużo, że stanowią one reprezentacyjną próbkę populacji."
   ]
  },
  {
   "cell_type": "markdown",
   "metadata": {
    "id": "4BmJDykhfPTi"
   },
   "source": [
    " Tutaj dokonaj agregacji danych do ramki `flight_distance_analysis_df`"
   ]
  },
  {
   "cell_type": "code",
   "execution_count": null,
   "metadata": {
    "id": "NIjw3Fv8fPTj"
   },
   "outputs": [],
   "source": [
    "flight_distance_analysis_df = (\n",
    "    flight_df[\"distance\"].describe(\n",
    "        [0.1, 0.25, 0.5, 0.75, 0.9, 0.95, 0.99]).round(2)\n",
    ")"
   ]
  },
  {
   "cell_type": "markdown",
   "metadata": {
    "id": "JU2vf5EGfPTj"
   },
   "source": [
    " Tutaj narysuj wykres dla 10 000 losowych wierszy z tabeli `flight_df`"
   ]
  },
  {
   "cell_type": "code",
   "execution_count": null,
   "metadata": {},
   "outputs": [],
   "source": [
    "flight_sample_df = flight_df.sample(10000, replace=False, ignore_index=True)"
   ]
  },
  {
   "cell_type": "code",
   "execution_count": null,
   "metadata": {
    "id": "5tsOsy6XfPTj"
   },
   "outputs": [],
   "source": [
    "plt.figure(figsize=(15, 10))\n",
    "plt.scatter(flight_sample_df[\"distance\"],\n",
    "            flight_sample_df[\"dep_delay\"], alpha=0.3)\n",
    "\n",
    "plt.ylabel(\"Opóżnienie odlotów w min\")\n",
    "plt.xlabel(\"Odległość do portu przeznaczenia w milach\")\n",
    "plt.title(\"Zależność opóżnienia od odległości do celu\")\n",
    "plt.grid(axis=\"both\")\n",
    "plt.show()"
   ]
  },
  {
   "cell_type": "markdown",
   "metadata": {
    "id": "Iq_qqPK3fPTj"
   },
   "source": [
    " Tutaj usuń z ramki `flight_df` wiersze, dla których `distance` jest powyżej `95% percentyla` (> 95%)"
   ]
  },
  {
   "cell_type": "code",
   "execution_count": null,
   "metadata": {
    "id": "U6tgYJLbfPTj"
   },
   "outputs": [],
   "source": [
    "flight_df = flight_df[(flight_df[\"distance\"] <=\n",
    "                       flight_df[\"distance\"].quantile(0.95))]"
   ]
  },
  {
   "cell_type": "markdown",
   "metadata": {},
   "source": [
    "### Sprawdzenie"
   ]
  },
  {
   "cell_type": "code",
   "execution_count": null,
   "metadata": {},
   "outputs": [],
   "source": [
    "flight_df_expected_rows_amount = 6922924\n",
    "flight_df_rows_amount = flight_df.shape[0]\n",
    "assert (\n",
    "    flight_df_rows_amount == flight_df_expected_rows_amount\n",
    "), f\"Oczekiwano {flight_df_expected_rows_amount} wierszy, otrzymano {flight_df_rows_amount}\""
   ]
  },
  {
   "cell_type": "markdown",
   "metadata": {
    "id": "AfIIhlJBfPTj"
   },
   "source": [
    " Tutaj dokonaj agregacji zmiennej `distance` oraz wyznacz odsetek opóźnień"
   ]
  },
  {
   "cell_type": "code",
   "execution_count": null,
   "metadata": {},
   "outputs": [],
   "source": [
    "fight_distance_max = flight_df.distance.max().round(-2)\n",
    "fight_distance_min = flight_df.distance.min().round(-2)\n",
    "print(f\"maksymalna długość lotu: {flight_df.distance.max()}\")\n",
    "print(f\"minimalna długość lotu: {flight_df.distance.min()}\")\n",
    "print(\n",
    "    f\"Maksymalna długość po zaokrągleniu w góre do wielokrotności 100: {fight_distance_max}\"\n",
    ")\n",
    "print(\n",
    "    f\"Minimalna długość po zaokrągleniu w dół do wielokrotności 100: {fight_distance_min}\"\n",
    ")"
   ]
  },
  {
   "cell_type": "code",
   "execution_count": null,
   "metadata": {},
   "outputs": [],
   "source": [
    "bins_len = 100\n",
    "flight_df[\"distance_agg\"] = pd.cut(\n",
    "    flight_df.distance,\n",
    "    bins=range(\n",
    "        fight_distance_min,\n",
    "        fight_distance_max\n",
    "        + bins_len,  # dodajemy jeden koszyk z prawej strony by zmieścić wartość maksymalną\n",
    "        bins_len,\n",
    "    ),\n",
    ")\n",
    "# zakresy odleŋłości przypisane do distance\n",
    "flight_df[[\"distance\", \"distance_agg\"]]"
   ]
  },
  {
   "cell_type": "code",
   "execution_count": null,
   "metadata": {},
   "outputs": [],
   "source": [
    "flight_delays_sum_count = flight_df.groupby(\"distance_agg\", as_index=None).agg(\n",
    "    {\"is_delayed\": [\"sum\", \"count\"]}\n",
    ")\n",
    "# obliczanie factor jako współczynnika opóżnionych odlotów do wszystkich\n",
    "flight_delays_sum_count[\"factor\"] = (\n",
    "    flight_delays_sum_count.is_delayed[\"sum\"] /\n",
    "    flight_delays_sum_count.is_delayed[\"count\"]\n",
    ").round(5)\n",
    "\n",
    "flight_delays_sum_count"
   ]
  },
  {
   "cell_type": "code",
   "execution_count": null,
   "metadata": {},
   "outputs": [],
   "source": [
    "flight_delays_by_distance_agg_df = flight_delays_sum_count[\n",
    "    [\"distance_agg\", \"factor\"]\n",
    "].copy()\n",
    "flight_delays_by_distance_agg_df"
   ]
  },
  {
   "cell_type": "markdown",
   "metadata": {
    "id": "c7vSl-h2fPTj"
   },
   "source": [
    " Tutaj narysuj wykres słupkowy, używając danych zapisanych w `flight_delays_by_distance_agg_df`"
   ]
  },
  {
   "cell_type": "code",
   "execution_count": null,
   "metadata": {},
   "outputs": [],
   "source": [
    "plt.figure(figsize=(15, 10))\n",
    "x, y = [], []\n",
    "\n",
    "for index, row in flight_delays_by_distance_agg_df.iterrows():\n",
    "    x.append(row[\"distance_agg\"].sort_index().to_string())\n",
    "    y.append(row[\"factor\"] * 100)\n",
    "\n",
    "plt.plot(\n",
    "    x,  # flight_delays_sum_count.index\n",
    "    y,\n",
    "    drawstyle=\"steps-mid\",\n",
    "    label=(\"Procent opóżnionych odlotów\"),\n",
    ")\n",
    "\n",
    "\n",
    "plt.xlabel(\"Dystans\")\n",
    "plt.ylabel(\"Udział opóżnionych wylotów > 15min w %\")\n",
    "plt.title(\"Odloty wg grup co 100 mil do lotniska docelowego\")\n",
    "plt.legend()\n",
    "plt.grid(axis=\"both\")\n",
    "\n",
    "plt.show()"
   ]
  },
  {
   "cell_type": "markdown",
   "metadata": {
    "id": "yvyx1lfdfPTk"
   },
   "source": [
    " ## Sprawdzenie\n",
    " Uruchom kod poniżej, aby sprawdzić, czy ta część została poprawnie wykonana"
   ]
  },
  {
   "cell_type": "code",
   "execution_count": null,
   "metadata": {
    "id": "d5qCjpzGfPTk"
   },
   "outputs": [],
   "source": [
    "assert (\n",
    "    \"distance_agg\" in flight_df.columns\n",
    "), \"Nie odnaleziono kolumny distance_agg w ramce flight_df\""
   ]
  },
  {
   "cell_type": "markdown",
   "metadata": {
    "id": "Ebk-kU1yfPTk"
   },
   "source": [
    " # Opóźnienia vs. grupa odległości\n",
    " Przeanalizuj kolumnę `distance_group` dostępą w zbiorze danych oraz odpowiedz na poniższe:\n",
    " 1. Dla jakich odcinków zostały wyznaczone poszczególne grupy? Wyznacz maksymalną oraz minimalną `distance` wartość w poszczególnych grupach. Wynik zapisz do ramki `flight_distance_by_distance_group`.\n",
    " 1. Wyznacz prawdopodobieństwo opóźnienia przy użyciu tych grup. Wynik zapisz do ramki `flight_delays_by_distance_group_df`.\n",
    " 1. Używając ramki `flight_delays_by_distance_group_df`, wykreśl odpowiedni wykres wizualizujący dane.\n",
    " 1. Na ile zbieżne są wyniki tej analizy z tą wykonaną w poprzednim punkcie?\n",
    "\n",
    "Wskazówka do punktu pierwszego:\n",
    " - Do agregacji danych przyda się metoda `agg`: `Python - analiza danych -> Dzień 5 - Pandas -> Grupowanie`\n",
    " - Dokumentacja metody `agg`: [klik](https://pandas.pydata.org/pandas-docs/stable/reference/api/pandas.DataFrame.agg.html)"
   ]
  },
  {
   "cell_type": "markdown",
   "metadata": {
    "id": "eTAVEgEpfPTk"
   },
   "source": [
    "Tutaj wyznacz odcinki, dla których zostały wyznaczone poszczególne grupy"
   ]
  },
  {
   "cell_type": "code",
   "execution_count": null,
   "metadata": {
    "id": "lPOs9od5fPTk"
   },
   "outputs": [],
   "source": [
    "flight_df.groupby(\"distance_group\").agg({\"distance\": [\"min\", \"max\"]})"
   ]
  },
  {
   "cell_type": "markdown",
   "metadata": {
    "id": "fI4Ynl6QfPTk"
   },
   "source": [
    " Tutaj wyznacz odsetek opóźnień w każdej grupie zapisując wyniki do ramki `flight_delays_by_distance_group_df`"
   ]
  },
  {
   "cell_type": "code",
   "execution_count": null,
   "metadata": {},
   "outputs": [],
   "source": [
    "df_tmp = flight_df.groupby(\"distance_group\", as_index=True).agg(\n",
    "    {\"is_delayed\": [\"sum\", \"count\"]}\n",
    ")\n",
    "df_tmp[\"factor\"] = (\n",
    "    df_tmp.is_delayed[\"sum\"]\n",
    "    / (\n",
    "        df_tmp.is_delayed[\"count\"]\n",
    "        # - df_tmp.is_delayed[\"sum\"]\n",
    "    )\n",
    ").round(4)\n",
    "df_tmp"
   ]
  },
  {
   "cell_type": "code",
   "execution_count": null,
   "metadata": {
    "id": "DGuIVOGifPTk"
   },
   "outputs": [],
   "source": [
    "flight_delays_by_distance_group_df = df_tmp[[\"factor\"]].copy()\n",
    "flight_delays_by_distance_group_df"
   ]
  },
  {
   "cell_type": "markdown",
   "metadata": {
    "id": "_G_-dJHXfPTl"
   },
   "source": [
    " Tutaj narysuj wykres przy użyciu ramki `flight_delays_by_distance_group_df`"
   ]
  },
  {
   "cell_type": "code",
   "execution_count": null,
   "metadata": {
    "id": "vXL5chp3fPTl"
   },
   "outputs": [],
   "source": [
    "plt.figure(figsize=(15, 10))\n",
    "\n",
    "plt.plot(\n",
    "    flight_delays_by_distance_group_df.index,\n",
    "    flight_delays_by_distance_group_df[\"factor\"] * 100,\n",
    "    drawstyle=\"steps-mid\",\n",
    ")\n",
    "\n",
    "plt.xlabel(\"Grupa Odległości\")\n",
    "# plt.xticks(flight_delays_by_distance_agg_df['distance_agg'].to_string())\n",
    "plt.ylabel(\"Udział opóżnionych wylotów > 15min w %\")\n",
    "plt.title(\"Opóżnione wyloty wg grup dystansu\")\n",
    "\n",
    "plt.grid(axis=\"both\")\n",
    "plt.show()"
   ]
  },
  {
   "cell_type": "markdown",
   "metadata": {
    "id": "8GD6EcCOfPTl"
   },
   "source": [
    " ## Czy większy dystans oznacza większe prawdopodobieństwo opóźeninia lotu?\n",
    " Miejsce na Twój komentarz - czy wykresy można porównać? Czy dają takie same wnioski?"
   ]
  },
  {
   "cell_type": "markdown",
   "metadata": {
    "id": "ilUyQqL0fPTl"
   },
   "source": [
    "Wykresy można porównać. Rozkład opóżnienień zagregowanych co 100 mil jest rosnący wraz z dystansem, tak jak rozkład wg grup co 250mil.\n",
    "Wraz z odległością planowanych odlotów rośnie spodziewane opóżnienie"
   ]
  },
  {
   "cell_type": "markdown",
   "metadata": {
    "id": "5cbaMmfFfPTl"
   },
   "source": [
    " # Podsumowanie\n",
    " W tym notatniku dość dokładnie przeanalizowaliśmy ramkę `fligh_delays` bez wzbogacania jej o dodatkowe dane z innych źródeł, takich jak dane pogodowe.\n",
    "\n",
    " Zanim przejdziemy dalej, należy zapisać bieżącą postać ramki (najlepiej lokalnie), która zostanie użyta w kolejnym notatniku.\n",
    "\n",
    " > **Wskazówka:**  \n",
    " > Aby uniknąć potencjalnych problemów, najlepiej zapisać ramkę w sposób nawiązujący do tego notatnika, np. `flight_df_01`."
   ]
  },
  {
   "cell_type": "markdown",
   "metadata": {
    "id": "B01zpWkXfPTl"
   },
   "source": [
    " Tutaj zapisz ramkę w najdogodniejszy dla siebie sposób."
   ]
  },
  {
   "cell_type": "code",
   "execution_count": null,
   "metadata": {
    "id": "UUC6Rs-ffPTl"
   },
   "outputs": [],
   "source": [
    "flight_delays_df.info()"
   ]
  },
  {
   "cell_type": "code",
   "execution_count": null,
   "metadata": {},
   "outputs": [],
   "source": [
    "flight_delays_df.to_csv(\"../data/processed/flight_delays_01.csv\", index=False)"
   ]
  },
  {
   "cell_type": "code",
   "execution_count": null,
   "metadata": {},
   "outputs": [],
   "source": [
    "flight_df.info()"
   ]
  },
  {
   "cell_type": "code",
   "execution_count": null,
   "metadata": {},
   "outputs": [],
   "source": [
    "flight_df.to_csv(\"../data/processed/flight_01.csv\", index=False)"
   ]
  },
  {
   "cell_type": "code",
   "execution_count": null,
   "metadata": {},
   "outputs": [],
   "source": []
  }
 ],
 "metadata": {
  "colab": {
   "provenance": []
  },
  "kernelspec": {
   "display_name": ".venv",
   "language": "python",
   "name": "python3"
  },
  "language_info": {
   "codemirror_mode": {
    "name": "ipython",
    "version": 3
   },
   "file_extension": ".py",
   "mimetype": "text/x-python",
   "name": "python",
   "nbconvert_exporter": "python",
   "pygments_lexer": "ipython3",
   "version": "3.10.12"
  },
  "widgets": {
   "application/vnd.jupyter.widget-state+json": {
    "state": {},
    "version_major": 2,
    "version_minor": 0
   }
  }
 },
 "nbformat": 4,
 "nbformat_minor": 4
}
