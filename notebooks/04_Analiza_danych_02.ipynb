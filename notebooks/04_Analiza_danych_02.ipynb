{
 "cells": [
  {
   "cell_type": "markdown",
   "metadata": {
    "id": "jAExAGbhgaHX"
   },
   "source": [
    " # Opis notatnika\n",
    " Ten notatnik jest kontunacją analizy danych o lotach i ich opóźnieniach. Od tego momentu zaczniemy łączyć posiadana przez nas zbiory danych, będąc w stanie dokonać dodatkowych analiz.\n",
    "\n",
    " Zanim jednak do tego przejdziemy, należy, podobnie jak w poprzednim kroku, skonfigurować odpowiednio notatnik."
   ]
  },
  {
   "cell_type": "markdown",
   "metadata": {
    "id": "doT2Uyf2gaHd"
   },
   "source": [
    " Tutaj zaimportuj wymagane biblioteki"
   ]
  },
  {
   "cell_type": "code",
   "execution_count": 1,
   "metadata": {
    "id": "iRCQjALFgaHf"
   },
   "outputs": [],
   "source": [
    "from sqlalchemy import create_engine\n",
    "import numpy as np\n",
    "import matplotlib.pyplot as plt\n",
    "import matplotlib.mlab as mlab\n",
    "import pandas as pd\n",
    "import sys\n",
    "sys.path.append('../')\n",
    "\n",
    "pd.set_option(\"display.max_colwidth\", 3000)\n",
    "pd.set_option(\"display.max_columns\", None)\n",
    "\n",
    "%matplotlib inline\n"
   ]
  },
  {
   "cell_type": "markdown",
   "metadata": {
    "id": "CoY7okiigaHg"
   },
   "source": [
    " ## Połączenie z bazą danych\n",
    " Tutaj uzupełnij konfigurację połączenia"
   ]
  },
  {
   "cell_type": "code",
   "execution_count": 2,
   "metadata": {
    "id": "wvlz6PgfgaHh"
   },
   "outputs": [],
   "source": [
    "from config.DB_connect import username, passwd, hostname, db_name, port"
   ]
  },
  {
   "cell_type": "markdown",
   "metadata": {
    "id": "RUZ_piKngaHi"
   },
   "source": [
    " Tutaj stwórz zmienną engine, która zostanie użyta do połączenia z bazą danych"
   ]
  },
  {
   "cell_type": "code",
   "execution_count": 3,
   "metadata": {
    "id": "1OSLh07PgaHj"
   },
   "outputs": [],
   "source": [
    "url = f\"postgresql://{username}:{passwd}@{hostname}:{port}/{db_name}\"\n",
    "engine = create_engine(url, echo=False)"
   ]
  },
  {
   "cell_type": "markdown",
   "metadata": {
    "id": "ivD8wJOSgaHk"
   },
   "source": [
    " Tutaj uzupełnij implementację metody `read_sql_table`"
   ]
  },
  {
   "cell_type": "code",
   "execution_count": 4,
   "metadata": {
    "id": "rSWdvp1qgaHl"
   },
   "outputs": [],
   "source": [
    "def read_sql_table(table_name):\n",
    "    return pd.read_sql(f\"SELECT * FROM {table_name}\", engine)"
   ]
  },
  {
   "cell_type": "markdown",
   "metadata": {
    "id": "s5DfssdmgaHm"
   },
   "source": [
    " Tutaj zaczytaj zapisaną wcześniej ramkę danych `flight_df` do zmniennej o takiej samej nazwie"
   ]
  },
  {
   "cell_type": "code",
   "execution_count": 5,
   "metadata": {
    "id": "N-LGijOxgaHm"
   },
   "outputs": [
    {
     "name": "stdout",
     "output_type": "stream",
     "text": [
      "<class 'pandas.core.frame.DataFrame'>\n",
      "RangeIndex: 6922924 entries, 0 to 6922923\n",
      "Data columns (total 31 columns):\n",
      " #   Column               Dtype  \n",
      "---  ------               -----  \n",
      " 0   id                   int64  \n",
      " 1   month                int64  \n",
      " 2   day_of_month         int64  \n",
      " 3   day_of_week          int64  \n",
      " 4   op_unique_carrier    object \n",
      " 5   tail_num             object \n",
      " 6   op_carrier_fl_num    int64  \n",
      " 7   origin_airport_id    int64  \n",
      " 8   dest_airport_id      int64  \n",
      " 9   crs_dep_time         int64  \n",
      " 10  dep_time             float64\n",
      " 11  dep_delay            float64\n",
      " 12  dep_time_blk         object \n",
      " 13  crs_arr_time         int64  \n",
      " 14  arr_time             float64\n",
      " 15  arr_delay_new        float64\n",
      " 16  arr_time_blk         object \n",
      " 17  cancelled            int64  \n",
      " 18  crs_elapsed_time     float64\n",
      " 19  actual_elapsed_time  float64\n",
      " 20  distance             int64  \n",
      " 21  distance_group       int64  \n",
      " 22  year                 int64  \n",
      " 23  carrier_delay        float64\n",
      " 24  weather_delay        float64\n",
      " 25  nas_delay            float64\n",
      " 26  security_delay       float64\n",
      " 27  late_aircraft_delay  float64\n",
      " 28  is_delayed           bool   \n",
      " 29  is_weekend           bool   \n",
      " 30  distance_agg         object \n",
      "dtypes: bool(2), float64(11), int64(13), object(5)\n",
      "memory usage: 1.5+ GB\n"
     ]
    }
   ],
   "source": [
    "flight_df = pd.read_csv(\"../data/processed/flight_01.csv\", index_col=None)\n",
    "flight_df.info()"
   ]
  },
  {
   "cell_type": "markdown",
   "metadata": {},
   "source": [
    "Sprawdzenie poprawności danych w ramce `flight_df` "
   ]
  },
  {
   "cell_type": "code",
   "execution_count": 6,
   "metadata": {},
   "outputs": [],
   "source": [
    "flight_df_expected_rows_amount = 6922924\n",
    "flight_df_rows_amount = flight_df.shape[0]\n",
    "\n",
    "assert (\n",
    "    flight_df_rows_amount == flight_df_expected_rows_amount\n",
    "), f\"Oczekiwano {flight_df_expected_rows_amount} wierszy, otrzymano {flight_df_rows_amount}\""
   ]
  },
  {
   "cell_type": "markdown",
   "metadata": {
    "id": "RQ87C_Y3gaHn"
   },
   "source": [
    " # Wzbogacenie o `aircraft`\n",
    " Używając procedury `read_sql_table` wczytaj dane z tabeli `aircraft` i zapisz jako `aircraft_df`. Następnie:\n",
    " 1. Usuń z ramki kolumny `number_of_seats` oraz `id`. Na tej podstawie usuń nadmiarowe wiersze (duplikaty).\n",
    " 1. Następnie jeszcze raz sprawdź, czy dla kolumny `tail_num` nie występują duplikaty. Innymi słowy, należy sprawdzić, czy dla jednego `tail_num` występuje więcej niż jeden rok produkcji.\n",
    " 1. Jeśli tak to:\n",
    "     - do ramki `aircraft_df_duplicated` zapisz powielone zgodnie ze sprawdzeniem wiersze,\n",
    "     - zgodnie z powyższym zmodyfikuj ramkę tak, aby w przypadku duplikatu za datę wytworzenia samolotu uznana została data najnowsza tj. jeśli dla `tail_num` są dostępne daty produkcji 1998 oraz 2001, uznajemy, że `tail_num` został wyprodukowany w `2001`.\n",
    "\n",
    " Wskazówki:\n",
    " - Praca z duplikatami na LMS: `Python - analiza danych -> Dzień 5 - Pandas -> Duplikaty`\n",
    " - Dokumentacja metody `duplicated`: [klik](https://pandas.pydata.org/docs/reference/api/pandas.DataFrame.duplicated.html)\n",
    " - Dokumentacja metody `drop_duplicates`: [klik](https://pandas.pydata.org/docs/reference/api/pandas.DataFrame.drop_duplicates.html)"
   ]
  },
  {
   "cell_type": "markdown",
   "metadata": {
    "id": "CjRo5lWZgaHo"
   },
   "source": [
    " Tutaj wczytaj tabelę `aircraft` używając `read_sql_table`"
   ]
  },
  {
   "cell_type": "code",
   "execution_count": 7,
   "metadata": {
    "id": "HonLC9KegaHo"
   },
   "outputs": [
    {
     "data": {
      "text/plain": [
       "(7383, 4)"
      ]
     },
     "execution_count": 7,
     "metadata": {},
     "output_type": "execute_result"
    }
   ],
   "source": [
    "aircraft_df = read_sql_table(\"aircraft\")\n",
    "aircraft_df.shape"
   ]
  },
  {
   "cell_type": "markdown",
   "metadata": {
    "id": "yOlndV2IgaHp"
   },
   "source": [
    " Tutaj usuń kolumnę `number_of_seats` oraz duplikaty z ramki `aircraft_df`"
   ]
  },
  {
   "cell_type": "code",
   "execution_count": 8,
   "metadata": {
    "id": "UEGn63ligaHp"
   },
   "outputs": [],
   "source": [
    "aircraft_df.drop(columns=[\"id\", \"number_of_seats\"], inplace=True)"
   ]
  },
  {
   "cell_type": "code",
   "execution_count": 9,
   "metadata": {},
   "outputs": [
    {
     "data": {
      "text/html": [
       "<div>\n",
       "<style scoped>\n",
       "    .dataframe tbody tr th:only-of-type {\n",
       "        vertical-align: middle;\n",
       "    }\n",
       "\n",
       "    .dataframe tbody tr th {\n",
       "        vertical-align: top;\n",
       "    }\n",
       "\n",
       "    .dataframe thead th {\n",
       "        text-align: right;\n",
       "    }\n",
       "</style>\n",
       "<table border=\"1\" class=\"dataframe\">\n",
       "  <thead>\n",
       "    <tr style=\"text-align: right;\">\n",
       "      <th></th>\n",
       "      <th>manufacture_year</th>\n",
       "      <th>tail_num</th>\n",
       "    </tr>\n",
       "  </thead>\n",
       "  <tbody>\n",
       "    <tr>\n",
       "      <th>845</th>\n",
       "      <td>1993</td>\n",
       "      <td>N399CM</td>\n",
       "    </tr>\n",
       "    <tr>\n",
       "      <th>1213</th>\n",
       "      <td>1997</td>\n",
       "      <td>N1439A</td>\n",
       "    </tr>\n",
       "    <tr>\n",
       "      <th>1547</th>\n",
       "      <td>1999</td>\n",
       "      <td>N1049A</td>\n",
       "    </tr>\n",
       "    <tr>\n",
       "      <th>1733</th>\n",
       "      <td>1999</td>\n",
       "      <td>N781CA</td>\n",
       "    </tr>\n",
       "    <tr>\n",
       "      <th>2108</th>\n",
       "      <td>2000</td>\n",
       "      <td>N854AS</td>\n",
       "    </tr>\n",
       "    <tr>\n",
       "      <th>2110</th>\n",
       "      <td>2000</td>\n",
       "      <td>N856AS</td>\n",
       "    </tr>\n",
       "    <tr>\n",
       "      <th>2112</th>\n",
       "      <td>2000</td>\n",
       "      <td>N860AS</td>\n",
       "    </tr>\n",
       "    <tr>\n",
       "      <th>2512</th>\n",
       "      <td>2001</td>\n",
       "      <td>N862AS</td>\n",
       "    </tr>\n",
       "    <tr>\n",
       "      <th>2516</th>\n",
       "      <td>2001</td>\n",
       "      <td>N868AS</td>\n",
       "    </tr>\n",
       "    <tr>\n",
       "      <th>2521</th>\n",
       "      <td>2001</td>\n",
       "      <td>N881AS</td>\n",
       "    </tr>\n",
       "    <tr>\n",
       "      <th>2523</th>\n",
       "      <td>2001</td>\n",
       "      <td>N884AS</td>\n",
       "    </tr>\n",
       "    <tr>\n",
       "      <th>2537</th>\n",
       "      <td>2001</td>\n",
       "      <td>N870AS</td>\n",
       "    </tr>\n",
       "    <tr>\n",
       "      <th>2538</th>\n",
       "      <td>2001</td>\n",
       "      <td>N871AS</td>\n",
       "    </tr>\n",
       "    <tr>\n",
       "      <th>2859</th>\n",
       "      <td>2002</td>\n",
       "      <td>N903EV</td>\n",
       "    </tr>\n",
       "    <tr>\n",
       "      <th>2861</th>\n",
       "      <td>2002</td>\n",
       "      <td>N905EV</td>\n",
       "    </tr>\n",
       "    <tr>\n",
       "      <th>2864</th>\n",
       "      <td>2002</td>\n",
       "      <td>N908EV</td>\n",
       "    </tr>\n",
       "    <tr>\n",
       "      <th>2865</th>\n",
       "      <td>2002</td>\n",
       "      <td>N909EV</td>\n",
       "    </tr>\n",
       "    <tr>\n",
       "      <th>2903</th>\n",
       "      <td>2002</td>\n",
       "      <td>N416MC</td>\n",
       "    </tr>\n",
       "    <tr>\n",
       "      <th>4519</th>\n",
       "      <td>2008</td>\n",
       "      <td>N235JQ</td>\n",
       "    </tr>\n",
       "  </tbody>\n",
       "</table>\n",
       "</div>"
      ],
      "text/plain": [
       "      manufacture_year tail_num\n",
       "845               1993   N399CM\n",
       "1213              1997   N1439A\n",
       "1547              1999   N1049A\n",
       "1733              1999   N781CA\n",
       "2108              2000   N854AS\n",
       "2110              2000   N856AS\n",
       "2112              2000   N860AS\n",
       "2512              2001   N862AS\n",
       "2516              2001   N868AS\n",
       "2521              2001   N881AS\n",
       "2523              2001   N884AS\n",
       "2537              2001   N870AS\n",
       "2538              2001   N871AS\n",
       "2859              2002   N903EV\n",
       "2861              2002   N905EV\n",
       "2864              2002   N908EV\n",
       "2865              2002   N909EV\n",
       "2903              2002   N416MC\n",
       "4519              2008   N235JQ"
      ]
     },
     "execution_count": 9,
     "metadata": {},
     "output_type": "execute_result"
    }
   ],
   "source": [
    "aircraft_df[aircraft_df.duplicated()]"
   ]
  },
  {
   "cell_type": "code",
   "execution_count": 10,
   "metadata": {},
   "outputs": [
    {
     "data": {
      "text/plain": [
       "(7364, 2)"
      ]
     },
     "execution_count": 10,
     "metadata": {},
     "output_type": "execute_result"
    }
   ],
   "source": [
    "aircraft_df.drop_duplicates(inplace=True)\n",
    "aircraft_df.shape"
   ]
  },
  {
   "cell_type": "markdown",
   "metadata": {
    "id": "84hMytzggaHp"
   },
   "source": [
    " ### Sprawdzenie\n",
    " Uruchom kod poniżej, aby sprawdzić, czy ta część została poprawnie wykonana"
   ]
  },
  {
   "cell_type": "code",
   "execution_count": 11,
   "metadata": {
    "id": "92fbP8GWgaHq"
   },
   "outputs": [],
   "source": [
    "aircraft_df_expected_rows = 7364\n",
    "aircraft_df_expected_columns = set([\"tail_num\", \"manufacture_year\"])\n",
    "\n",
    "aircraft_df_rows = aircraft_df.shape[0]\n",
    "\n",
    "diff = aircraft_df_expected_columns.symmetric_difference(\n",
    "    set(aircraft_df.columns))\n",
    "assert (\n",
    "    aircraft_df_rows == aircraft_df_expected_rows\n",
    "), f\"Spodziewano się {aircraft_df_expected_rows} wierszy , otrzymano {aircraft_df_rows} wierszy\"\n",
    "\n",
    "assert diff == set(\n",
    "    []\n",
    "), f\"Spodziewano się {aircraft_df_expected_columns} kolumn, otrzymano: {aircraft_df_expected_columns} kolumn. Różnica: \\n\\t{diff}\""
   ]
  },
  {
   "cell_type": "markdown",
   "metadata": {
    "id": "7u8fZKwsgaHq"
   },
   "source": [
    " Tutaj sprawdź, czy w ramkce `aircraft_df` występują duplikaty wewnątrz kolumny `tail_num`. Czyli czy dla danego `tail_num` występuje więcej niż jeden rok produkcji."
   ]
  },
  {
   "cell_type": "code",
   "execution_count": 12,
   "metadata": {},
   "outputs": [],
   "source": [
    "aircraft_df_duplicated = aircraft_df[aircraft_df[\"tail_num\"].duplicated()]"
   ]
  },
  {
   "cell_type": "markdown",
   "metadata": {
    "id": "LpcUztUegaHr"
   },
   "source": [
    " ### Sprawdzenie\n",
    " Uruchom kod poniżej, aby sprawdzić, czy ta część została poprawnie wykonana"
   ]
  },
  {
   "cell_type": "code",
   "execution_count": 13,
   "metadata": {
    "id": "NllXIVYsgaHr"
   },
   "outputs": [],
   "source": [
    "aircraft_df_expected_rows = 3\n",
    "aircraft_df_duplicated_rows = aircraft_df_duplicated.shape[0]\n",
    "assert (\n",
    "    aircraft_df_duplicated_rows == aircraft_df_expected_rows\n",
    "), f\"Oczekiwano {aircraft_df_expected_rows} wierszy, otrzymano {aircraft_df_duplicated_rows}\""
   ]
  },
  {
   "cell_type": "markdown",
   "metadata": {
    "id": "M_hkZH-agaHs"
   },
   "source": [
    " ## Modyfikacja `aircraft_df`\n",
    " Tutaj dokonaj aktualizacji tabeli `aircraft_df` - jeśli jest taka potrzeba. Zrób to tak aby, dla powielonych `tail_num`, `manufacture_year` został ustawiony jako najwyższy"
   ]
  },
  {
   "cell_type": "code",
   "execution_count": 14,
   "metadata": {
    "id": "vH8EshdJgaHs"
   },
   "outputs": [
    {
     "name": "stdout",
     "output_type": "stream",
     "text": [
      "<class 'pandas.core.frame.DataFrame'>\n",
      "Index: 7361 entries, 0 to 7382\n",
      "Data columns (total 2 columns):\n",
      " #   Column            Non-Null Count  Dtype \n",
      "---  ------            --------------  ----- \n",
      " 0   manufacture_year  7361 non-null   int64 \n",
      " 1   tail_num          7361 non-null   object\n",
      "dtypes: int64(1), object(1)\n",
      "memory usage: 172.5+ KB\n"
     ]
    }
   ],
   "source": [
    "aircraft_df.drop_duplicates(subset=\"tail_num\", keep=\"last\", inplace=True)\n",
    "aircraft_df.info()"
   ]
  },
  {
   "cell_type": "markdown",
   "metadata": {
    "id": "yv8pdTsFgaHs"
   },
   "source": [
    " ### Sprawdzenie\n",
    " Uruchom kod poniżej, aby sprawdzić, czy ta część została poprawnie wykonana"
   ]
  },
  {
   "cell_type": "code",
   "execution_count": 15,
   "metadata": {
    "id": "EkVd019QgaHs"
   },
   "outputs": [],
   "source": [
    "test_tail = \"N783CA\"\n",
    "test_value = aircraft_df.loc[aircraft_df[\"tail_num\"]\n",
    "                             == test_tail][\"manufacture_year\"].iloc[0]\n",
    "test_value = int(test_value)\n",
    "\n",
    "expected_value = 2000\n",
    "assert (\n",
    "    test_value == expected_value\n",
    "), f\"Dla 'tail_num' == '{test_tail}' oczekiwano {expected_value} otrzymano {test_value}\""
   ]
  },
  {
   "cell_type": "markdown",
   "metadata": {
    "id": "T5RnP40AgaHt"
   },
   "source": [
    " ## Połączenie `aircraft_df` oraz `flight_df`\n",
    " Połącz ramkę `aircraft_df` oraz `flight_df` zgodnie z kluczem oraz odpowiedz na następujące pytania:\n",
    " 1. Czy po połączeniu pojawiły się duplikaty? Dokonaj odpowiedniego sprawdzenia.\n",
    " 1. Wyznacz zależność roku produkcji do częstotliwości opóźnień. Wynik zapisz do tabeli `delays_by_manufacture_year_df`.\n",
    " 1. Przedstaw wyniki w tabeli za pomocą wykresu punktowego.\n",
    " 1. Dokonaj modyfikacji w taki sposób, aby wyświetlone na wykresie zostały tylko takie roczniki samolotów, które wykonały łącznie więcej niż 10000 `(>)` lotów.\n",
    "\n",
    "> **Wskazówka:**\n",
    "> Aby nie utracić potencjalnie całej dotychczasowej pracy, zapisz wynik do tymczasowej zmiennej np. `tmp_flight_df`. Po sprawdzeniu możesz użyć metody `copy`: [link](https://pandas.pydata.org/docs/reference/api/pandas.DataFrame.copy.html), aby nadpisać `flight_df` używając `tmp_flight_df`."
   ]
  },
  {
   "cell_type": "markdown",
   "metadata": {
    "id": "mS5xRIjkgaHt"
   },
   "source": [
    " Tutaj dokonaj złączenia `flight_df` z `aircraft_df`, wynik zapisz do `tmp_flight_df`"
   ]
  },
  {
   "cell_type": "code",
   "execution_count": 16,
   "metadata": {
    "id": "5M7ZmGpugaHt"
   },
   "outputs": [],
   "source": [
    "tmp_flight_df = pd.merge(\n",
    "    left=flight_df, right=aircraft_df, how=\"left\", on=\"tail_num\")"
   ]
  },
  {
   "cell_type": "markdown",
   "metadata": {
    "id": "qn4n68zNgaHt"
   },
   "source": [
    " Tutaj dokonaj sprawdzenia, czy nie pojawiły się duplikaty"
   ]
  },
  {
   "cell_type": "code",
   "execution_count": 17,
   "metadata": {
    "id": "jz1FiBqXgaHu"
   },
   "outputs": [
    {
     "data": {
      "text/html": [
       "<div>\n",
       "<style scoped>\n",
       "    .dataframe tbody tr th:only-of-type {\n",
       "        vertical-align: middle;\n",
       "    }\n",
       "\n",
       "    .dataframe tbody tr th {\n",
       "        vertical-align: top;\n",
       "    }\n",
       "\n",
       "    .dataframe thead th {\n",
       "        text-align: right;\n",
       "    }\n",
       "</style>\n",
       "<table border=\"1\" class=\"dataframe\">\n",
       "  <thead>\n",
       "    <tr style=\"text-align: right;\">\n",
       "      <th></th>\n",
       "      <th>id</th>\n",
       "      <th>month</th>\n",
       "      <th>day_of_month</th>\n",
       "      <th>day_of_week</th>\n",
       "      <th>op_unique_carrier</th>\n",
       "      <th>tail_num</th>\n",
       "      <th>op_carrier_fl_num</th>\n",
       "      <th>origin_airport_id</th>\n",
       "      <th>dest_airport_id</th>\n",
       "      <th>crs_dep_time</th>\n",
       "      <th>dep_time</th>\n",
       "      <th>dep_delay</th>\n",
       "      <th>dep_time_blk</th>\n",
       "      <th>crs_arr_time</th>\n",
       "      <th>arr_time</th>\n",
       "      <th>arr_delay_new</th>\n",
       "      <th>arr_time_blk</th>\n",
       "      <th>cancelled</th>\n",
       "      <th>crs_elapsed_time</th>\n",
       "      <th>actual_elapsed_time</th>\n",
       "      <th>distance</th>\n",
       "      <th>distance_group</th>\n",
       "      <th>year</th>\n",
       "      <th>carrier_delay</th>\n",
       "      <th>weather_delay</th>\n",
       "      <th>nas_delay</th>\n",
       "      <th>security_delay</th>\n",
       "      <th>late_aircraft_delay</th>\n",
       "      <th>is_delayed</th>\n",
       "      <th>is_weekend</th>\n",
       "      <th>distance_agg</th>\n",
       "      <th>manufacture_year</th>\n",
       "    </tr>\n",
       "  </thead>\n",
       "  <tbody>\n",
       "  </tbody>\n",
       "</table>\n",
       "</div>"
      ],
      "text/plain": [
       "Empty DataFrame\n",
       "Columns: [id, month, day_of_month, day_of_week, op_unique_carrier, tail_num, op_carrier_fl_num, origin_airport_id, dest_airport_id, crs_dep_time, dep_time, dep_delay, dep_time_blk, crs_arr_time, arr_time, arr_delay_new, arr_time_blk, cancelled, crs_elapsed_time, actual_elapsed_time, distance, distance_group, year, carrier_delay, weather_delay, nas_delay, security_delay, late_aircraft_delay, is_delayed, is_weekend, distance_agg, manufacture_year]\n",
       "Index: []"
      ]
     },
     "execution_count": 17,
     "metadata": {},
     "output_type": "execute_result"
    }
   ],
   "source": [
    "tmp_flight_df[tmp_flight_df.duplicated()]"
   ]
  },
  {
   "cell_type": "markdown",
   "metadata": {
    "id": "HrpfJCXTgaHu"
   },
   "source": [
    " Tutaj nadpisz `flight_df` używając `tmp_flight_df`"
   ]
  },
  {
   "cell_type": "code",
   "execution_count": 18,
   "metadata": {},
   "outputs": [
    {
     "data": {
      "text/plain": [
       "True"
      ]
     },
     "execution_count": 18,
     "metadata": {},
     "output_type": "execute_result"
    }
   ],
   "source": [
    "flight_df.shape[0] == 6922924"
   ]
  },
  {
   "cell_type": "code",
   "execution_count": 19,
   "metadata": {},
   "outputs": [
    {
     "data": {
      "text/plain": [
       "True"
      ]
     },
     "execution_count": 19,
     "metadata": {},
     "output_type": "execute_result"
    }
   ],
   "source": [
    "tmp_flight_df.shape[0] == 6922924"
   ]
  },
  {
   "cell_type": "code",
   "execution_count": 20,
   "metadata": {
    "id": "ljwe8v4ngaHu"
   },
   "outputs": [
    {
     "data": {
      "text/plain": [
       "True"
      ]
     },
     "execution_count": 20,
     "metadata": {},
     "output_type": "execute_result"
    }
   ],
   "source": [
    "flight_df = tmp_flight_df.copy()\n",
    "flight_df.shape[0] == 6922924"
   ]
  },
  {
   "cell_type": "markdown",
   "metadata": {
    "id": "YRf_WVurgaHu"
   },
   "source": [
    " ## Opóźnienia vs. rok produkcji samolotu cz. 1\n",
    " Tutaj wyznacz zależność roku produkcji do częstotliwości opóźnień"
   ]
  },
  {
   "cell_type": "code",
   "execution_count": 21,
   "metadata": {
    "id": "cP8C-rxigaHu"
   },
   "outputs": [
    {
     "data": {
      "text/html": [
       "<div>\n",
       "<style scoped>\n",
       "    .dataframe tbody tr th:only-of-type {\n",
       "        vertical-align: middle;\n",
       "    }\n",
       "\n",
       "    .dataframe tbody tr th {\n",
       "        vertical-align: top;\n",
       "    }\n",
       "\n",
       "    .dataframe thead tr th {\n",
       "        text-align: left;\n",
       "    }\n",
       "</style>\n",
       "<table border=\"1\" class=\"dataframe\">\n",
       "  <thead>\n",
       "    <tr>\n",
       "      <th></th>\n",
       "      <th>manufacture_year</th>\n",
       "      <th colspan=\"2\" halign=\"left\">is_delayed</th>\n",
       "    </tr>\n",
       "    <tr>\n",
       "      <th></th>\n",
       "      <th></th>\n",
       "      <th>sum</th>\n",
       "      <th>count</th>\n",
       "    </tr>\n",
       "  </thead>\n",
       "  <tbody>\n",
       "    <tr>\n",
       "      <th>0</th>\n",
       "      <td>1987.0</td>\n",
       "      <td>380</td>\n",
       "      <td>3720</td>\n",
       "    </tr>\n",
       "    <tr>\n",
       "      <th>1</th>\n",
       "      <td>1988.0</td>\n",
       "      <td>601</td>\n",
       "      <td>5189</td>\n",
       "    </tr>\n",
       "    <tr>\n",
       "      <th>2</th>\n",
       "      <td>1989.0</td>\n",
       "      <td>14</td>\n",
       "      <td>40</td>\n",
       "    </tr>\n",
       "    <tr>\n",
       "      <th>3</th>\n",
       "      <td>1990.0</td>\n",
       "      <td>2905</td>\n",
       "      <td>24017</td>\n",
       "    </tr>\n",
       "    <tr>\n",
       "      <th>4</th>\n",
       "      <td>1991.0</td>\n",
       "      <td>5541</td>\n",
       "      <td>38696</td>\n",
       "    </tr>\n",
       "    <tr>\n",
       "      <th>5</th>\n",
       "      <td>1992.0</td>\n",
       "      <td>9181</td>\n",
       "      <td>63888</td>\n",
       "    </tr>\n",
       "    <tr>\n",
       "      <th>6</th>\n",
       "      <td>1993.0</td>\n",
       "      <td>3989</td>\n",
       "      <td>23309</td>\n",
       "    </tr>\n",
       "    <tr>\n",
       "      <th>7</th>\n",
       "      <td>1994.0</td>\n",
       "      <td>4718</td>\n",
       "      <td>21450</td>\n",
       "    </tr>\n",
       "    <tr>\n",
       "      <th>8</th>\n",
       "      <td>1995.0</td>\n",
       "      <td>4766</td>\n",
       "      <td>25468</td>\n",
       "    </tr>\n",
       "    <tr>\n",
       "      <th>9</th>\n",
       "      <td>1996.0</td>\n",
       "      <td>6228</td>\n",
       "      <td>36291</td>\n",
       "    </tr>\n",
       "    <tr>\n",
       "      <th>10</th>\n",
       "      <td>1997.0</td>\n",
       "      <td>8276</td>\n",
       "      <td>42250</td>\n",
       "    </tr>\n",
       "    <tr>\n",
       "      <th>11</th>\n",
       "      <td>1998.0</td>\n",
       "      <td>34732</td>\n",
       "      <td>188929</td>\n",
       "    </tr>\n",
       "    <tr>\n",
       "      <th>12</th>\n",
       "      <td>1999.0</td>\n",
       "      <td>51362</td>\n",
       "      <td>283932</td>\n",
       "    </tr>\n",
       "    <tr>\n",
       "      <th>13</th>\n",
       "      <td>2000.0</td>\n",
       "      <td>60410</td>\n",
       "      <td>347435</td>\n",
       "    </tr>\n",
       "    <tr>\n",
       "      <th>14</th>\n",
       "      <td>2001.0</td>\n",
       "      <td>81644</td>\n",
       "      <td>476255</td>\n",
       "    </tr>\n",
       "    <tr>\n",
       "      <th>15</th>\n",
       "      <td>2002.0</td>\n",
       "      <td>64078</td>\n",
       "      <td>349379</td>\n",
       "    </tr>\n",
       "    <tr>\n",
       "      <th>16</th>\n",
       "      <td>2003.0</td>\n",
       "      <td>64215</td>\n",
       "      <td>348849</td>\n",
       "    </tr>\n",
       "    <tr>\n",
       "      <th>17</th>\n",
       "      <td>2004.0</td>\n",
       "      <td>87564</td>\n",
       "      <td>455817</td>\n",
       "    </tr>\n",
       "    <tr>\n",
       "      <th>18</th>\n",
       "      <td>2005.0</td>\n",
       "      <td>72960</td>\n",
       "      <td>380789</td>\n",
       "    </tr>\n",
       "    <tr>\n",
       "      <th>19</th>\n",
       "      <td>2006.0</td>\n",
       "      <td>58780</td>\n",
       "      <td>297710</td>\n",
       "    </tr>\n",
       "    <tr>\n",
       "      <th>20</th>\n",
       "      <td>2007.0</td>\n",
       "      <td>51121</td>\n",
       "      <td>278653</td>\n",
       "    </tr>\n",
       "    <tr>\n",
       "      <th>21</th>\n",
       "      <td>2008.0</td>\n",
       "      <td>49732</td>\n",
       "      <td>272396</td>\n",
       "    </tr>\n",
       "    <tr>\n",
       "      <th>22</th>\n",
       "      <td>2009.0</td>\n",
       "      <td>32868</td>\n",
       "      <td>169684</td>\n",
       "    </tr>\n",
       "    <tr>\n",
       "      <th>23</th>\n",
       "      <td>2010.0</td>\n",
       "      <td>24713</td>\n",
       "      <td>127001</td>\n",
       "    </tr>\n",
       "    <tr>\n",
       "      <th>24</th>\n",
       "      <td>2011.0</td>\n",
       "      <td>27698</td>\n",
       "      <td>135139</td>\n",
       "    </tr>\n",
       "    <tr>\n",
       "      <th>25</th>\n",
       "      <td>2012.0</td>\n",
       "      <td>28042</td>\n",
       "      <td>144775</td>\n",
       "    </tr>\n",
       "    <tr>\n",
       "      <th>26</th>\n",
       "      <td>2013.0</td>\n",
       "      <td>38543</td>\n",
       "      <td>218088</td>\n",
       "    </tr>\n",
       "    <tr>\n",
       "      <th>27</th>\n",
       "      <td>2014.0</td>\n",
       "      <td>60077</td>\n",
       "      <td>357383</td>\n",
       "    </tr>\n",
       "    <tr>\n",
       "      <th>28</th>\n",
       "      <td>2015.0</td>\n",
       "      <td>60395</td>\n",
       "      <td>343189</td>\n",
       "    </tr>\n",
       "    <tr>\n",
       "      <th>29</th>\n",
       "      <td>2016.0</td>\n",
       "      <td>68473</td>\n",
       "      <td>404788</td>\n",
       "    </tr>\n",
       "    <tr>\n",
       "      <th>30</th>\n",
       "      <td>2017.0</td>\n",
       "      <td>56100</td>\n",
       "      <td>325832</td>\n",
       "    </tr>\n",
       "    <tr>\n",
       "      <th>31</th>\n",
       "      <td>2018.0</td>\n",
       "      <td>47724</td>\n",
       "      <td>283416</td>\n",
       "    </tr>\n",
       "    <tr>\n",
       "      <th>32</th>\n",
       "      <td>2019.0</td>\n",
       "      <td>19960</td>\n",
       "      <td>123135</td>\n",
       "    </tr>\n",
       "  </tbody>\n",
       "</table>\n",
       "</div>"
      ],
      "text/plain": [
       "   manufacture_year is_delayed        \n",
       "                           sum   count\n",
       "0            1987.0        380    3720\n",
       "1            1988.0        601    5189\n",
       "2            1989.0         14      40\n",
       "3            1990.0       2905   24017\n",
       "4            1991.0       5541   38696\n",
       "5            1992.0       9181   63888\n",
       "6            1993.0       3989   23309\n",
       "7            1994.0       4718   21450\n",
       "8            1995.0       4766   25468\n",
       "9            1996.0       6228   36291\n",
       "10           1997.0       8276   42250\n",
       "11           1998.0      34732  188929\n",
       "12           1999.0      51362  283932\n",
       "13           2000.0      60410  347435\n",
       "14           2001.0      81644  476255\n",
       "15           2002.0      64078  349379\n",
       "16           2003.0      64215  348849\n",
       "17           2004.0      87564  455817\n",
       "18           2005.0      72960  380789\n",
       "19           2006.0      58780  297710\n",
       "20           2007.0      51121  278653\n",
       "21           2008.0      49732  272396\n",
       "22           2009.0      32868  169684\n",
       "23           2010.0      24713  127001\n",
       "24           2011.0      27698  135139\n",
       "25           2012.0      28042  144775\n",
       "26           2013.0      38543  218088\n",
       "27           2014.0      60077  357383\n",
       "28           2015.0      60395  343189\n",
       "29           2016.0      68473  404788\n",
       "30           2017.0      56100  325832\n",
       "31           2018.0      47724  283416\n",
       "32           2019.0      19960  123135"
      ]
     },
     "execution_count": 21,
     "metadata": {},
     "output_type": "execute_result"
    }
   ],
   "source": [
    "delays_by_manufacture_year_df = flight_df.groupby(\"manufacture_year\", as_index=False).agg({\"is_delayed\": [\"sum\", \"count\"]})\n",
    "delays_by_manufacture_year_df"
   ]
  },
  {
   "cell_type": "markdown",
   "metadata": {
    "id": "WyCxttG7gaHu"
   },
   "source": [
    " Tutaj wyrysuj ramkę `delays_by_manufacture_year_df`"
   ]
  },
  {
   "cell_type": "code",
   "execution_count": 22,
   "metadata": {
    "id": "GP8jatMNgaHv"
   },
   "outputs": [
    {
     "data": {
      "image/png": "[encoded data removed]",
      "text/plain": [
       "<Figure size 1500x1000 with 1 Axes>"
      ]
     },
     "metadata": {},
     "output_type": "display_data"
    }
   ],
   "source": [
    "plt.figure(figsize=(15, 10))\n",
    "\n",
    "fig1 = plt.plot(\n",
    "    delays_by_manufacture_year_df.manufacture_year,\n",
    "    delays_by_manufacture_year_df.is_delayed[\"sum\"],\n",
    "    drawstyle=\"steps-mid\",\n",
    "    label=(\"Suma opóżnionych odlotów\"),\n",
    ")\n",
    "\n",
    "fig2 = plt.plot(\n",
    "    delays_by_manufacture_year_df.manufacture_year,\n",
    "    delays_by_manufacture_year_df.is_delayed[\"count\"],\n",
    "    drawstyle=\"steps-mid\",\n",
    "    label=(\"Suma wszystkich odlotów\"),\n",
    ")\n",
    "\n",
    "plt.xlabel(\"Rok Produkcji\")\n",
    "# plt.xticks(flight_delays_by_distance_agg_df['distance_agg'].to_string())\n",
    "plt.ylabel(\"Udział opóżnionych wylotów > 15min\")\n",
    "plt.title(\"Odloty wg lat produkcji samolotów\")\n",
    "plt.legend()\n",
    "\n",
    "plt.grid(axis=\"both\")\n",
    "plt.show()"
   ]
  },
  {
   "cell_type": "markdown",
   "metadata": {
    "id": "fNYLViaKgaHv"
   },
   "source": [
    " Tutaj zmodyfikuj wykres tak, aby prezentował tylko te roczniki, które odbyły więcej niż 10 000 lotów"
   ]
  },
  {
   "cell_type": "code",
   "execution_count": 23,
   "metadata": {
    "id": "SlyMqFHdgaHv"
   },
   "outputs": [
    {
     "data": {
      "image/png": "[encoded data removed]",
      "text/plain": [
       "<Figure size 1500x1000 with 1 Axes>"
      ]
     },
     "metadata": {},
     "output_type": "display_data"
    }
   ],
   "source": [
    "plt.figure(figsize=(15, 10))\n",
    "delays_temp = delays_by_manufacture_year_df[\n",
    "    delays_by_manufacture_year_df.is_delayed[\"count\"] > 10000\n",
    "]\n",
    "\n",
    "fig1 = plt.plot(\n",
    "    delays_temp.manufacture_year,\n",
    "    delays_temp.is_delayed[\"sum\"],\n",
    "    drawstyle=\"steps-mid\",\n",
    "    label=(\"Suma opóżnionych odlotów\"),\n",
    ")\n",
    "\n",
    "plt.xlabel(\"Rok Produkcji\")\n",
    "# plt.xticks(flight_delays_by_distance_agg_df['distance_agg'].to_string())\n",
    "plt.ylabel(\"Udział opóżnionych wylotów > 15min\")\n",
    "plt.title(\"Odloty wg lat produkcji samolotów\")\n",
    "plt.legend()\n",
    "\n",
    "plt.grid(axis=\"both\")\n",
    "plt.show()"
   ]
  },
  {
   "cell_type": "markdown",
   "metadata": {
    "id": "mrFXx39hgaHv"
   },
   "source": [
    " ## Opóźnienia vs. rok produkcji samolotu cz. 2\n",
    " Dokonaj agregacji kolumny `manufacture_year` do kolumny `manufacture_year_agg` zgodnie z poniższym:\n",
    " 1. Grupując dane co 3 lata -> Czy po grupowaniu można zauważyć zależność? Wyniki zapisz do ramki `flight_delays_by_manufacture_year_agg_df`.\n",
    " 1. Wyznacz top 5 roczników samolotu, które wykonały najwięcej lotów. Wyniki zapisz do ramki `top_manufactured_df`, do obliczeń wykorzystaj `delays_by_manufacture_year_df`."
   ]
  },
  {
   "cell_type": "markdown",
   "metadata": {
    "id": "K5BRdnifgaHv"
   },
   "source": [
    " Tutaj dodaj kolumnę `manufacture_year_agg` do ramki `flight_df`"
   ]
  },
  {
   "cell_type": "code",
   "execution_count": 24,
   "metadata": {
    "id": "ple31F7kgaHv"
   },
   "outputs": [
    {
     "data": {
      "text/html": [
       "<div>\n",
       "<style scoped>\n",
       "    .dataframe tbody tr th:only-of-type {\n",
       "        vertical-align: middle;\n",
       "    }\n",
       "\n",
       "    .dataframe tbody tr th {\n",
       "        vertical-align: top;\n",
       "    }\n",
       "\n",
       "    .dataframe thead th {\n",
       "        text-align: right;\n",
       "    }\n",
       "</style>\n",
       "<table border=\"1\" class=\"dataframe\">\n",
       "  <thead>\n",
       "    <tr style=\"text-align: right;\">\n",
       "      <th></th>\n",
       "      <th>manufacture_year</th>\n",
       "      <th>manufacture_year_agg</th>\n",
       "    </tr>\n",
       "  </thead>\n",
       "  <tbody>\n",
       "    <tr>\n",
       "      <th>0</th>\n",
       "      <td>2008.0</td>\n",
       "      <td>(2005.0, 2008.0]</td>\n",
       "    </tr>\n",
       "    <tr>\n",
       "      <th>1</th>\n",
       "      <td>2004.0</td>\n",
       "      <td>(2002.0, 2005.0]</td>\n",
       "    </tr>\n",
       "    <tr>\n",
       "      <th>2</th>\n",
       "      <td>NaN</td>\n",
       "      <td>NaN</td>\n",
       "    </tr>\n",
       "    <tr>\n",
       "      <th>3</th>\n",
       "      <td>2004.0</td>\n",
       "      <td>(2002.0, 2005.0]</td>\n",
       "    </tr>\n",
       "    <tr>\n",
       "      <th>4</th>\n",
       "      <td>2004.0</td>\n",
       "      <td>(2002.0, 2005.0]</td>\n",
       "    </tr>\n",
       "    <tr>\n",
       "      <th>...</th>\n",
       "      <td>...</td>\n",
       "      <td>...</td>\n",
       "    </tr>\n",
       "    <tr>\n",
       "      <th>6922919</th>\n",
       "      <td>2002.0</td>\n",
       "      <td>(1999.0, 2002.0]</td>\n",
       "    </tr>\n",
       "    <tr>\n",
       "      <th>6922920</th>\n",
       "      <td>2002.0</td>\n",
       "      <td>(1999.0, 2002.0]</td>\n",
       "    </tr>\n",
       "    <tr>\n",
       "      <th>6922921</th>\n",
       "      <td>2016.0</td>\n",
       "      <td>(2014.0, 2017.0]</td>\n",
       "    </tr>\n",
       "    <tr>\n",
       "      <th>6922922</th>\n",
       "      <td>2001.0</td>\n",
       "      <td>(1999.0, 2002.0]</td>\n",
       "    </tr>\n",
       "    <tr>\n",
       "      <th>6922923</th>\n",
       "      <td>2003.0</td>\n",
       "      <td>(2002.0, 2005.0]</td>\n",
       "    </tr>\n",
       "  </tbody>\n",
       "</table>\n",
       "<p>6922924 rows × 2 columns</p>\n",
       "</div>"
      ],
      "text/plain": [
       "         manufacture_year manufacture_year_agg\n",
       "0                  2008.0     (2005.0, 2008.0]\n",
       "1                  2004.0     (2002.0, 2005.0]\n",
       "2                     NaN                  NaN\n",
       "3                  2004.0     (2002.0, 2005.0]\n",
       "4                  2004.0     (2002.0, 2005.0]\n",
       "...                   ...                  ...\n",
       "6922919            2002.0     (1999.0, 2002.0]\n",
       "6922920            2002.0     (1999.0, 2002.0]\n",
       "6922921            2016.0     (2014.0, 2017.0]\n",
       "6922922            2001.0     (1999.0, 2002.0]\n",
       "6922923            2003.0     (2002.0, 2005.0]\n",
       "\n",
       "[6922924 rows x 2 columns]"
      ]
     },
     "execution_count": 24,
     "metadata": {},
     "output_type": "execute_result"
    }
   ],
   "source": [
    "flight_df[\"manufacture_year_agg\"] = pd.cut(\n",
    "    flight_df.manufacture_year,\n",
    "    bins=range(\n",
    "        int(flight_df.manufacture_year.min()),\n",
    "        int(flight_df.manufacture_year.max()) + 3,\n",
    "        3,\n",
    "    ),\n",
    ")\n",
    "flight_df[[\"manufacture_year\", \"manufacture_year_agg\"]]"
   ]
  },
  {
   "cell_type": "markdown",
   "metadata": {
    "id": "Rc6lyDoxgaHw"
   },
   "source": [
    " Tutaj stwórz zmienną `flight_delays_by_manufacture_year_agg_df`"
   ]
  },
  {
   "cell_type": "code",
   "execution_count": 31,
   "metadata": {
    "id": "8bkI8NuigaHw"
   },
   "outputs": [
    {
     "data": {
      "text/html": [
       "<div>\n",
       "<style scoped>\n",
       "    .dataframe tbody tr th:only-of-type {\n",
       "        vertical-align: middle;\n",
       "    }\n",
       "\n",
       "    .dataframe tbody tr th {\n",
       "        vertical-align: top;\n",
       "    }\n",
       "\n",
       "    .dataframe thead tr th {\n",
       "        text-align: left;\n",
       "    }\n",
       "</style>\n",
       "<table border=\"1\" class=\"dataframe\">\n",
       "  <thead>\n",
       "    <tr>\n",
       "      <th></th>\n",
       "      <th>manufacture_year_agg</th>\n",
       "      <th colspan=\"2\" halign=\"left\">is_delayed</th>\n",
       "    </tr>\n",
       "    <tr>\n",
       "      <th></th>\n",
       "      <th></th>\n",
       "      <th>sum</th>\n",
       "      <th>count</th>\n",
       "    </tr>\n",
       "  </thead>\n",
       "  <tbody>\n",
       "    <tr>\n",
       "      <th>0</th>\n",
       "      <td>(1987, 1990]</td>\n",
       "      <td>3520</td>\n",
       "      <td>29246</td>\n",
       "    </tr>\n",
       "    <tr>\n",
       "      <th>1</th>\n",
       "      <td>(1990, 1993]</td>\n",
       "      <td>18711</td>\n",
       "      <td>125893</td>\n",
       "    </tr>\n",
       "    <tr>\n",
       "      <th>2</th>\n",
       "      <td>(1993, 1996]</td>\n",
       "      <td>15712</td>\n",
       "      <td>83209</td>\n",
       "    </tr>\n",
       "    <tr>\n",
       "      <th>3</th>\n",
       "      <td>(1996, 1999]</td>\n",
       "      <td>94370</td>\n",
       "      <td>515111</td>\n",
       "    </tr>\n",
       "    <tr>\n",
       "      <th>4</th>\n",
       "      <td>(1999, 2002]</td>\n",
       "      <td>206132</td>\n",
       "      <td>1173069</td>\n",
       "    </tr>\n",
       "    <tr>\n",
       "      <th>5</th>\n",
       "      <td>(2002, 2005]</td>\n",
       "      <td>224739</td>\n",
       "      <td>1185455</td>\n",
       "    </tr>\n",
       "    <tr>\n",
       "      <th>6</th>\n",
       "      <td>(2005, 2008]</td>\n",
       "      <td>159633</td>\n",
       "      <td>848759</td>\n",
       "    </tr>\n",
       "    <tr>\n",
       "      <th>7</th>\n",
       "      <td>(2008, 2011]</td>\n",
       "      <td>85279</td>\n",
       "      <td>431824</td>\n",
       "    </tr>\n",
       "    <tr>\n",
       "      <th>8</th>\n",
       "      <td>(2011, 2014]</td>\n",
       "      <td>126662</td>\n",
       "      <td>720246</td>\n",
       "    </tr>\n",
       "    <tr>\n",
       "      <th>9</th>\n",
       "      <td>(2014, 2017]</td>\n",
       "      <td>184968</td>\n",
       "      <td>1073809</td>\n",
       "    </tr>\n",
       "    <tr>\n",
       "      <th>10</th>\n",
       "      <td>(2017, 2020]</td>\n",
       "      <td>67684</td>\n",
       "      <td>406551</td>\n",
       "    </tr>\n",
       "  </tbody>\n",
       "</table>\n",
       "</div>"
      ],
      "text/plain": [
       "   manufacture_year_agg is_delayed         \n",
       "                               sum    count\n",
       "0          (1987, 1990]       3520    29246\n",
       "1          (1990, 1993]      18711   125893\n",
       "2          (1993, 1996]      15712    83209\n",
       "3          (1996, 1999]      94370   515111\n",
       "4          (1999, 2002]     206132  1173069\n",
       "5          (2002, 2005]     224739  1185455\n",
       "6          (2005, 2008]     159633   848759\n",
       "7          (2008, 2011]      85279   431824\n",
       "8          (2011, 2014]     126662   720246\n",
       "9          (2014, 2017]     184968  1073809\n",
       "10         (2017, 2020]      67684   406551"
      ]
     },
     "execution_count": 31,
     "metadata": {},
     "output_type": "execute_result"
    }
   ],
   "source": [
    "flight_delays_by_manufacture_year_agg_df = flight_df.groupby(\"manufacture_year_agg\", as_index=False, observed=False).agg({\"is_delayed\": [\"sum\", \"count\"]})\n",
    "flight_delays_by_manufacture_year_agg_df"
   ]
  },
  {
   "cell_type": "markdown",
   "metadata": {
    "id": "Uo90Dg_6gaHw"
   },
   "source": [
    " Tutaj stwórz wykres w oparciu o dane zawarte w `flight_delays_by_manufacture_year_agg_df`"
   ]
  },
  {
   "cell_type": "code",
   "execution_count": 26,
   "metadata": {
    "id": "moVOM8RdgaHw"
   },
   "outputs": [
    {
     "data": {
      "image/png": "[encoded data removed]",
      "text/plain": [
       "<Figure size 1500x1000 with 1 Axes>"
      ]
     },
     "metadata": {},
     "output_type": "display_data"
    }
   ],
   "source": [
    "plt.figure(figsize=(15, 10))\n",
    "\n",
    "plt.plot(\n",
    "    flight_delays_by_manufacture_year_agg_df.index,\n",
    "    (\n",
    "        flight_delays_by_manufacture_year_agg_df.is_delayed[\"sum\"]\n",
    "        / flight_delays_by_manufacture_year_agg_df.is_delayed[\"count\"]\n",
    "    )\n",
    "    * 100,\n",
    "    drawstyle=\"steps-mid\",\n",
    "    label=(\"Współczynnik opóżnionych odlotów do wszystkich w %\"),\n",
    ")\n",
    "\n",
    "\n",
    "plt.xlabel(\"Grupa lat produkcji\")\n",
    "plt.xticks=(flight_delays_by_manufacture_year_agg_df[('manufacture_year_agg',      '')])\n",
    "plt.ylabel(\"Udział opóżnionych wylotów > 15min\")\n",
    "plt.title(\"Odloty wg lat produkcji samolotów\")\n",
    "plt.legend()\n",
    "\n",
    "plt.grid(axis=\"both\")\n",
    "plt.show()"
   ]
  },
  {
   "cell_type": "markdown",
   "metadata": {
    "id": "ctSHyjV7gaHw"
   },
   "source": [
    " Tutaj wyznacz TOP 5 roczników samolotów"
   ]
  },
  {
   "cell_type": "code",
   "execution_count": 27,
   "metadata": {
    "id": "2L73EbOSgaHw"
   },
   "outputs": [],
   "source": [
    "delays_by_manufacture_year_df.set_index(\"manufacture_year\", inplace=True)"
   ]
  },
  {
   "cell_type": "markdown",
   "metadata": {
    "tags": []
   },
   "source": [
    "# Najwiecej lotów wg lat produkcji"
   ]
  },
  {
   "cell_type": "code",
   "execution_count": 28,
   "metadata": {
    "id": "2L73EbOSgaHw"
   },
   "outputs": [
    {
     "data": {
      "text/html": [
       "<div>\n",
       "<style scoped>\n",
       "    .dataframe tbody tr th:only-of-type {\n",
       "        vertical-align: middle;\n",
       "    }\n",
       "\n",
       "    .dataframe tbody tr th {\n",
       "        vertical-align: top;\n",
       "    }\n",
       "\n",
       "    .dataframe thead th {\n",
       "        text-align: right;\n",
       "    }\n",
       "</style>\n",
       "<table border=\"1\" class=\"dataframe\">\n",
       "  <thead>\n",
       "    <tr style=\"text-align: right;\">\n",
       "      <th></th>\n",
       "      <th>sum</th>\n",
       "      <th>count</th>\n",
       "    </tr>\n",
       "    <tr>\n",
       "      <th>manufacture_year</th>\n",
       "      <th></th>\n",
       "      <th></th>\n",
       "    </tr>\n",
       "  </thead>\n",
       "  <tbody>\n",
       "    <tr>\n",
       "      <th>2001.0</th>\n",
       "      <td>81644</td>\n",
       "      <td>476255</td>\n",
       "    </tr>\n",
       "    <tr>\n",
       "      <th>2004.0</th>\n",
       "      <td>87564</td>\n",
       "      <td>455817</td>\n",
       "    </tr>\n",
       "    <tr>\n",
       "      <th>2016.0</th>\n",
       "      <td>68473</td>\n",
       "      <td>404788</td>\n",
       "    </tr>\n",
       "    <tr>\n",
       "      <th>2005.0</th>\n",
       "      <td>72960</td>\n",
       "      <td>380789</td>\n",
       "    </tr>\n",
       "    <tr>\n",
       "      <th>2014.0</th>\n",
       "      <td>60077</td>\n",
       "      <td>357383</td>\n",
       "    </tr>\n",
       "  </tbody>\n",
       "</table>\n",
       "</div>"
      ],
      "text/plain": [
       "                    sum   count\n",
       "manufacture_year               \n",
       "2001.0            81644  476255\n",
       "2004.0            87564  455817\n",
       "2016.0            68473  404788\n",
       "2005.0            72960  380789\n",
       "2014.0            60077  357383"
      ]
     },
     "execution_count": 28,
     "metadata": {},
     "output_type": "execute_result"
    }
   ],
   "source": [
    "delays_by_manufacture_year_df.is_delayed.sort_values(\n",
    "    \"count\", ascending=False).head(5)"
   ]
  },
  {
   "cell_type": "markdown",
   "metadata": {},
   "source": [
    "# Najmniej opóżnień wg lat produkcji "
   ]
  },
  {
   "cell_type": "code",
   "execution_count": 29,
   "metadata": {},
   "outputs": [
    {
     "data": {
      "text/html": [
       "<div>\n",
       "<style scoped>\n",
       "    .dataframe tbody tr th:only-of-type {\n",
       "        vertical-align: middle;\n",
       "    }\n",
       "\n",
       "    .dataframe tbody tr th {\n",
       "        vertical-align: top;\n",
       "    }\n",
       "\n",
       "    .dataframe thead tr th {\n",
       "        text-align: left;\n",
       "    }\n",
       "\n",
       "    .dataframe thead tr:last-of-type th {\n",
       "        text-align: right;\n",
       "    }\n",
       "</style>\n",
       "<table border=\"1\" class=\"dataframe\">\n",
       "  <thead>\n",
       "    <tr>\n",
       "      <th></th>\n",
       "      <th colspan=\"2\" halign=\"left\">is_delayed</th>\n",
       "      <th>factor</th>\n",
       "    </tr>\n",
       "    <tr>\n",
       "      <th></th>\n",
       "      <th>sum</th>\n",
       "      <th>count</th>\n",
       "      <th></th>\n",
       "    </tr>\n",
       "    <tr>\n",
       "      <th>manufacture_year</th>\n",
       "      <th></th>\n",
       "      <th></th>\n",
       "      <th></th>\n",
       "    </tr>\n",
       "  </thead>\n",
       "  <tbody>\n",
       "    <tr>\n",
       "      <th>1987.0</th>\n",
       "      <td>380</td>\n",
       "      <td>3720</td>\n",
       "      <td>0.102151</td>\n",
       "    </tr>\n",
       "    <tr>\n",
       "      <th>1988.0</th>\n",
       "      <td>601</td>\n",
       "      <td>5189</td>\n",
       "      <td>0.115822</td>\n",
       "    </tr>\n",
       "    <tr>\n",
       "      <th>1990.0</th>\n",
       "      <td>2905</td>\n",
       "      <td>24017</td>\n",
       "      <td>0.120956</td>\n",
       "    </tr>\n",
       "    <tr>\n",
       "      <th>1991.0</th>\n",
       "      <td>5541</td>\n",
       "      <td>38696</td>\n",
       "      <td>0.143193</td>\n",
       "    </tr>\n",
       "    <tr>\n",
       "      <th>1992.0</th>\n",
       "      <td>9181</td>\n",
       "      <td>63888</td>\n",
       "      <td>0.143705</td>\n",
       "    </tr>\n",
       "  </tbody>\n",
       "</table>\n",
       "</div>"
      ],
      "text/plain": [
       "                 is_delayed           factor\n",
       "                        sum  count          \n",
       "manufacture_year                            \n",
       "1987.0                  380   3720  0.102151\n",
       "1988.0                  601   5189  0.115822\n",
       "1990.0                 2905  24017  0.120956\n",
       "1991.0                 5541  38696  0.143193\n",
       "1992.0                 9181  63888  0.143705"
      ]
     },
     "execution_count": 29,
     "metadata": {},
     "output_type": "execute_result"
    }
   ],
   "source": [
    "delays_by_manufacture_year_df[\"factor\"] = (\n",
    "    delays_by_manufacture_year_df.is_delayed[\"sum\"]\n",
    "    / delays_by_manufacture_year_df.is_delayed[\"count\"]\n",
    ")\n",
    "delays_by_manufacture_year_df.sort_values(\"factor\", ascending=True).head(5)"
   ]
  },
  {
   "cell_type": "markdown",
   "metadata": {
    "id": "ZkhiDTTkgaHw"
   },
   "source": [
    " # Podsumowanie\n",
    " W tym notatniku do naszej wyjściowej ramki danych `flight_df` dołączyliśmy tabelę `aircraft_df` i za jej pomocą dodaliśmy kolejny wymiar do naszej analizy. Zauważmy, ile dodatkowych wniosków mogliśmy wyciągnąć dzięki jej dodaniu.\n",
    "\n",
    " Zanim przejdziemy dalej, należy zapisać bieżącą postać ramki (najlepiej lokalnie), która zostanie użyta w kolejnym notatniku.\n",
    "\n",
    " > **Wskazówka:**  \n",
    " > Aby uniknąć potencjalnych problemów, najlepiej zapisać ramkę z nazwą nawiązującą do tego notatnika, np. `flight_df_01`."
   ]
  },
  {
   "cell_type": "markdown",
   "metadata": {
    "id": "OaqRdm7DgaHw"
   },
   "source": [
    " Tutaj zapisz ramkę w najdogodniejszy sposób."
   ]
  },
  {
   "cell_type": "code",
   "execution_count": 30,
   "metadata": {
    "id": "1AFhdfaugaHx"
   },
   "outputs": [
    {
     "data": {
      "text/plain": [
       "True"
      ]
     },
     "execution_count": 30,
     "metadata": {},
     "output_type": "execute_result"
    }
   ],
   "source": [
    "flight_df.to_csv(\"../data/processed/flight_02.csv\", index=False)\n",
    "flight_df.shape[0] == 6922924"
   ]
  }
 ],
 "metadata": {
  "colab": {
   "provenance": []
  },
  "kernelspec": {
   "display_name": "venv",
   "language": "python",
   "name": "python3"
  },
  "language_info": {
   "codemirror_mode": {
    "name": "ipython",
    "version": 3
   },
   "file_extension": ".py",
   "mimetype": "text/x-python",
   "name": "python",
   "nbconvert_exporter": "python",
   "pygments_lexer": "ipython3",
   "version": "3.11.2"
  },
  "widgets": {
   "application/vnd.jupyter.widget-state+json": {
    "state": {},
    "version_major": 2,
    "version_minor": 0
   }
  }
 },
 "nbformat": 4,
 "nbformat_minor": 4
}
