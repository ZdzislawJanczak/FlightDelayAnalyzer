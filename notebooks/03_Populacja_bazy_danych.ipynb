{
 "cells": [
  {
   "cell_type": "markdown",
   "metadata": {
    "id": "5ElN28rKeJB0"
   },
   "source": [
    " # Opis notatnika\n",
    " W poprzednich krokach pobraliśmy dane oraz przygotowaliśmy bazę `Postgres` na import. Głównym celem w tym notatniku jest  odpowiednie dostosowanie struktury danych z plików źródłowych do formatu zgodnego z `Postgres`, a następnie wgranie ich na nasz serwer. Dzięki temu w późniejszych krokach możemy niezależnie użyć danych do analizy czy raportowania.\n",
    "\n",
    " Przy wykonywaniu tego notebooka przydadzą się poniższe elementy kursu oraz materiały dodatkowe:\n",
    " * `SQL - analiza danych > Zjazd 1 - materiały dodatkowe > Export danych z DB > Python` - w celu użycia połączenia razem z `Pandas`,\n",
    " * https://docs.sqlalchemy.org/en/14/core/engines.html - w celu uzupełnienia konfiguracji `Pandas` do `PostgerSQL`,\n",
    " * https://pandas.pydata.org/docs/reference/api/pandas.DataFrame.to_sql.html - eksport danych z `Pandas` na bazę danych.\n",
    "\n",
    " > Uwaga: Ze względu na wolumen danych zawarty w pliku `flight.csv`, wykonanie tego notatnika może zająć nawet kilkadziesiąt minut lub więcej!"
   ]
  },
  {
   "cell_type": "markdown",
   "metadata": {
    "id": "TyoY8QRdeJB6"
   },
   "source": [
    "Tutaj zaimportuj wymagane biblioteki"
   ]
  },
  {
   "cell_type": "code",
   "execution_count": 1,
   "metadata": {
    "id": "iNziBCXSeJB_"
   },
   "outputs": [],
   "source": [
    "import pandas as pd\n",
    "from sqlalchemy import create_engine\n",
    "import sys\n",
    "sys.path.append('../')"
   ]
  },
  {
   "cell_type": "markdown",
   "metadata": {
    "id": "HRua_IlQeJCB"
   },
   "source": [
    " ## Połączenie z bazą danych\n",
    " Tutaj uzupełnij konfigurację połączenia"
   ]
  },
  {
   "cell_type": "code",
   "execution_count": 2,
   "metadata": {
    "id": "wT44iHmEeJCB"
   },
   "outputs": [],
   "source": [
    "from config.DB_connect import username, passwd, hostname, db_name, port"
   ]
  },
  {
   "cell_type": "markdown",
   "metadata": {
    "id": "rJ6nP2z2eJCC"
   },
   "source": [
    " Z pomocą artykułu [click](https://docs.sqlalchemy.org/en/14/core/engines.html) stwórz zmienną `engine` oraz `url`. Zgodnie z dokumentacją `Pandas`, zmienna `engine`, będzie potrzebna, by możliwe było wyeksportowanie danych na serwer `SQL`."
   ]
  },
  {
   "cell_type": "markdown",
   "metadata": {
    "id": "LE_fpc4SeJCC"
   },
   "source": [
    " W tym miejscu stwórz zmienne `url` oraz `engine`"
   ]
  },
  {
   "cell_type": "code",
   "execution_count": 3,
   "metadata": {
    "id": "C5qvDHOdeJCD"
   },
   "outputs": [],
   "source": [
    "url = f\"postgresql://{username}:{passwd}@{hostname}:{port}/{db_name}\"\n",
    "engine = create_engine(url, echo=False)"
   ]
  },
  {
   "cell_type": "markdown",
   "metadata": {
    "id": "VRQPq0zCeJCE"
   },
   "source": [
    " # Załadowanie ramek do obszaru roboczego\n",
    " Uzupełnij implementację funkcji `load_raw_data`, która przyjmuje jeden parametr:\n",
    " * `file_name` - nazwa pliku do zaczytania\n",
    " Jej zadaniem jest wczytanie surowego pliku, zmodyfikowanie nazw kolumn z `NAZWA_KOLUMNY` na `nazwa_kolumny` oraz zwrócenie tak zmodyfikowanej ramki danych.\n",
    "\n",
    "Mogą się przydać poniższe elementy kursu:\n",
    " - `Python-Analiza danych -> Dzień 5 - Pandas -> Obróbka danych - częsć 1`\n",
    " - `Python-Analiza danych -> Przygotowanie do zjazdu 3 -> Wstęp do Pandas -> Wczytywanie danych do Pandas` - jakie kodowanie mają pliki?"
   ]
  },
  {
   "cell_type": "code",
   "execution_count": 4,
   "metadata": {
    "id": "53atDnj1eJCF"
   },
   "outputs": [],
   "source": [
    "def load_raw_data(file_name):\n",
    "    # df = pd.DataFrame\n",
    "    try:\n",
    "        df = pd.read_csv(f\"../data/raw/{file_name}.csv\", index_col=None)\n",
    "        df.columns = df.columns.str.lower()\n",
    "        print(f\"Utworzono ramkę danych z pliku: {file_name}.csv\")\n",
    "    except FileNotFoundError:\n",
    "        print(f\"Nie ma pliku o nazwie {file_name}.csv\")\n",
    "    except pd.errors.EmptyDataError:\n",
    "        print(f\"Plik {file_name}.csv jest pusty \")\n",
    "    except pd.errors.ParserError:\n",
    "        print(f\"Nie udało sie załadować pliku {file_name}.csv do Data Frame\")\n",
    "    except Exception as e:\n",
    "        print(f\"Niespodziewany błąd: {e}\")\n",
    "\n",
    "    return df"
   ]
  },
  {
   "cell_type": "markdown",
   "metadata": {
    "id": "tSrQ0m21eJCG"
   },
   "source": [
    " # Zaczytanie poszczególnych plików do ramek"
   ]
  },
  {
   "cell_type": "markdown",
   "metadata": {
    "id": "P7Fp3WbOeJCH",
    "tags": []
   },
   "source": [
    " # Eksport danych na bazę\n",
    " Zapoznaj się z dokumentacją metody `Pandas` - [to_sql](https://pandas.pydata.org/docs/reference/api/pandas.DataFrame.to_sql.html), której zadaniem jest wyeksportowanie ramki na bazę danych.\n",
    " Zwróć szczególną uwagę na poniższe parametry:\n",
    " * `if_exists` - jak ma się zachować metoda, gdy ładuje dane na bazę,\n",
    " * `con` - połączenie do bazy,\n",
    " * `name` - nazwa tabeli, do której ramka ma zostać wgrana,\n",
    " * `index` - czy dodawać index z ramki jako kolumnę,\n",
    " * `chunksize` - maksymalna liczba wierszy wgrywana za jednym razem.\n",
    "\n",
    " > **Uwaga:** \n",
    " > Przed eksportem upewnij się, że tabela jest pusta. Zwróć uwagę na pewną subtelną różnicę pomiędzy wyglądem ramki oraz tabeli docelowej na bazie danych.\n",
    "\n",
    "Następnie uzupełnij implementację metody `export_table_to_db`, która przyjmuje dwa argumenty:\n",
    " * `df` - ramka danych do eksportu,\n",
    " * `table_name` - nazwa ramki na bazie.\n",
    "\n",
    "Zalecamy, aby dodać do metody informację, która ramka jest aktualnie ładowana np.:\n",
    " `Loading data into {table_name}...`\n",
    " > Ze względu na rozmiar ramki `flight_df`, proces ten może potrwać nawet kilkadziesiąt minut! Z tego względu, na potrzeby testów, zalecamy przekazanie do procedury `export_table_to_db` np. pierwszych 5 wierszy, aby sprawdzić, czy działa, a potem wgrać cały zestaw danych - pamiętając o upszednim usunięciu tamtych."
   ]
  },
  {
   "cell_type": "code",
   "execution_count": 6,
   "metadata": {
    "id": "jrt2qSqoeJCI"
   },
   "outputs": [],
   "source": [
    "def export_table_to_db(df, table_name):\n",
    "\n",
    "    try:\n",
    "        with engine.begin() as conn:\n",
    "            df.to_sql(\n",
    "                table_name, conn, if_exists=\"replace\", index_label=\"id\", chunksize=200\n",
    "            )\n",
    "            print(f\"Załadowano ramkę danych do tabeli {table_name}\")\n",
    "    except Exception as e:\n",
    "        print(\"W takich warunkach nie będę pracować: %s\" % e)"
   ]
  },
  {
   "cell_type": "markdown",
   "metadata": {
    "id": "Sg3ydt36eJCJ"
   },
   "source": [
    " ## Wgrywanie danych"
   ]
  },
  {
   "cell_type": "code",
   "execution_count": 7,
   "metadata": {},
   "outputs": [],
   "source": [
    "def csv_to_db(filename):\n",
    "    df = load_raw_data(filename)\n",
    "    if df.empty:\n",
    "        print(\"Ramka danych jest pusta! przerwano ładowanie do bazy\")\n",
    "    else:\n",
    "        export_table_to_db(df, filename)"
   ]
  },
  {
   "cell_type": "markdown",
   "metadata": {
    "id": "JuI60XD5eJCK"
   },
   "source": [
    " ### Wgranie `aircraft_df` do tabeli `aircraft`"
   ]
  },
  {
   "cell_type": "code",
   "execution_count": 8,
   "metadata": {},
   "outputs": [
    {
     "name": "stdout",
     "output_type": "stream",
     "text": [
      "Utworzono ramkę danych z pliku: aircraft.csv\n",
      "Załadowano ramkę danych do tabeli aircraft\n"
     ]
    }
   ],
   "source": [
    "csv_to_db(\"aircraft\")"
   ]
  },
  {
   "cell_type": "markdown",
   "metadata": {
    "id": "rHjxxwgdeJCL"
   },
   "source": [
    " ### Wgranie `airport_weather_df` do tabeli `airport_weather`"
   ]
  },
  {
   "cell_type": "code",
   "execution_count": 9,
   "metadata": {
    "id": "IYvgw-IoeJCL"
   },
   "outputs": [
    {
     "name": "stdout",
     "output_type": "stream",
     "text": [
      "Utworzono ramkę danych z pliku: airport_weather.csv\n",
      "Załadowano ramkę danych do tabeli airport_weather\n"
     ]
    }
   ],
   "source": [
    "csv_to_db(\"airport_weather\")"
   ]
  },
  {
   "cell_type": "markdown",
   "metadata": {
    "id": "gFvk6dyzeJCL"
   },
   "source": [
    " ### Wgranie `flight_df` do tabeli `flight`\n",
    " > Wykonanie tej komórki będzie czasochłonne za względu na ilość danych w ramce."
   ]
  },
  {
   "cell_type": "code",
   "execution_count": 10,
   "metadata": {
    "id": "DXF34bXXeJCM"
   },
   "outputs": [
    {
     "name": "stdout",
     "output_type": "stream",
     "text": [
      "Utworzono ramkę danych z pliku: flight.csv\n",
      "Załadowano ramkę danych do tabeli flight\n"
     ]
    }
   ],
   "source": [
    "csv_to_db(\"flight\")"
   ]
  },
  {
   "cell_type": "markdown",
   "metadata": {
    "id": "iDoSWOgMeJCM"
   },
   "source": [
    " ### Wgranie `airport_list_df` do tabeli `airport_list`"
   ]
  },
  {
   "cell_type": "code",
   "execution_count": 11,
   "metadata": {
    "id": "nEHvIp4EeJCM"
   },
   "outputs": [
    {
     "name": "stdout",
     "output_type": "stream",
     "text": [
      "Utworzono ramkę danych z pliku: airport_list.csv\n",
      "Załadowano ramkę danych do tabeli airport_list\n"
     ]
    }
   ],
   "source": [
    "csv_to_db(\"airport_list\")"
   ]
  },
  {
   "cell_type": "markdown",
   "metadata": {
    "id": "kLMVtoQGeJCM"
   },
   "source": [
    " # Sprawdzenie poprawności wykonania notatnika\n",
    " Uruchom kod poniżej, aby sprawdzić, czy ta część została poprawnie wykonana"
   ]
  },
  {
   "cell_type": "code",
   "execution_count": 12,
   "metadata": {
    "id": "2dYHiIHieJCN"
   },
   "outputs": [],
   "source": [
    "def test_data_export(table_name, expected_count, expected_schema):\n",
    "    real_count = pd.read_sql(f\"SELECT COUNT(*) as cnt FROM {table_name}\", engine).iloc[\n",
    "        0\n",
    "    ][0]\n",
    "\n",
    "    real_schema = pd.read_sql(f\"SELECT * FROM {table_name} LIMIT 0\", engine)\n",
    "    real_schema = set(real_schema.columns)\n",
    "\n",
    "    expected_schema = set(expected_schema)\n",
    "\n",
    "    diff = real_schema.symmetric_difference(expected_schema)\n",
    "\n",
    "    assert len(diff) == 0, (\n",
    "        \"Nie zgadzają się kolumny tabel....\"\n",
    "        f\"\\tOczekiwano: {expected_schema}\"\n",
    "        f\"\\tOtrzymano: {real_schema}\"\n",
    "        f\"\\tRóżnica: {diff}\"\n",
    "    )\n",
    "\n",
    "    assert (\n",
    "        expected_count == real_count\n",
    "    ), f\"Nie zgadza się liczba wierszy, oczekiwano {expected_count}, otrzymano {real_count}\""
   ]
  },
  {
   "cell_type": "markdown",
   "metadata": {
    "id": "cIx10mhIeJCN"
   },
   "source": [
    " ## Sprawdzenie tabeli `aircraft`\n",
    " Uruchom kod poniżej, aby sprawdzić, czy ta część została poprawnie wykonana"
   ]
  },
  {
   "cell_type": "code",
   "execution_count": 13,
   "metadata": {
    "id": "zSAFdpLLeJCN"
   },
   "outputs": [
    {
     "name": "stderr",
     "output_type": "stream",
     "text": [
      "/tmp/ipykernel_391131/3138711342.py:2: FutureWarning: Series.__getitem__ treating keys as positions is deprecated. In a future version, integer keys will always be treated as labels (consistent with DataFrame behavior). To access a value by position, use `ser.iloc[pos]`\n",
      "  real_count = pd.read_sql(f\"SELECT COUNT(*) as cnt FROM {table_name}\", engine).iloc[\n"
     ]
    }
   ],
   "source": [
    "aircraft_expected_count = 7383\n",
    "aircraft_expected_schema = [\n",
    "    \"id\", \"manufacture_year\", \"tail_num\", \"number_of_seats\"]\n",
    "\n",
    "test_data_export(\"aircraft\", aircraft_expected_count, aircraft_expected_schema)"
   ]
  },
  {
   "cell_type": "markdown",
   "metadata": {
    "id": "R2GCOkbOeJCN"
   },
   "source": [
    " ## Sprawdzenie tabeli `airport_weather`\n",
    " Uruchom kod poniżej, aby sprawdzić, czy ta część została poprawnie wykonana"
   ]
  },
  {
   "cell_type": "code",
   "execution_count": 14,
   "metadata": {
    "id": "FQxznvjUeJCO"
   },
   "outputs": [
    {
     "name": "stderr",
     "output_type": "stream",
     "text": [
      "/tmp/ipykernel_391131/3138711342.py:2: FutureWarning: Series.__getitem__ treating keys as positions is deprecated. In a future version, integer keys will always be treated as labels (consistent with DataFrame behavior). To access a value by position, use `ser.iloc[pos]`\n",
      "  real_count = pd.read_sql(f\"SELECT COUNT(*) as cnt FROM {table_name}\", engine).iloc[\n"
     ]
    }
   ],
   "source": [
    "airport_weather_expected_count = 46226\n",
    "airport_weather_expected_schema = [\n",
    "    \"id\",\n",
    "    \"station\",\n",
    "    \"name\",\n",
    "    \"date\",\n",
    "    \"awnd\",\n",
    "    \"prcp\",\n",
    "    \"snow\",\n",
    "    \"snwd\",\n",
    "    \"tavg\",\n",
    "    \"tmax\",\n",
    "    \"tmin\",\n",
    "    \"wdf2\",\n",
    "    \"wdf5\",\n",
    "    \"wsf2\",\n",
    "    \"wsf5\",\n",
    "    \"wt01\",\n",
    "    \"wt08\",\n",
    "    \"wt02\",\n",
    "    \"wt03\",\n",
    "    \"wt04\",\n",
    "    \"wt09\",\n",
    "    \"wt06\",\n",
    "    \"wt05\",\n",
    "    \"pgtm\",\n",
    "    \"wt10\",\n",
    "    \"wesd\",\n",
    "    \"sn32\",\n",
    "    \"sx32\",\n",
    "    \"psun\",\n",
    "    \"tsun\",\n",
    "    \"tobs\",\n",
    "    \"wt07\",\n",
    "    \"wt11\",\n",
    "    \"wt18\",\n",
    "]\n",
    "\n",
    "test_data_export(\n",
    "    \"airport_weather\", airport_weather_expected_count, airport_weather_expected_schema\n",
    ")"
   ]
  },
  {
   "cell_type": "markdown",
   "metadata": {
    "id": "taPX25lQeJCO"
   },
   "source": [
    " ## Sprawdzenie tabeli `flight`\n",
    " Uruchom kod poniżej, aby sprawdzić, czy ta część została poprawnie wykonana"
   ]
  },
  {
   "cell_type": "code",
   "execution_count": 15,
   "metadata": {
    "id": "V-wFqEzreJCO"
   },
   "outputs": [
    {
     "name": "stderr",
     "output_type": "stream",
     "text": [
      "/tmp/ipykernel_391131/3138711342.py:2: FutureWarning: Series.__getitem__ treating keys as positions is deprecated. In a future version, integer keys will always be treated as labels (consistent with DataFrame behavior). To access a value by position, use `ser.iloc[pos]`\n",
      "  real_count = pd.read_sql(f\"SELECT COUNT(*) as cnt FROM {table_name}\", engine).iloc[\n"
     ]
    }
   ],
   "source": [
    "flight_expected_count = 9251880\n",
    "flight_expected_schema = [\n",
    "    \"id\",\n",
    "    \"month\",\n",
    "    \"day_of_month\",\n",
    "    \"day_of_week\",\n",
    "    \"op_unique_carrier\",\n",
    "    \"tail_num\",\n",
    "    \"op_carrier_fl_num\",\n",
    "    \"origin_airport_id\",\n",
    "    \"dest_airport_id\",\n",
    "    \"crs_dep_time\",\n",
    "    \"dep_time\",\n",
    "    \"dep_delay_new\",\n",
    "    \"dep_time_blk\",\n",
    "    \"crs_arr_time\",\n",
    "    \"arr_time\",\n",
    "    \"arr_delay_new\",\n",
    "    \"arr_time_blk\",\n",
    "    \"cancelled\",\n",
    "    \"crs_elapsed_time\",\n",
    "    \"actual_elapsed_time\",\n",
    "    \"distance\",\n",
    "    \"distance_group\",\n",
    "    \"year\",\n",
    "    \"carrier_delay\",\n",
    "    \"weather_delay\",\n",
    "    \"nas_delay\",\n",
    "    \"security_delay\",\n",
    "    \"late_aircraft_delay\",\n",
    "]\n",
    "\n",
    "test_data_export(\"flight\", flight_expected_count, flight_expected_schema)"
   ]
  },
  {
   "cell_type": "markdown",
   "metadata": {
    "id": "cxE3lAUAeJCP"
   },
   "source": [
    " ## Sprawdzenie tabeli `airport_list`\n",
    " Uruchom kod poniżej, aby sprawdzić, czy ta część została poprawnie wykonana"
   ]
  },
  {
   "cell_type": "code",
   "execution_count": 16,
   "metadata": {
    "id": "tRD2iJMXeJCP"
   },
   "outputs": [
    {
     "name": "stderr",
     "output_type": "stream",
     "text": [
      "/tmp/ipykernel_391131/3138711342.py:2: FutureWarning: Series.__getitem__ treating keys as positions is deprecated. In a future version, integer keys will always be treated as labels (consistent with DataFrame behavior). To access a value by position, use `ser.iloc[pos]`\n",
      "  real_count = pd.read_sql(f\"SELECT COUNT(*) as cnt FROM {table_name}\", engine).iloc[\n"
     ]
    }
   ],
   "source": [
    "aircraft_list_expected_count = 97\n",
    "aircraft_list_expected_schema = [\n",
    "    \"id\",\n",
    "    \"origin_airport_id\",\n",
    "    \"display_airport_name\",\n",
    "    \"origin_city_name\",\n",
    "    \"name\",\n",
    "]\n",
    "\n",
    "test_data_export(\n",
    "    \"airport_list\", aircraft_list_expected_count, aircraft_list_expected_schema\n",
    ")"
   ]
  },
  {
   "cell_type": "code",
   "execution_count": 17,
   "metadata": {
    "id": "bKWE8bx2eJCP"
   },
   "outputs": [
    {
     "name": "stdout",
     "output_type": "stream",
     "text": [
      "Wszystko wygląda OK :) Możesz przejść do kolejnego kroku.\n"
     ]
    }
   ],
   "source": [
    "msg = \"Wszystko wygląda OK :) Możesz przejść do kolejnego kroku.\"\n",
    "print(msg)"
   ]
  },
  {
   "cell_type": "markdown",
   "metadata": {
    "id": "24WRkE81eJCP"
   },
   "source": [
    " # Podsumowanie\n",
    " W tym notatniku załadowaliśmy pobrane wcześniej pliki na bazę danych. Dzięki temu stworzyliśmy centralne miejsce ich magazynowania, co wykorzystamy zarówno przy analizie danych, jak i przy późniejszej budowie systemu raportowego."
   ]
  }
 ],
 "metadata": {
  "colab": {
   "provenance": []
  },
  "kernelspec": {
   "display_name": ".venv",
   "language": "python",
   "name": "python3"
  },
  "language_info": {
   "codemirror_mode": {
    "name": "ipython",
    "version": 3
   },
   "file_extension": ".py",
   "mimetype": "text/x-python",
   "name": "python",
   "nbconvert_exporter": "python",
   "pygments_lexer": "ipython3",
   "version": "3.10.12"
  },
  "widgets": {
   "application/vnd.jupyter.widget-state+json": {
    "state": {},
    "version_major": 2,
    "version_minor": 0
   }
  }
 },
 "nbformat": 4,
 "nbformat_minor": 4
}
