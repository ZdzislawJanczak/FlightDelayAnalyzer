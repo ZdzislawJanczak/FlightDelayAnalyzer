{
 "cells": [
  {
   "cell_type": "markdown",
   "metadata": {
    "id": "GSGpg7lciSr0"
   },
   "source": [
    " # Opis notatnika\n",
    " Zmierzamy do końca analizy danych, które zostały nam udostępnione. Ten krok dodaje jeszcze więcej informacji do naszego wyjściowego zbioru. Tym razem sprawdzimy między innymi to, czy opóźnienia lotów zależne są od trasy czy warunków pogodowych.\n",
    "\n",
    " Zanim jednak do tego przejdziemy, należy, podobnie jak w poprzednich krokach, skonfigurować odpowiednio notatnik."
   ]
  },
  {
   "cell_type": "markdown",
   "metadata": {
    "id": "bF88obm2iSr4"
   },
   "source": [
    " Tutaj zaimportuj wymagane biblioteki"
   ]
  },
  {
   "cell_type": "code",
   "execution_count": null,
   "metadata": {
    "id": "UuQtAJAOiSr5",
    "tags": []
   },
   "outputs": [],
   "source": [
    "from sqlalchemy import create_engine\n",
    "import numpy as np\n",
    "import matplotlib.pyplot as plt\n",
    "import matplotlib.mlab as mlab\n",
    "import pandas as pd\n",
    "import sys\n",
    "sys.path.append('../')\n",
    "\n",
    "pd.set_option(\"display.max_colwidth\", 3000)\n",
    "pd.set_option(\"display.max_columns\", None)\n",
    "\n",
    "%matplotlib inline"
   ]
  },
  {
   "cell_type": "markdown",
   "metadata": {
    "id": "WRSC_2ogiSr6"
   },
   "source": [
    " ## Połączenie z bazą danych\n",
    " Tutaj uzupełnij konfigurację połączenia"
   ]
  },
  {
   "cell_type": "code",
   "execution_count": null,
   "metadata": {
    "id": "444G833ciSr7",
    "tags": []
   },
   "outputs": [],
   "source": [
    "from config.DB_connect import username, passwd, hostname, db_name"
   ]
  },
  {
   "cell_type": "markdown",
   "metadata": {
    "id": "IlQvHCwHiSr7"
   },
   "source": [
    " Tutaj stwórz zmienną engine, która zostanie użyta do połączenia z bazą danych"
   ]
  },
  {
   "cell_type": "code",
   "execution_count": null,
   "metadata": {
    "id": "uczM1OVWiSr8",
    "tags": []
   },
   "outputs": [],
   "source": [
    "url = f\"postgresql://{username}:{passwd}@{hostname}:{port}/{db_name}\"\n",
    "engine = create_engine(url, echo=False)"
   ]
  },
  {
   "cell_type": "markdown",
   "metadata": {
    "id": "3OUYFIwLiSr8"
   },
   "source": [
    " Tutaj uzupełnij implementację metody `read_sql_table`"
   ]
  },
  {
   "cell_type": "code",
   "execution_count": null,
   "metadata": {
    "id": "X5HAtWUGiSr9",
    "tags": []
   },
   "outputs": [],
   "source": [
    "def read_sql_table(table_name):\n",
    "    return pd.read_sql(f\"SELECT * FROM {table_name}\", engine)"
   ]
  },
  {
   "cell_type": "markdown",
   "metadata": {
    "id": "s5VOVS0DiSr-"
   },
   "source": [
    " Tutaj zaczytaj zapisaną wcześniej ramkę danych `flight_df` do zmniennej o takiej samej nazwie"
   ]
  },
  {
   "cell_type": "code",
   "execution_count": null,
   "metadata": {
    "id": "1qkBzo5QiSr-",
    "tags": []
   },
   "outputs": [],
   "source": [
    "flight_df = pd.read_csv(\"../data/processed/flight_02.csv\", index_col=None)"
   ]
  },
  {
   "cell_type": "markdown",
   "metadata": {
    "id": "npSQe2AriSr-"
   },
   "source": [
    " # Wzbogacenie o `airport_list`\n",
    " Wczytaj do obszaru roboczego tabelę `airport_list` używając procedury `read_sql_table`. Wykonaj poniższe ćwiczenia:\n",
    " 1. Sprawdź, czy klucz `origin_airport_id` jest unikalny, tj. nie ma dwóch takich samych wartości w kolumnie `origin_airport_id`,\n",
    " 1. Jeżeli duplikaty występują, usuń je w najdogodniejszy dla Ciebie sposób.\n",
    " 1. Jeśli duplikaty nie występują, złącz ramki `airport_list_df` wraz z aktualną `flight_df`, używając kolumny `origin_airport_id` oraz złączenia typu `LEFT JOIN`. Z ramki `airport_list_df` interesuje nas dodanie kolumny `origin_city_name`.\n",
    " 1. Dodatkowo dokonaj jeszcze raz złączenia ramki `flight_df` z `airport_list_df`, tym razem jednak złącz kolumnę `destination_airport_id` wraz z `origin_airport_id`. Podobnie jak wcześniej, interesuje nas kolumna `origin_city_name`, jedank ona powinna zostać wyświetlona jako `destination_city_name`"
   ]
  },
  {
   "cell_type": "markdown",
   "metadata": {
    "id": "f1ujavbmiSr_"
   },
   "source": [
    " Tutaj wczytaj ramkę `airport_list_df`"
   ]
  },
  {
   "cell_type": "code",
   "execution_count": null,
   "metadata": {
    "id": "NqU5iI3kiSsA",
    "tags": []
   },
   "outputs": [],
   "source": [
    "airport_list_df = read_sql_table(\"airport_list\")\n",
    "\n",
    "airport_list_df.rename(\n",
    "    columns={\n",
    "        \"name\": \"origin_name\",\n",
    "        \"display_airport_name\": \"origin_airport_name\"\n",
    "    },\n",
    "    inplace=True,\n",
    ")"
   ]
  },
  {
   "cell_type": "markdown",
   "metadata": {
    "id": "y7BoIO66iSsA"
   },
   "source": [
    " Tutaj sprawdż, czy występują duplikaty dla kolumny `origin_airport_id`"
   ]
  },
  {
   "cell_type": "code",
   "execution_count": null,
   "metadata": {
    "id": "NO2RzpYDiSsA",
    "tags": []
   },
   "outputs": [],
   "source": [
    "airport_list_df[airport_list_df[\"origin_airport_id\"].duplicated()]"
   ]
  },
  {
   "cell_type": "code",
   "execution_count": null,
   "metadata": {
    "tags": []
   },
   "outputs": [],
   "source": [
    "airport_list_df.drop(columns=[\"id\"], inplace=True)"
   ]
  },
  {
   "cell_type": "markdown",
   "metadata": {
    "id": "mRoPbkefiSsA"
   },
   "source": [
    " Tutaj usuń duplikaty - jeśli występują"
   ]
  },
  {
   "cell_type": "markdown",
   "metadata": {
    "id": "sdDW1fcDiSsB"
   },
   "source": [
    "'origin_airport_id' nie zawiera duplikatów"
   ]
  },
  {
   "cell_type": "markdown",
   "metadata": {
    "id": "lay6tlPSiSsB"
   },
   "source": [
    " Tutaj dokonaj złączenia ramki `flight_df` oraz `airport_list_df` używając `origin_airport_id`"
   ]
  },
  {
   "cell_type": "code",
   "execution_count": null,
   "metadata": {
    "id": "tsKvEv7ZiSsB",
    "tags": []
   },
   "outputs": [],
   "source": [
    "flight_df = flight_df.merge(\n",
    "    airport_list_df,\n",
    "    how=\"left\",\n",
    "    on=\"origin_airport_id\"\n",
    ")"
   ]
  },
  {
   "cell_type": "markdown",
   "metadata": {
    "id": "5AcIjdrSiSsB"
   },
   "source": [
    " Tutaj dokonaj złączenia ramki `flight_df` oraz `airport_list_df` używając `destination_airport_id`"
   ]
  },
  {
   "cell_type": "code",
   "execution_count": null,
   "metadata": {
    "id": "79pOLYquiSsC",
    "tags": []
   },
   "outputs": [],
   "source": [
    "airport_list_df.rename(\n",
    "    columns={\n",
    "        \"origin_airport_id\": \"dest_airport_id\",\n",
    "        \"origin_airport_name\": \"destination_airport_name\",\n",
    "        \"origin_city_name\": \"destination_city_name\",\n",
    "        \"origin_name\": \"destination_name\",\n",
    "    },\n",
    "    inplace=True,\n",
    ")"
   ]
  },
  {
   "cell_type": "code",
   "execution_count": null,
   "metadata": {
    "id": "79pOLYquiSsC",
    "tags": []
   },
   "outputs": [],
   "source": [
    "flight_df = flight_df.merge(\n",
    "    airport_list_df,\n",
    "    how=\"left\",\n",
    "    on=\"dest_airport_id\",\n",
    ")"
   ]
  },
  {
   "cell_type": "markdown",
   "metadata": {
    "id": "YOkJOvPDiSsC"
   },
   "source": [
    "### Sprawdzenie\n",
    "Uruchom kod poniżej, aby sprawdzić, czy ta część została poprawnie wykonana"
   ]
  },
  {
   "cell_type": "code",
   "execution_count": null,
   "metadata": {
    "id": "6-DKaJV3iSsC",
    "tags": []
   },
   "outputs": [],
   "source": [
    "assert (\n",
    "    \"origin_city_name\" in flight_df.columns\n",
    "), \"Brak kolumny `origin_city_name` w ramce flight_df\"\n",
    "assert (\n",
    "    \"destination_city_name\" in flight_df.columns\n",
    "), \"Brak kolumny `destination_city_name` w ramce flight_df\"\n",
    "\n",
    "flight_df_expected_rows_amount = 6922924\n",
    "assert (\n",
    "    flight_df.shape[0] == flight_df_expected_rows_amount\n",
    "), \"Ups, zwiększyła się liczba wierszy...\""
   ]
  },
  {
   "cell_type": "markdown",
   "metadata": {
    "id": "TM_T8_yUiSsC"
   },
   "source": [
    " ## Analiza według lotnisk oraz tras\n",
    " Wykonaj poniższe polecenia:\n",
    " 1. Wyznacz lotniska, z których **odlatywało** najwięcej samolotów. Wynik zapisz do ramki `top_airports_origin_df`.\n",
    " 1. Wyznacz lotnika, na których najwięcej lotów **się kończyło**. Wynik zapisz do ramki `top_airports_destination_df`.\n",
    " 1. Wyznacz najczęściej uczęszczaną trasę, wynik zapisz do ramki `top_route_df`.\n",
    " 1. Przy założeniu, że reprezentatywna liczba lotów na trasie wynosi ponad 500, wyznacz dodatkowo top 10:\n",
    "     - tras z **najmniejszym odsetkiem opóźnień**, wynik zapisz do ramki `least_route_delays_df`.\n",
    "     - tras z **największym odsetkiem opóźnień**, wynik zapisz do ramki `top_route_delays_df`."
   ]
  },
  {
   "cell_type": "markdown",
   "metadata": {
    "id": "dZkT8xQQiSsD"
   },
   "source": [
    " Tutaj wyznacz ramkę `top_airports_origin_df`"
   ]
  },
  {
   "cell_type": "code",
   "execution_count": null,
   "metadata": {
    "id": "QdcYfGq0iSsD",
    "tags": []
   },
   "outputs": [],
   "source": [
    "top_airports_origin_df = flight_df.groupby(\n",
    "    \"origin_airport_id\", as_index=None).count()['id']"
   ]
  },
  {
   "cell_type": "markdown",
   "metadata": {
    "id": "NspSpmgWiSsD"
   },
   "source": [
    " Tutaj wyznacz ramkę `top_airports_destination_df`"
   ]
  },
  {
   "cell_type": "code",
   "execution_count": null,
   "metadata": {
    "id": "PUsGhMxciSsD",
    "tags": []
   },
   "outputs": [],
   "source": [
    "top_airports_destination_df = flight_df.groupby(\n",
    "    \"dest_airport_id\", as_index=None).count()['id']"
   ]
  },
  {
   "cell_type": "markdown",
   "metadata": {
    "id": "ipHJ5jBQiSsE"
   },
   "source": [
    " ### Sprawdzenie dla `top_airport_origin`"
   ]
  },
  {
   "cell_type": "code",
   "execution_count": null,
   "metadata": {
    "id": "HSW0atgsiSsE",
    "tags": []
   },
   "outputs": [],
   "source": [
    "top_airports_origin_head = (\n",
    "    top_airports_origin_df.sort_values(ascending=False).head().to_list()\n",
    ")\n",
    "top_airports_origin_head = tuple(top_airports_origin_head)\n",
    "top_airports_origin_head_expected = (387620, 327647, 294944, 245160, 228415)\n",
    "\n",
    "assert (\n",
    "    top_airports_origin_head == top_airports_origin_head_expected\n",
    "), f\"Nie zgadza się top 5 wierszy, oczekiwano wyników: {top_airports_origin_head_expected} otrzymano: {top_airports_origin_head}\""
   ]
  },
  {
   "cell_type": "markdown",
   "metadata": {
    "id": "GlET6bUoiSsE"
   },
   "source": [
    "### Sprawdzenie dla `top_airport_destination`"
   ]
  },
  {
   "cell_type": "code",
   "execution_count": null,
   "metadata": {
    "id": "dPCfyL8kiSsE",
    "tags": []
   },
   "outputs": [],
   "source": [
    "top_airports_destination_head = (\n",
    "    top_airports_destination_df.sort_values(ascending=False).head().to_list()\n",
    ")\n",
    "top_airports_destination_head = tuple(top_airports_destination_head)\n",
    "top_airports_destination_head_expected = (\n",
    "    387542, 327169, 294568, 244898, 227917)\n",
    "\n",
    "assert (\n",
    "    top_airports_destination_head == top_airports_destination_head_expected\n",
    "), f\"Nie zgadza się top 5 wierszy, oczekiwano wyników: {top_airports_destination_head_expected} otrzymano: {top_airports_destination_head}\""
   ]
  },
  {
   "cell_type": "markdown",
   "metadata": {},
   "source": [
    " 1. Wyznacz najczęściej uczęszczaną trasę, wynik zapisz do ramki `top_route_df`.\n"
   ]
  },
  {
   "cell_type": "code",
   "execution_count": null,
   "metadata": {
    "tags": []
   },
   "outputs": [],
   "source": [
    "top_route_df = flight_df.groupby(\n",
    "    ['origin_airport_id', 'dest_airport_id'], as_index=None)['id'].agg('count')\n",
    "top_route_df.rename(columns={'id': 'route_count'}, inplace=True)\n",
    "top_route_df.sort_values(by=['route_count'], inplace=True, ascending=False)"
   ]
  },
  {
   "cell_type": "markdown",
   "metadata": {},
   "source": [
    " 1. Przy założeniu, że reprezentatywna liczba lotów na trasie wynosi ponad 500, wyznacz dodatkowo top 10:\n",
    "     - tras z **najmniejszym odsetkiem opóźnień**, wynik zapisz do ramki `least_route_delays_df`.\n",
    "     - tras z **największym odsetkiem opóźnień**, wynik zapisz do ramki `top_route_delays_df`."
   ]
  },
  {
   "cell_type": "code",
   "execution_count": null,
   "metadata": {},
   "outputs": [],
   "source": [
    "# dodawanie informacji o ilości lotów do flight_df\n",
    "\n",
    "flight_df = pd.merge(\n",
    "    left=flight_df,\n",
    "    right=top_route_df,\n",
    "    on=['origin_airport_id', 'dest_airport_id']\n",
    ")\n",
    "flight_df.sort_values(by=['route_count'], inplace=True, ascending=False)\n",
    "\n",
    "flight_df.shape[0]"
   ]
  },
  {
   "cell_type": "code",
   "execution_count": null,
   "metadata": {},
   "outputs": [],
   "source": [
    "least_route_delays_df = flight_df.loc[flight_df['route_count'] > 500].sort_values(\n",
    "    by=['dep_delay'], ascending=True)\n",
    "least_route_delays_df.head()"
   ]
  },
  {
   "cell_type": "code",
   "execution_count": null,
   "metadata": {},
   "outputs": [],
   "source": [
    "least_route_delays_df.shape[0]"
   ]
  },
  {
   "cell_type": "code",
   "execution_count": null,
   "metadata": {},
   "outputs": [],
   "source": [
    "top_route_delays_df = flight_df.loc[flight_df['route_count'] > 500].sort_values(\n",
    "    by=['dep_delay'], ascending=False)\n",
    "top_route_delays_df.head()"
   ]
  },
  {
   "cell_type": "code",
   "execution_count": null,
   "metadata": {},
   "outputs": [],
   "source": [
    "top_route_delays_df.shape[0]"
   ]
  },
  {
   "cell_type": "markdown",
   "metadata": {
    "id": "ti3aFTkhiSsF"
   },
   "source": [
    " # Wzbogacenie o dane pogodowe\n",
    " Używając procedury `read_sql_table`, wczytaj tabelę `airport_weather` do ramki `airport_weather_df`. Następnie wykonaj następujące polecenia:\n",
    " 1. Pozostaw w ramce tylko następujące kolumny: `['station', 'name', 'date', 'prcp', 'snow', 'snwd', 'tmax', 'awnd']`.\n",
    " 1. Połącz ramki `airport_list_df` wraz z `airport_weather_df` po odpowiedniej kolumnie używając takiego złączenia, aby w wyniku usunąć te wiersze (lotniska), które nie posiadają danych pogodowych. Dodatkowo, upewnij się, że zostanie tylko dodana kolumna `origin_airport_id`."
   ]
  },
  {
   "cell_type": "markdown",
   "metadata": {
    "id": "XmM1BAg2iSsF"
   },
   "source": [
    " Tutaj wczytaj ramkę `airport_weather`"
   ]
  },
  {
   "cell_type": "code",
   "execution_count": null,
   "metadata": {
    "id": "_8K-0UuYiSsF"
   },
   "outputs": [],
   "source": [
    "airport_weather_df = read_sql_table(\"airport_weather\")\n",
    "airport_weather_df.columns"
   ]
  },
  {
   "cell_type": "markdown",
   "metadata": {
    "id": "UUWJZl4yiSsF"
   },
   "source": [
    " Tutaj oczyść ramkę `airport_weather_df` z nadmiarowych kolumn"
   ]
  },
  {
   "cell_type": "code",
   "execution_count": null,
   "metadata": {
    "id": "uKoYzdP6iSsF"
   },
   "outputs": [],
   "source": [
    "airport_weather_df.drop(\n",
    "    columns=[\n",
    "        \"id\",\n",
    "        \"wt18\",\n",
    "        \"tavg\",\n",
    "        \"tmin\",\n",
    "        \"wdf2\",\n",
    "        \"wdf5\",\n",
    "        \"wsf2\",\n",
    "        \"wsf5\",\n",
    "        \"wt01\",\n",
    "        \"wt08\",\n",
    "        \"wt02\",\n",
    "        \"wt03\",\n",
    "        \"wt04\",\n",
    "        \"wt09\",\n",
    "        \"wt06\",\n",
    "        \"wt05\",\n",
    "        \"pgtm\",\n",
    "        \"wt10\",\n",
    "        \"wesd\",\n",
    "        \"sn32\",\n",
    "        \"sx32\",\n",
    "        \"psun\",\n",
    "        \"tsun\",\n",
    "        \"tobs\",\n",
    "        \"wt07\",\n",
    "        \"wt11\",\n",
    "    ],\n",
    "    inplace=True,\n",
    ")"
   ]
  },
  {
   "cell_type": "code",
   "execution_count": null,
   "metadata": {
    "id": "uKoYzdP6iSsF"
   },
   "outputs": [],
   "source": [
    "airport_weather_df.columns"
   ]
  },
  {
   "cell_type": "code",
   "execution_count": null,
   "metadata": {},
   "outputs": [],
   "source": [
    "airport_list_df.columns"
   ]
  },
  {
   "cell_type": "markdown",
   "metadata": {
    "id": "OS7fYirxiSsF"
   },
   "source": [
    " Tutaj połącz ramki `airport_list_df` oraz `airport_weather_df` aktualizując `airport_weather_df`"
   ]
  },
  {
   "cell_type": "code",
   "execution_count": null,
   "metadata": {},
   "outputs": [],
   "source": [
    "airport_weather_df = pd.merge(\n",
    "    left=airport_list_df,\n",
    "    right=airport_weather_df,\n",
    "    left_on=\"destination_name\",\n",
    "    right_on=\"name\",\n",
    ")\n",
    "airport_weather_df"
   ]
  },
  {
   "cell_type": "markdown",
   "metadata": {
    "id": "Woi9xDUyiSsG"
   },
   "source": [
    " ### Sprawdzenie\n",
    " Uruchom kod poniżej, aby sprawdzić, czy ta część została poprawnie wykonana"
   ]
  },
  {
   "cell_type": "code",
   "execution_count": null,
   "metadata": {
    "id": "oJ-Hl8DIiSsG"
   },
   "outputs": [],
   "source": [
    "airport_weather_df_expected_shape = (43394, 12)\n",
    "airport_weather_df_shape = airport_weather_df.shape\n",
    "\n",
    "assert (\n",
    "    airport_weather_df_expected_shape == airport_weather_df_shape\n",
    "), f\"Nieodpowiedni wymiar ramki airport_weather_df, oczekiwano (wierszy, kolumn): {airport_weather_df_expected_shape}\""
   ]
  },
  {
   "cell_type": "markdown",
   "metadata": {
    "id": "84aqKqmqiSsG"
   },
   "source": [
    " ## Połączenie `airport_weather_df` oraz `flight_df`\n",
    " W celu złączenia ramek `airport_weather_df` oraz `flight_df` wykonaj następujące kroki:\n",
    " 1. w ramce `aiport_weather_df` występuje kolumna `date`, zrzutuj ją na typ `DATETIME`.\n",
    " 1. w ramce `flight_df` należy stworzyć nową kolumnę o nazwie `date`. W tym celu:\n",
    " \t- złącz kolumny `month`, `day_of_month` oraz `year` razem, użyj następującego formatu daty: `YYYY-MM-DD`.\n",
    " \t- zrzutuj kolumnę `date` na typ `DATETIME`.\n",
    " 1. złącz ramki używając odpowiedniego klucza, wynik złączenia zapisz do ramki `flight_df`. Uzyj złącznia typu `LEFT JOIN`.\n",
    "\n",
    " > Dlaczego istotne jest zachowanie typów przy złączeniu?\n",
    "\n",
    "W trakcie pracy możesz posłużyć się następującymi artykułami z `LMS`:\n",
    " - `Python - analiza danych > Dzień 6 - Pandas > Merge`\n",
    " - `Python - analiza danych > Dzień 6 - Pandas > Praca z datetime`\n",
    " - Dokumentacje metody `to_datetime`: [klik](https://pandas.pydata.org/docs/reference/api/pandas.to_datetime.html)\n",
    " - Dostępne formaty dat: [klik](https://www.programiz.com/python-programming/datetime/strftime) - sekcja `Format Code List`"
   ]
  },
  {
   "cell_type": "markdown",
   "metadata": {
    "id": "3LimbS-niSsG"
   },
   "source": [
    " Tutaj zrzutuj kolumnę `date` na `DATETIME` w ramce `airport_weather_df`"
   ]
  },
  {
   "cell_type": "code",
   "execution_count": null,
   "metadata": {
    "id": "SZKRgHq1iSsG"
   },
   "outputs": [],
   "source": [
    "airport_weather_df[\"date\"] = pd.to_datetime(airport_weather_df[\"date\"])\n",
    "airport_weather_df['date'].info()"
   ]
  },
  {
   "cell_type": "markdown",
   "metadata": {
    "id": "99k4j9KSiSsH"
   },
   "source": [
    " Tutaj stwórz kolumnę `date` w ramce `flight_df`. Pamiętaj, aby była ona również typu `DATETIME`"
   ]
  },
  {
   "cell_type": "code",
   "execution_count": null,
   "metadata": {},
   "outputs": [],
   "source": [
    "flight_df['date'] = pd.to_datetime(\n",
    "    dict(year=flight_df.year, month=flight_df.month, day=flight_df.day_of_month))\n",
    "flight_df['date'].info()"
   ]
  },
  {
   "cell_type": "code",
   "execution_count": null,
   "metadata": {},
   "outputs": [],
   "source": [
    "flight_df.columns"
   ]
  },
  {
   "cell_type": "code",
   "execution_count": null,
   "metadata": {},
   "outputs": [],
   "source": [
    "airport_weather_df.columns"
   ]
  },
  {
   "cell_type": "code",
   "execution_count": null,
   "metadata": {},
   "outputs": [],
   "source": [
    "airport_weather_df.drop(columns=[\"name\"], inplace=True)"
   ]
  },
  {
   "cell_type": "markdown",
   "metadata": {
    "id": "joHaF82HiSsH"
   },
   "source": [
    " Tutaj złącz tabele `airport_weather_df` oraz `flight_df`"
   ]
  },
  {
   "cell_type": "code",
   "execution_count": null,
   "metadata": {},
   "outputs": [],
   "source": [
    "flight_df = flight_df.merge(airport_weather_df, how='left', on=['date',\n",
    "                                                                'dest_airport_id',\n",
    "                                                                'destination_airport_name',\n",
    "                                                                'destination_city_name',\n",
    "                                                                'destination_name'],\n",
    "                            )"
   ]
  },
  {
   "cell_type": "code",
   "execution_count": null,
   "metadata": {},
   "outputs": [],
   "source": [
    "flight_df.columns"
   ]
  },
  {
   "cell_type": "code",
   "execution_count": null,
   "metadata": {},
   "outputs": [],
   "source": [
    "airport_weather_df.rename(\n",
    "    columns={\n",
    "        \"dest_airport_id\": \"origin_airport_id\",\n",
    "        \"destination_airport_name\": \"origin_airport_name\",\n",
    "        \"destination_city_name\": \"origin_city_name\",\n",
    "        \"destination_name\": \"origin_name\",\n",
    "    },\n",
    "    inplace=True,\n",
    ")"
   ]
  },
  {
   "cell_type": "code",
   "execution_count": null,
   "metadata": {},
   "outputs": [],
   "source": [
    "airport_weather_df.columns"
   ]
  },
  {
   "cell_type": "code",
   "execution_count": null,
   "metadata": {},
   "outputs": [],
   "source": [
    "flight_df = flight_df.merge(airport_weather_df,\n",
    "                            how='left',\n",
    "                            on=[\"date\", \"origin_airport_id\",\n",
    "                                \"origin_airport_name\",\n",
    "                                \"origin_city_name\",\n",
    "                                \"origin_name\",\n",
    "                                ],\n",
    "                            suffixes=(\"_dest\", \"_origin\"),\n",
    "                            )"
   ]
  },
  {
   "cell_type": "code",
   "execution_count": null,
   "metadata": {},
   "outputs": [],
   "source": [
    "flight_df.columns"
   ]
  },
  {
   "cell_type": "markdown",
   "metadata": {
    "id": "CKYPhq-CiSsH"
   },
   "source": [
    " ### Sprawdzenie\n",
    " Uruchom kod poniżej, aby sprawdzić, czy ta część została poprawnie wykonana"
   ]
  },
  {
   "cell_type": "code",
   "execution_count": null,
   "metadata": {
    "id": "ebiyp_5SiSsH"
   },
   "outputs": [],
   "source": [
    "flight_df_expected_rows_amount = 6922924\n",
    "assert (\n",
    "    flight_df.shape[0] == flight_df_expected_rows_amount\n",
    "), \"Ups, zmieniła się liczba wierszy...\""
   ]
  },
  {
   "cell_type": "markdown",
   "metadata": {
    "id": "FopJHJ3-iSsH"
   },
   "source": [
    " # Praca samodzielna\n",
    " Używając `flight_df` zbadaj następujące hipotezy:\n",
    " 1. Opady śniegu w lotnisku wylotowym wpływają na **wielkość** opóźnienia lotów (kolumna `snow`).\n",
    " 1. Wielkość pokrywy śnieżnej wpływa na **wielkość** opóźnienia lotów (kolumna `snwd`).\n",
    " 1. Temperatura maksymalna wpływa na **wielkość** opóźnienia lotów (kolumna `tmax`).\n",
    " W każdym ćwiczeniu pamiętaj o uwzględnieniu tylko tych zjawisk atmosferycznych, które były zaobserwowane (`>`). Przy wykonywaniu tego zadania masz pełną dowolność.\n",
    "\n",
    "> **Wskazówka:**  \n",
    "> Pamiętaj o tym, aby każda analiza była porównywalna, tj. dokonana przy podobnych założeniach."
   ]
  },
  {
   "cell_type": "markdown",
   "metadata": {
    "id": "ot9M18lXiSsI"
   },
   "source": [
    " ## Analiza dla kolumny `snow`"
   ]
  },
  {
   "cell_type": "markdown",
   "metadata": {
    "id": "8Bfo0ZU6iSsI"
   },
   "source": [
    " ### Określenie statystyk opisowych dla kolumny `snow`"
   ]
  },
  {
   "cell_type": "code",
   "execution_count": null,
   "metadata": {},
   "outputs": [],
   "source": [
    "flight_df_snow = flight_df.loc[flight_df['snow_origin'] > 0][[\n",
    "    'dep_delay', 'snow_origin']]"
   ]
  },
  {
   "cell_type": "code",
   "execution_count": null,
   "metadata": {},
   "outputs": [],
   "source": [
    "# flight_df_snow.corr().style.background_gradient(cmap='seismic')"
   ]
  },
  {
   "cell_type": "code",
   "execution_count": null,
   "metadata": {},
   "outputs": [],
   "source": [
    "plt.scatter(flight_df_snow.snow_origin, flight_df_snow.dep_delay, alpha=0.5)\n",
    "plt.xlabel = \"ilość opadów śniegu\"\n",
    "plt.ylabel = \"czas opóżnienia odlotów\"\n",
    "plt.show()"
   ]
  },
  {
   "cell_type": "markdown",
   "metadata": {
    "id": "71em1ElSiSsI"
   },
   "source": [
    " ## Analiza dla kolumny `snwd`"
   ]
  },
  {
   "cell_type": "markdown",
   "metadata": {
    "id": "qZ3XLzuyiSsI"
   },
   "source": [
    " ### Określenie statystyk opisowych dla kolumny `snwd`"
   ]
  },
  {
   "cell_type": "code",
   "execution_count": null,
   "metadata": {
    "id": "GQbego0SiSsI"
   },
   "outputs": [],
   "source": [
    "flight_df_snwd = flight_df.loc[flight_df['snwd_origin'] > 0][[\n",
    "    'dep_delay', 'snwd_origin']]\n",
    "# flight_df_snwd.corr().style.background_gradient(cmap='seismic')"
   ]
  },
  {
   "cell_type": "code",
   "execution_count": null,
   "metadata": {},
   "outputs": [],
   "source": [
    "plt.scatter(flight_df_snwd.snwd_origin, flight_df_snwd.dep_delay, alpha=0.5)\n",
    "plt.xlabel = \"grubość zalegającego śniegu\"\n",
    "plt.ylabel = \"czas opóżnienia odlotów\"\n",
    "plt.show()"
   ]
  },
  {
   "cell_type": "markdown",
   "metadata": {
    "id": "esT7sp11iSsI"
   },
   "source": [
    " ## Analiza dla kolumny `tmax`"
   ]
  },
  {
   "cell_type": "markdown",
   "metadata": {
    "id": "VhDL12yxiSsI"
   },
   "source": [
    " ### Określenie statystyk opisowych dla kolumny `tmax`"
   ]
  },
  {
   "cell_type": "code",
   "execution_count": null,
   "metadata": {
    "id": "vAViuWrdiSsJ"
   },
   "outputs": [],
   "source": [
    "flight_df_tmax = flight_df[['dep_delay', 'tmax_origin']]\n",
    "# flight_df_tmax.corr().style.background_gradient(cmap='seismic')"
   ]
  },
  {
   "cell_type": "code",
   "execution_count": null,
   "metadata": {},
   "outputs": [],
   "source": [
    "plt.scatter(flight_df_tmax.tmax_origin, flight_df_tmax.dep_delay, alpha=0.5)\n",
    "plt.xlabel = \"temperatura\"\n",
    "plt.ylabel = \"czas opóżnienia odlotów\"\n",
    "plt.show()"
   ]
  },
  {
   "cell_type": "markdown",
   "metadata": {
    "id": "B9pXYHV_iSsJ"
   },
   "source": [
    "# Podsumowanie\n",
    "W tej części warsztatu dokonaliśmy kompleksowej analizy posiadanego zbioru danych. Eksploracja\n",
    "pozwoliła nam na zapoznanie się z cechami charakterystycznymi lotów - wiemy już, które \n",
    "zmienne mogą mieć wpływ na opóźnienia lotów, a które nie. Co warto podkreślić, skupiliśmy się na wielu\n",
    "aspektach tej analizy, co otwiera potencjalnie również inne możliwości dalszej pracy nad tą bazą.\n",
    "\n",
    "W tym momencie przejdziemy do kolejnego kroku, w którym, na podstawie tej analizy, przygotujemy \n",
    "system raportowy. Zanim jednak stworzymy dashboard, potrzebujemy zaktualizować naszą bazę danych."
   ]
  }
 ],
 "metadata": {
  "colab": {
   "provenance": []
  },
  "kernelspec": {
   "display_name": ".venv",
   "language": "python",
   "name": "python3"
  },
  "language_info": {
   "codemirror_mode": {
    "name": "ipython",
    "version": 3
   },
   "file_extension": ".py",
   "mimetype": "text/x-python",
   "name": "python",
   "nbconvert_exporter": "python",
   "pygments_lexer": "ipython3",
   "version": "3.10.12"
  },
  "widgets": {
   "application/vnd.jupyter.widget-state+json": {
    "state": {},
    "version_major": 2,
    "version_minor": 0
   }
  }
 },
 "nbformat": 4,
 "nbformat_minor": 4
}
