{
 "cells": [
  {
   "cell_type": "markdown",
   "metadata": {
    "id": "GSGpg7lciSr0"
   },
   "source": [
    " # Opis notatnika\n",
    " Zmierzamy do końca analizy danych, które zostały nam udostępnione. Ten krok dodaje jeszcze więcej informacji do naszego wyjściowego zbioru. Tym razem sprawdzimy między innymi to, czy opóźnienia lotów zależne są od trasy czy warunków pogodowych.\n",
    "\n",
    " Zanim jednak do tego przejdziemy, należy, podobnie jak w poprzednich krokach, skonfigurować odpowiednio notatnik."
   ]
  },
  {
   "cell_type": "markdown",
   "metadata": {
    "id": "bF88obm2iSr4"
   },
   "source": [
    " Tutaj zaimportuj wymagane biblioteki"
   ]
  },
  {
   "cell_type": "code",
   "execution_count": 1,
   "metadata": {
    "id": "UuQtAJAOiSr5",
    "tags": []
   },
   "outputs": [],
   "source": [
    "from sqlalchemy import create_engine\n",
    "import numpy as np\n",
    "import matplotlib.pyplot as plt\n",
    "import matplotlib.mlab as mlab\n",
    "import pandas as pd\n",
    "import sys\n",
    "sys.path.append('../')\n",
    "\n",
    "pd.set_option(\"display.max_colwidth\", 3000)\n",
    "pd.set_option(\"display.max_columns\", None)\n",
    "\n",
    "%matplotlib inline"
   ]
  },
  {
   "cell_type": "markdown",
   "metadata": {
    "id": "WRSC_2ogiSr6"
   },
   "source": [
    " ## Połączenie z bazą danych\n",
    " Tutaj uzupełnij konfigurację połączenia"
   ]
  },
  {
   "cell_type": "code",
   "execution_count": 2,
   "metadata": {
    "id": "444G833ciSr7",
    "tags": []
   },
   "outputs": [],
   "source": [
    "from config.DB_connect import username, passwd, hostname, db_name, port"
   ]
  },
  {
   "cell_type": "markdown",
   "metadata": {
    "id": "IlQvHCwHiSr7"
   },
   "source": [
    " Tutaj stwórz zmienną engine, która zostanie użyta do połączenia z bazą danych"
   ]
  },
  {
   "cell_type": "code",
   "execution_count": 3,
   "metadata": {
    "id": "uczM1OVWiSr8",
    "tags": []
   },
   "outputs": [],
   "source": [
    "url = f\"postgresql://{username}:{passwd}@{hostname}:{port}/{db_name}\"\n",
    "engine = create_engine(url, echo=False)"
   ]
  },
  {
   "cell_type": "markdown",
   "metadata": {
    "id": "3OUYFIwLiSr8"
   },
   "source": [
    " Tutaj uzupełnij implementację metody `read_sql_table`"
   ]
  },
  {
   "cell_type": "code",
   "execution_count": 4,
   "metadata": {
    "id": "X5HAtWUGiSr9",
    "tags": []
   },
   "outputs": [],
   "source": [
    "def read_sql_table(table_name):\n",
    "    return pd.read_sql(f\"SELECT * FROM {table_name}\", engine)"
   ]
  },
  {
   "cell_type": "markdown",
   "metadata": {
    "id": "s5VOVS0DiSr-"
   },
   "source": [
    " Tutaj zaczytaj zapisaną wcześniej ramkę danych `flight_df` do zmniennej o takiej samej nazwie"
   ]
  },
  {
   "cell_type": "code",
   "execution_count": 5,
   "metadata": {
    "id": "1qkBzo5QiSr-",
    "tags": []
   },
   "outputs": [],
   "source": [
    "flight_df = pd.read_csv(\"../data/processed/flight_02.csv\", index_col=None)"
   ]
  },
  {
   "cell_type": "markdown",
   "metadata": {
    "id": "npSQe2AriSr-"
   },
   "source": [
    " # Wzbogacenie o `airport_list`\n",
    " Wczytaj do obszaru roboczego tabelę `airport_list` używając procedury `read_sql_table`. Wykonaj poniższe ćwiczenia:\n",
    " 1. Sprawdź, czy klucz `origin_airport_id` jest unikalny, tj. nie ma dwóch takich samych wartości w kolumnie `origin_airport_id`,\n",
    " 1. Jeżeli duplikaty występują, usuń je w najdogodniejszy dla Ciebie sposób.\n",
    " 1. Jeśli duplikaty nie występują, złącz ramki `airport_list_df` wraz z aktualną `flight_df`, używając kolumny `origin_airport_id` oraz złączenia typu `LEFT JOIN`. Z ramki `airport_list_df` interesuje nas dodanie kolumny `origin_city_name`.\n",
    " 1. Dodatkowo dokonaj jeszcze raz złączenia ramki `flight_df` z `airport_list_df`, tym razem jednak złącz kolumnę `destination_airport_id` wraz z `origin_airport_id`. Podobnie jak wcześniej, interesuje nas kolumna `origin_city_name`, jedank ona powinna zostać wyświetlona jako `destination_city_name`"
   ]
  },
  {
   "cell_type": "markdown",
   "metadata": {
    "id": "f1ujavbmiSr_"
   },
   "source": [
    " Tutaj wczytaj ramkę `airport_list_df`"
   ]
  },
  {
   "cell_type": "code",
   "execution_count": 6,
   "metadata": {
    "id": "NqU5iI3kiSsA",
    "tags": []
   },
   "outputs": [],
   "source": [
    "airport_list_df = read_sql_table(\"airport_list\")\n",
    "\n",
    "airport_list_df.rename(\n",
    "    columns={\n",
    "        \"name\": \"origin_name\",\n",
    "        \"display_airport_name\": \"origin_airport_name\"\n",
    "    },\n",
    "    inplace=True,\n",
    ")"
   ]
  },
  {
   "cell_type": "markdown",
   "metadata": {
    "id": "y7BoIO66iSsA"
   },
   "source": [
    " Tutaj sprawdż, czy występują duplikaty dla kolumny `origin_airport_id`"
   ]
  },
  {
   "cell_type": "code",
   "execution_count": 7,
   "metadata": {
    "id": "NO2RzpYDiSsA",
    "tags": []
   },
   "outputs": [
    {
     "data": {
      "text/html": [
       "<div>\n",
       "<style scoped>\n",
       "    .dataframe tbody tr th:only-of-type {\n",
       "        vertical-align: middle;\n",
       "    }\n",
       "\n",
       "    .dataframe tbody tr th {\n",
       "        vertical-align: top;\n",
       "    }\n",
       "\n",
       "    .dataframe thead th {\n",
       "        text-align: right;\n",
       "    }\n",
       "</style>\n",
       "<table border=\"1\" class=\"dataframe\">\n",
       "  <thead>\n",
       "    <tr style=\"text-align: right;\">\n",
       "      <th></th>\n",
       "      <th>id</th>\n",
       "      <th>origin_airport_id</th>\n",
       "      <th>origin_airport_name</th>\n",
       "      <th>origin_city_name</th>\n",
       "      <th>origin_name</th>\n",
       "    </tr>\n",
       "  </thead>\n",
       "  <tbody>\n",
       "  </tbody>\n",
       "</table>\n",
       "</div>"
      ],
      "text/plain": [
       "Empty DataFrame\n",
       "Columns: [id, origin_airport_id, origin_airport_name, origin_city_name, origin_name]\n",
       "Index: []"
      ]
     },
     "execution_count": 7,
     "metadata": {},
     "output_type": "execute_result"
    }
   ],
   "source": [
    "airport_list_df[airport_list_df[\"origin_airport_id\"].duplicated()]"
   ]
  },
  {
   "cell_type": "code",
   "execution_count": 8,
   "metadata": {
    "tags": []
   },
   "outputs": [],
   "source": [
    "airport_list_df.drop(columns=[\"id\"], inplace=True)"
   ]
  },
  {
   "cell_type": "markdown",
   "metadata": {
    "id": "mRoPbkefiSsA"
   },
   "source": [
    " Tutaj usuń duplikaty - jeśli występują"
   ]
  },
  {
   "cell_type": "markdown",
   "metadata": {
    "id": "sdDW1fcDiSsB"
   },
   "source": [
    "'origin_airport_id' nie zawiera duplikatów"
   ]
  },
  {
   "cell_type": "markdown",
   "metadata": {
    "id": "lay6tlPSiSsB"
   },
   "source": [
    " Tutaj dokonaj złączenia ramki `flight_df` oraz `airport_list_df` używając `origin_airport_id`"
   ]
  },
  {
   "cell_type": "code",
   "execution_count": 9,
   "metadata": {
    "id": "tsKvEv7ZiSsB",
    "tags": []
   },
   "outputs": [],
   "source": [
    "flight_df = flight_df.merge(\n",
    "    airport_list_df,\n",
    "    how=\"left\",\n",
    "    on=\"origin_airport_id\"\n",
    ")"
   ]
  },
  {
   "cell_type": "markdown",
   "metadata": {
    "id": "5AcIjdrSiSsB"
   },
   "source": [
    " Tutaj dokonaj złączenia ramki `flight_df` oraz `airport_list_df` używając `destination_airport_id`"
   ]
  },
  {
   "cell_type": "code",
   "execution_count": 10,
   "metadata": {
    "id": "79pOLYquiSsC",
    "tags": []
   },
   "outputs": [],
   "source": [
    "airport_list_df.rename(\n",
    "    columns={\n",
    "        \"origin_airport_id\": \"dest_airport_id\",\n",
    "        \"origin_airport_name\": \"destination_airport_name\",\n",
    "        \"origin_city_name\": \"destination_city_name\",\n",
    "        \"origin_name\": \"destination_name\",\n",
    "    },\n",
    "    inplace=True,\n",
    ")"
   ]
  },
  {
   "cell_type": "code",
   "execution_count": 11,
   "metadata": {
    "id": "79pOLYquiSsC",
    "tags": []
   },
   "outputs": [],
   "source": [
    "flight_df = flight_df.merge(\n",
    "    airport_list_df,\n",
    "    how=\"left\",\n",
    "    on=\"dest_airport_id\",\n",
    ")"
   ]
  },
  {
   "cell_type": "markdown",
   "metadata": {
    "id": "YOkJOvPDiSsC"
   },
   "source": [
    "### Sprawdzenie\n",
    "Uruchom kod poniżej, aby sprawdzić, czy ta część została poprawnie wykonana"
   ]
  },
  {
   "cell_type": "code",
   "execution_count": 12,
   "metadata": {
    "id": "6-DKaJV3iSsC",
    "tags": []
   },
   "outputs": [],
   "source": [
    "assert (\n",
    "    \"origin_city_name\" in flight_df.columns\n",
    "), \"Brak kolumny `origin_city_name` w ramce flight_df\"\n",
    "assert (\n",
    "    \"destination_city_name\" in flight_df.columns\n",
    "), \"Brak kolumny `destination_city_name` w ramce flight_df\"\n",
    "\n",
    "flight_df_expected_rows_amount = 6922924\n",
    "assert (\n",
    "    flight_df.shape[0] == flight_df_expected_rows_amount\n",
    "), \"Ups, zwiększyła się liczba wierszy...\""
   ]
  },
  {
   "cell_type": "markdown",
   "metadata": {
    "id": "TM_T8_yUiSsC"
   },
   "source": [
    " ## Analiza według lotnisk oraz tras\n",
    " Wykonaj poniższe polecenia:\n",
    " 1. Wyznacz lotniska, z których **odlatywało** najwięcej samolotów. Wynik zapisz do ramki `top_airports_origin_df`.\n",
    " 1. Wyznacz lotnika, na których najwięcej lotów **się kończyło**. Wynik zapisz do ramki `top_airports_destination_df`.\n",
    " 1. Wyznacz najczęściej uczęszczaną trasę, wynik zapisz do ramki `top_route_df`.\n",
    " 1. Przy założeniu, że reprezentatywna liczba lotów na trasie wynosi ponad 500, wyznacz dodatkowo top 10:\n",
    "     - tras z **najmniejszym odsetkiem opóźnień**, wynik zapisz do ramki `least_route_delays_df`.\n",
    "     - tras z **największym odsetkiem opóźnień**, wynik zapisz do ramki `top_route_delays_df`."
   ]
  },
  {
   "cell_type": "markdown",
   "metadata": {
    "id": "dZkT8xQQiSsD"
   },
   "source": [
    " Tutaj wyznacz ramkę `top_airports_origin_df`"
   ]
  },
  {
   "cell_type": "code",
   "execution_count": 13,
   "metadata": {
    "id": "QdcYfGq0iSsD",
    "tags": []
   },
   "outputs": [],
   "source": [
    "top_airports_origin_df = flight_df.groupby(\n",
    "    \"origin_airport_id\", as_index=None).count()['id']"
   ]
  },
  {
   "cell_type": "markdown",
   "metadata": {
    "id": "NspSpmgWiSsD"
   },
   "source": [
    " Tutaj wyznacz ramkę `top_airports_destination_df`"
   ]
  },
  {
   "cell_type": "code",
   "execution_count": 14,
   "metadata": {
    "id": "PUsGhMxciSsD",
    "tags": []
   },
   "outputs": [],
   "source": [
    "top_airports_destination_df = flight_df.groupby(\n",
    "    \"dest_airport_id\", as_index=None).count()['id']"
   ]
  },
  {
   "cell_type": "markdown",
   "metadata": {
    "id": "ipHJ5jBQiSsE"
   },
   "source": [
    " ### Sprawdzenie dla `top_airport_origin`"
   ]
  },
  {
   "cell_type": "code",
   "execution_count": 15,
   "metadata": {
    "id": "HSW0atgsiSsE",
    "tags": []
   },
   "outputs": [],
   "source": [
    "top_airports_origin_head = (\n",
    "    top_airports_origin_df.sort_values(ascending=False).head().to_list()\n",
    ")\n",
    "top_airports_origin_head = tuple(top_airports_origin_head)\n",
    "top_airports_origin_head_expected = (387620, 327647, 294944, 245160, 228415)\n",
    "\n",
    "assert (\n",
    "    top_airports_origin_head == top_airports_origin_head_expected\n",
    "), f\"Nie zgadza się top 5 wierszy, oczekiwano wyników: {top_airports_origin_head_expected} otrzymano: {top_airports_origin_head}\""
   ]
  },
  {
   "cell_type": "markdown",
   "metadata": {
    "id": "GlET6bUoiSsE"
   },
   "source": [
    "### Sprawdzenie dla `top_airport_destination`"
   ]
  },
  {
   "cell_type": "code",
   "execution_count": 16,
   "metadata": {
    "id": "dPCfyL8kiSsE",
    "tags": []
   },
   "outputs": [],
   "source": [
    "top_airports_destination_head = (\n",
    "    top_airports_destination_df.sort_values(ascending=False).head().to_list()\n",
    ")\n",
    "top_airports_destination_head = tuple(top_airports_destination_head)\n",
    "top_airports_destination_head_expected = (\n",
    "    387542, 327169, 294568, 244898, 227917)\n",
    "\n",
    "assert (\n",
    "    top_airports_destination_head == top_airports_destination_head_expected\n",
    "), f\"Nie zgadza się top 5 wierszy, oczekiwano wyników: {top_airports_destination_head_expected} otrzymano: {top_airports_destination_head}\""
   ]
  },
  {
   "cell_type": "markdown",
   "metadata": {},
   "source": [
    " 1. Wyznacz najczęściej uczęszczaną trasę, wynik zapisz do ramki `top_route_df`.\n"
   ]
  },
  {
   "cell_type": "code",
   "execution_count": 17,
   "metadata": {
    "tags": []
   },
   "outputs": [],
   "source": [
    "top_route_df = flight_df.groupby(\n",
    "    ['origin_airport_id', 'dest_airport_id'], as_index=None)['id'].agg('count')\n",
    "top_route_df.rename(columns={'id': 'route_count'}, inplace=True)\n",
    "top_route_df.sort_values(by=['route_count'], inplace=True, ascending=False)"
   ]
  },
  {
   "cell_type": "markdown",
   "metadata": {},
   "source": [
    " 1. Przy założeniu, że reprezentatywna liczba lotów na trasie wynosi ponad 500, wyznacz dodatkowo top 10:\n",
    "     - tras z **najmniejszym odsetkiem opóźnień**, wynik zapisz do ramki `least_route_delays_df`.\n",
    "     - tras z **największym odsetkiem opóźnień**, wynik zapisz do ramki `top_route_delays_df`."
   ]
  },
  {
   "cell_type": "code",
   "execution_count": 18,
   "metadata": {},
   "outputs": [
    {
     "data": {
      "text/plain": [
       "6922924"
      ]
     },
     "execution_count": 18,
     "metadata": {},
     "output_type": "execute_result"
    }
   ],
   "source": [
    "# dodawanie informacji o ilości lotów do flight_df\n",
    "\n",
    "flight_df = pd.merge(\n",
    "    left=flight_df,\n",
    "    right=top_route_df,\n",
    "    on=['origin_airport_id', 'dest_airport_id']\n",
    ")\n",
    "flight_df.sort_values(by=['route_count'], inplace=True, ascending=False)\n",
    "\n",
    "flight_df.shape[0]"
   ]
  },
  {
   "cell_type": "code",
   "execution_count": 19,
   "metadata": {},
   "outputs": [
    {
     "data": {
      "text/html": [
       "<div>\n",
       "<style scoped>\n",
       "    .dataframe tbody tr th:only-of-type {\n",
       "        vertical-align: middle;\n",
       "    }\n",
       "\n",
       "    .dataframe tbody tr th {\n",
       "        vertical-align: top;\n",
       "    }\n",
       "\n",
       "    .dataframe thead th {\n",
       "        text-align: right;\n",
       "    }\n",
       "</style>\n",
       "<table border=\"1\" class=\"dataframe\">\n",
       "  <thead>\n",
       "    <tr style=\"text-align: right;\">\n",
       "      <th></th>\n",
       "      <th>id</th>\n",
       "      <th>month</th>\n",
       "      <th>day_of_month</th>\n",
       "      <th>day_of_week</th>\n",
       "      <th>op_unique_carrier</th>\n",
       "      <th>tail_num</th>\n",
       "      <th>op_carrier_fl_num</th>\n",
       "      <th>origin_airport_id</th>\n",
       "      <th>dest_airport_id</th>\n",
       "      <th>crs_dep_time</th>\n",
       "      <th>dep_time</th>\n",
       "      <th>dep_delay</th>\n",
       "      <th>dep_time_blk</th>\n",
       "      <th>crs_arr_time</th>\n",
       "      <th>arr_time</th>\n",
       "      <th>arr_delay_new</th>\n",
       "      <th>arr_time_blk</th>\n",
       "      <th>cancelled</th>\n",
       "      <th>crs_elapsed_time</th>\n",
       "      <th>actual_elapsed_time</th>\n",
       "      <th>distance</th>\n",
       "      <th>distance_group</th>\n",
       "      <th>year</th>\n",
       "      <th>carrier_delay</th>\n",
       "      <th>weather_delay</th>\n",
       "      <th>nas_delay</th>\n",
       "      <th>security_delay</th>\n",
       "      <th>late_aircraft_delay</th>\n",
       "      <th>is_delayed</th>\n",
       "      <th>is_weekend</th>\n",
       "      <th>distance_agg</th>\n",
       "      <th>manufacture_year</th>\n",
       "      <th>manufacture_year_agg</th>\n",
       "      <th>origin_airport_name</th>\n",
       "      <th>origin_city_name</th>\n",
       "      <th>origin_name</th>\n",
       "      <th>destination_airport_name</th>\n",
       "      <th>destination_city_name</th>\n",
       "      <th>destination_name</th>\n",
       "      <th>route_count</th>\n",
       "    </tr>\n",
       "  </thead>\n",
       "  <tbody>\n",
       "    <tr>\n",
       "      <th>1031860</th>\n",
       "      <td>1315543</td>\n",
       "      <td>2</td>\n",
       "      <td>16</td>\n",
       "      <td>6</td>\n",
       "      <td>OO</td>\n",
       "      <td>N176SY</td>\n",
       "      <td>3321</td>\n",
       "      <td>11259</td>\n",
       "      <td>12892</td>\n",
       "      <td>800</td>\n",
       "      <td>755.0</td>\n",
       "      <td>0.0</td>\n",
       "      <td>0800-0859</td>\n",
       "      <td>940</td>\n",
       "      <td>1014.0</td>\n",
       "      <td>34.0</td>\n",
       "      <td>0900-0959</td>\n",
       "      <td>0</td>\n",
       "      <td>220.0</td>\n",
       "      <td>259.0</td>\n",
       "      <td>1246</td>\n",
       "      <td>5</td>\n",
       "      <td>2019</td>\n",
       "      <td>0.0</td>\n",
       "      <td>0.0</td>\n",
       "      <td>34.0</td>\n",
       "      <td>0.0</td>\n",
       "      <td>0.0</td>\n",
       "      <td>False</td>\n",
       "      <td>True</td>\n",
       "      <td>(1200, 1300]</td>\n",
       "      <td>2016.0</td>\n",
       "      <td>(2014, 2017]</td>\n",
       "      <td>Dallas Love Field</td>\n",
       "      <td>Dallas, TX</td>\n",
       "      <td>DALLAS FAA AIRPORT, TX US</td>\n",
       "      <td>Los Angeles International</td>\n",
       "      <td>Los Angeles, CA</td>\n",
       "      <td>LOS ANGELES INTERNATIONAL AIRPORT, CA US</td>\n",
       "      <td>2664</td>\n",
       "    </tr>\n",
       "    <tr>\n",
       "      <th>3559754</th>\n",
       "      <td>4704355</td>\n",
       "      <td>1</td>\n",
       "      <td>7</td>\n",
       "      <td>1</td>\n",
       "      <td>YX</td>\n",
       "      <td>N427YX</td>\n",
       "      <td>4546</td>\n",
       "      <td>12953</td>\n",
       "      <td>14027</td>\n",
       "      <td>900</td>\n",
       "      <td>853.0</td>\n",
       "      <td>0.0</td>\n",
       "      <td>0900-0959</td>\n",
       "      <td>1223</td>\n",
       "      <td>1147.0</td>\n",
       "      <td>0.0</td>\n",
       "      <td>1200-1259</td>\n",
       "      <td>0</td>\n",
       "      <td>203.0</td>\n",
       "      <td>174.0</td>\n",
       "      <td>1035</td>\n",
       "      <td>5</td>\n",
       "      <td>2019</td>\n",
       "      <td>NaN</td>\n",
       "      <td>NaN</td>\n",
       "      <td>NaN</td>\n",
       "      <td>NaN</td>\n",
       "      <td>NaN</td>\n",
       "      <td>False</td>\n",
       "      <td>False</td>\n",
       "      <td>(1000, 1100]</td>\n",
       "      <td>2014.0</td>\n",
       "      <td>(2011, 2014]</td>\n",
       "      <td>LaGuardia</td>\n",
       "      <td>New York, NY</td>\n",
       "      <td>LAGUARDIA AIRPORT, NY US</td>\n",
       "      <td>Palm Beach International</td>\n",
       "      <td>West Palm Beach/Palm Beach, FL</td>\n",
       "      <td>WEST PALM BEACH INTERNATIONAL AIRPORT, FL US</td>\n",
       "      <td>2664</td>\n",
       "    </tr>\n",
       "    <tr>\n",
       "      <th>3696717</th>\n",
       "      <td>4845994</td>\n",
       "      <td>10</td>\n",
       "      <td>31</td>\n",
       "      <td>4</td>\n",
       "      <td>DL</td>\n",
       "      <td>N325US</td>\n",
       "      <td>2112</td>\n",
       "      <td>12953</td>\n",
       "      <td>14027</td>\n",
       "      <td>1245</td>\n",
       "      <td>1245.0</td>\n",
       "      <td>0.0</td>\n",
       "      <td>1200-1259</td>\n",
       "      <td>1538</td>\n",
       "      <td>1549.0</td>\n",
       "      <td>11.0</td>\n",
       "      <td>1500-1559</td>\n",
       "      <td>0</td>\n",
       "      <td>173.0</td>\n",
       "      <td>184.0</td>\n",
       "      <td>1035</td>\n",
       "      <td>5</td>\n",
       "      <td>2019</td>\n",
       "      <td>NaN</td>\n",
       "      <td>NaN</td>\n",
       "      <td>NaN</td>\n",
       "      <td>NaN</td>\n",
       "      <td>NaN</td>\n",
       "      <td>False</td>\n",
       "      <td>False</td>\n",
       "      <td>(1000, 1100]</td>\n",
       "      <td>1991.0</td>\n",
       "      <td>(1990, 1993]</td>\n",
       "      <td>LaGuardia</td>\n",
       "      <td>New York, NY</td>\n",
       "      <td>LAGUARDIA AIRPORT, NY US</td>\n",
       "      <td>Palm Beach International</td>\n",
       "      <td>West Palm Beach/Palm Beach, FL</td>\n",
       "      <td>WEST PALM BEACH INTERNATIONAL AIRPORT, FL US</td>\n",
       "      <td>2664</td>\n",
       "    </tr>\n",
       "    <tr>\n",
       "      <th>3558806</th>\n",
       "      <td>4703406</td>\n",
       "      <td>1</td>\n",
       "      <td>5</td>\n",
       "      <td>6</td>\n",
       "      <td>B6</td>\n",
       "      <td>N706JB</td>\n",
       "      <td>461</td>\n",
       "      <td>12953</td>\n",
       "      <td>14027</td>\n",
       "      <td>730</td>\n",
       "      <td>724.0</td>\n",
       "      <td>0.0</td>\n",
       "      <td>0700-0759</td>\n",
       "      <td>1038</td>\n",
       "      <td>1033.0</td>\n",
       "      <td>0.0</td>\n",
       "      <td>1000-1059</td>\n",
       "      <td>0</td>\n",
       "      <td>188.0</td>\n",
       "      <td>189.0</td>\n",
       "      <td>1035</td>\n",
       "      <td>5</td>\n",
       "      <td>2019</td>\n",
       "      <td>NaN</td>\n",
       "      <td>NaN</td>\n",
       "      <td>NaN</td>\n",
       "      <td>NaN</td>\n",
       "      <td>NaN</td>\n",
       "      <td>False</td>\n",
       "      <td>True</td>\n",
       "      <td>(1000, 1100]</td>\n",
       "      <td>2008.0</td>\n",
       "      <td>(2005, 2008]</td>\n",
       "      <td>LaGuardia</td>\n",
       "      <td>New York, NY</td>\n",
       "      <td>LAGUARDIA AIRPORT, NY US</td>\n",
       "      <td>Palm Beach International</td>\n",
       "      <td>West Palm Beach/Palm Beach, FL</td>\n",
       "      <td>WEST PALM BEACH INTERNATIONAL AIRPORT, FL US</td>\n",
       "      <td>2664</td>\n",
       "    </tr>\n",
       "    <tr>\n",
       "      <th>1054172</th>\n",
       "      <td>1339231</td>\n",
       "      <td>6</td>\n",
       "      <td>13</td>\n",
       "      <td>4</td>\n",
       "      <td>OO</td>\n",
       "      <td>N185SY</td>\n",
       "      <td>3323</td>\n",
       "      <td>11259</td>\n",
       "      <td>12892</td>\n",
       "      <td>1255</td>\n",
       "      <td>1246.0</td>\n",
       "      <td>0.0</td>\n",
       "      <td>1200-1259</td>\n",
       "      <td>1410</td>\n",
       "      <td>1401.0</td>\n",
       "      <td>0.0</td>\n",
       "      <td>1400-1459</td>\n",
       "      <td>0</td>\n",
       "      <td>195.0</td>\n",
       "      <td>195.0</td>\n",
       "      <td>1246</td>\n",
       "      <td>5</td>\n",
       "      <td>2019</td>\n",
       "      <td>NaN</td>\n",
       "      <td>NaN</td>\n",
       "      <td>NaN</td>\n",
       "      <td>NaN</td>\n",
       "      <td>NaN</td>\n",
       "      <td>False</td>\n",
       "      <td>False</td>\n",
       "      <td>(1200, 1300]</td>\n",
       "      <td>2016.0</td>\n",
       "      <td>(2014, 2017]</td>\n",
       "      <td>Dallas Love Field</td>\n",
       "      <td>Dallas, TX</td>\n",
       "      <td>DALLAS FAA AIRPORT, TX US</td>\n",
       "      <td>Los Angeles International</td>\n",
       "      <td>Los Angeles, CA</td>\n",
       "      <td>LOS ANGELES INTERNATIONAL AIRPORT, CA US</td>\n",
       "      <td>2664</td>\n",
       "    </tr>\n",
       "  </tbody>\n",
       "</table>\n",
       "</div>"
      ],
      "text/plain": [
       "              id  month  day_of_month  day_of_week op_unique_carrier tail_num  \\\n",
       "1031860  1315543      2            16            6                OO   N176SY   \n",
       "3559754  4704355      1             7            1                YX   N427YX   \n",
       "3696717  4845994     10            31            4                DL   N325US   \n",
       "3558806  4703406      1             5            6                B6   N706JB   \n",
       "1054172  1339231      6            13            4                OO   N185SY   \n",
       "\n",
       "         op_carrier_fl_num  origin_airport_id  dest_airport_id  crs_dep_time  \\\n",
       "1031860               3321              11259            12892           800   \n",
       "3559754               4546              12953            14027           900   \n",
       "3696717               2112              12953            14027          1245   \n",
       "3558806                461              12953            14027           730   \n",
       "1054172               3323              11259            12892          1255   \n",
       "\n",
       "         dep_time  dep_delay dep_time_blk  crs_arr_time  arr_time  \\\n",
       "1031860     755.0        0.0    0800-0859           940    1014.0   \n",
       "3559754     853.0        0.0    0900-0959          1223    1147.0   \n",
       "3696717    1245.0        0.0    1200-1259          1538    1549.0   \n",
       "3558806     724.0        0.0    0700-0759          1038    1033.0   \n",
       "1054172    1246.0        0.0    1200-1259          1410    1401.0   \n",
       "\n",
       "         arr_delay_new arr_time_blk  cancelled  crs_elapsed_time  \\\n",
       "1031860           34.0    0900-0959          0             220.0   \n",
       "3559754            0.0    1200-1259          0             203.0   \n",
       "3696717           11.0    1500-1559          0             173.0   \n",
       "3558806            0.0    1000-1059          0             188.0   \n",
       "1054172            0.0    1400-1459          0             195.0   \n",
       "\n",
       "         actual_elapsed_time  distance  distance_group  year  carrier_delay  \\\n",
       "1031860                259.0      1246               5  2019            0.0   \n",
       "3559754                174.0      1035               5  2019            NaN   \n",
       "3696717                184.0      1035               5  2019            NaN   \n",
       "3558806                189.0      1035               5  2019            NaN   \n",
       "1054172                195.0      1246               5  2019            NaN   \n",
       "\n",
       "         weather_delay  nas_delay  security_delay  late_aircraft_delay  \\\n",
       "1031860            0.0       34.0             0.0                  0.0   \n",
       "3559754            NaN        NaN             NaN                  NaN   \n",
       "3696717            NaN        NaN             NaN                  NaN   \n",
       "3558806            NaN        NaN             NaN                  NaN   \n",
       "1054172            NaN        NaN             NaN                  NaN   \n",
       "\n",
       "         is_delayed  is_weekend  distance_agg  manufacture_year  \\\n",
       "1031860       False        True  (1200, 1300]            2016.0   \n",
       "3559754       False       False  (1000, 1100]            2014.0   \n",
       "3696717       False       False  (1000, 1100]            1991.0   \n",
       "3558806       False        True  (1000, 1100]            2008.0   \n",
       "1054172       False       False  (1200, 1300]            2016.0   \n",
       "\n",
       "        manufacture_year_agg origin_airport_name origin_city_name  \\\n",
       "1031860         (2014, 2017]   Dallas Love Field       Dallas, TX   \n",
       "3559754         (2011, 2014]           LaGuardia     New York, NY   \n",
       "3696717         (1990, 1993]           LaGuardia     New York, NY   \n",
       "3558806         (2005, 2008]           LaGuardia     New York, NY   \n",
       "1054172         (2014, 2017]   Dallas Love Field       Dallas, TX   \n",
       "\n",
       "                       origin_name   destination_airport_name  \\\n",
       "1031860  DALLAS FAA AIRPORT, TX US  Los Angeles International   \n",
       "3559754   LAGUARDIA AIRPORT, NY US   Palm Beach International   \n",
       "3696717   LAGUARDIA AIRPORT, NY US   Palm Beach International   \n",
       "3558806   LAGUARDIA AIRPORT, NY US   Palm Beach International   \n",
       "1054172  DALLAS FAA AIRPORT, TX US  Los Angeles International   \n",
       "\n",
       "                  destination_city_name  \\\n",
       "1031860                 Los Angeles, CA   \n",
       "3559754  West Palm Beach/Palm Beach, FL   \n",
       "3696717  West Palm Beach/Palm Beach, FL   \n",
       "3558806  West Palm Beach/Palm Beach, FL   \n",
       "1054172                 Los Angeles, CA   \n",
       "\n",
       "                                     destination_name  route_count  \n",
       "1031860      LOS ANGELES INTERNATIONAL AIRPORT, CA US         2664  \n",
       "3559754  WEST PALM BEACH INTERNATIONAL AIRPORT, FL US         2664  \n",
       "3696717  WEST PALM BEACH INTERNATIONAL AIRPORT, FL US         2664  \n",
       "3558806  WEST PALM BEACH INTERNATIONAL AIRPORT, FL US         2664  \n",
       "1054172      LOS ANGELES INTERNATIONAL AIRPORT, CA US         2664  "
      ]
     },
     "execution_count": 19,
     "metadata": {},
     "output_type": "execute_result"
    }
   ],
   "source": [
    "least_route_delays_df = flight_df.loc[flight_df['route_count'] > 500].sort_values(\n",
    "    by=['dep_delay'], ascending=True)\n",
    "least_route_delays_df.head()"
   ]
  },
  {
   "cell_type": "code",
   "execution_count": 20,
   "metadata": {},
   "outputs": [
    {
     "data": {
      "text/plain": [
       "6463719"
      ]
     },
     "execution_count": 20,
     "metadata": {},
     "output_type": "execute_result"
    }
   ],
   "source": [
    "least_route_delays_df.shape[0]"
   ]
  },
  {
   "cell_type": "code",
   "execution_count": 21,
   "metadata": {},
   "outputs": [
    {
     "data": {
      "text/html": [
       "<div>\n",
       "<style scoped>\n",
       "    .dataframe tbody tr th:only-of-type {\n",
       "        vertical-align: middle;\n",
       "    }\n",
       "\n",
       "    .dataframe tbody tr th {\n",
       "        vertical-align: top;\n",
       "    }\n",
       "\n",
       "    .dataframe thead th {\n",
       "        text-align: right;\n",
       "    }\n",
       "</style>\n",
       "<table border=\"1\" class=\"dataframe\">\n",
       "  <thead>\n",
       "    <tr style=\"text-align: right;\">\n",
       "      <th></th>\n",
       "      <th>id</th>\n",
       "      <th>month</th>\n",
       "      <th>day_of_month</th>\n",
       "      <th>day_of_week</th>\n",
       "      <th>op_unique_carrier</th>\n",
       "      <th>tail_num</th>\n",
       "      <th>op_carrier_fl_num</th>\n",
       "      <th>origin_airport_id</th>\n",
       "      <th>dest_airport_id</th>\n",
       "      <th>crs_dep_time</th>\n",
       "      <th>dep_time</th>\n",
       "      <th>dep_delay</th>\n",
       "      <th>dep_time_blk</th>\n",
       "      <th>crs_arr_time</th>\n",
       "      <th>arr_time</th>\n",
       "      <th>arr_delay_new</th>\n",
       "      <th>arr_time_blk</th>\n",
       "      <th>cancelled</th>\n",
       "      <th>crs_elapsed_time</th>\n",
       "      <th>actual_elapsed_time</th>\n",
       "      <th>distance</th>\n",
       "      <th>distance_group</th>\n",
       "      <th>year</th>\n",
       "      <th>carrier_delay</th>\n",
       "      <th>weather_delay</th>\n",
       "      <th>nas_delay</th>\n",
       "      <th>security_delay</th>\n",
       "      <th>late_aircraft_delay</th>\n",
       "      <th>is_delayed</th>\n",
       "      <th>is_weekend</th>\n",
       "      <th>distance_agg</th>\n",
       "      <th>manufacture_year</th>\n",
       "      <th>manufacture_year_agg</th>\n",
       "      <th>origin_airport_name</th>\n",
       "      <th>origin_city_name</th>\n",
       "      <th>origin_name</th>\n",
       "      <th>destination_airport_name</th>\n",
       "      <th>destination_city_name</th>\n",
       "      <th>destination_name</th>\n",
       "      <th>route_count</th>\n",
       "    </tr>\n",
       "  </thead>\n",
       "  <tbody>\n",
       "    <tr>\n",
       "      <th>109369</th>\n",
       "      <td>135265</td>\n",
       "      <td>12</td>\n",
       "      <td>12</td>\n",
       "      <td>4</td>\n",
       "      <td>OO</td>\n",
       "      <td>N727SK</td>\n",
       "      <td>3253</td>\n",
       "      <td>15096</td>\n",
       "      <td>13930</td>\n",
       "      <td>1511</td>\n",
       "      <td>1221.0</td>\n",
       "      <td>2710.0</td>\n",
       "      <td>1500-1559</td>\n",
       "      <td>1632</td>\n",
       "      <td>1327.0</td>\n",
       "      <td>2695.0</td>\n",
       "      <td>1600-1659</td>\n",
       "      <td>0</td>\n",
       "      <td>141.0</td>\n",
       "      <td>126.0</td>\n",
       "      <td>607</td>\n",
       "      <td>3</td>\n",
       "      <td>2019</td>\n",
       "      <td>2695.0</td>\n",
       "      <td>0.0</td>\n",
       "      <td>0.0</td>\n",
       "      <td>0.0</td>\n",
       "      <td>0.0</td>\n",
       "      <td>True</td>\n",
       "      <td>False</td>\n",
       "      <td>(600, 700]</td>\n",
       "      <td>2005.0</td>\n",
       "      <td>(2002, 2005]</td>\n",
       "      <td>Syracuse Hancock International</td>\n",
       "      <td>Syracuse, NY</td>\n",
       "      <td>SYRACUSE HANCOCK INTERNATIONAL AIRPORT, NY US</td>\n",
       "      <td>Chicago O'Hare International</td>\n",
       "      <td>Chicago, IL</td>\n",
       "      <td>CHICAGO OHARE INTERNATIONAL AIRPORT, IL US</td>\n",
       "      <td>2673</td>\n",
       "    </tr>\n",
       "    <tr>\n",
       "      <th>4518689</th>\n",
       "      <td>6039058</td>\n",
       "      <td>2</td>\n",
       "      <td>17</td>\n",
       "      <td>7</td>\n",
       "      <td>MQ</td>\n",
       "      <td>N817AE</td>\n",
       "      <td>3888</td>\n",
       "      <td>11433</td>\n",
       "      <td>12953</td>\n",
       "      <td>1728</td>\n",
       "      <td>1400.0</td>\n",
       "      <td>2672.0</td>\n",
       "      <td>1700-1759</td>\n",
       "      <td>1922</td>\n",
       "      <td>1531.0</td>\n",
       "      <td>2649.0</td>\n",
       "      <td>1900-1959</td>\n",
       "      <td>0</td>\n",
       "      <td>114.0</td>\n",
       "      <td>91.0</td>\n",
       "      <td>502</td>\n",
       "      <td>3</td>\n",
       "      <td>2019</td>\n",
       "      <td>2592.0</td>\n",
       "      <td>0.0</td>\n",
       "      <td>0.0</td>\n",
       "      <td>0.0</td>\n",
       "      <td>57.0</td>\n",
       "      <td>True</td>\n",
       "      <td>True</td>\n",
       "      <td>(500, 600]</td>\n",
       "      <td>2002.0</td>\n",
       "      <td>(1999, 2002]</td>\n",
       "      <td>Detroit Metro Wayne County</td>\n",
       "      <td>Detroit, MI</td>\n",
       "      <td>DETROIT METRO AIRPORT, MI US</td>\n",
       "      <td>LaGuardia</td>\n",
       "      <td>New York, NY</td>\n",
       "      <td>LAGUARDIA AIRPORT, NY US</td>\n",
       "      <td>4893</td>\n",
       "    </tr>\n",
       "    <tr>\n",
       "      <th>1008667</th>\n",
       "      <td>1287738</td>\n",
       "      <td>2</td>\n",
       "      <td>8</td>\n",
       "      <td>5</td>\n",
       "      <td>YV</td>\n",
       "      <td>N922FJ</td>\n",
       "      <td>5813</td>\n",
       "      <td>14698</td>\n",
       "      <td>14107</td>\n",
       "      <td>615</td>\n",
       "      <td>1904.0</td>\n",
       "      <td>2209.0</td>\n",
       "      <td>0600-0659</td>\n",
       "      <td>851</td>\n",
       "      <td>2137.0</td>\n",
       "      <td>2206.0</td>\n",
       "      <td>0800-0859</td>\n",
       "      <td>0</td>\n",
       "      <td>96.0</td>\n",
       "      <td>93.0</td>\n",
       "      <td>509</td>\n",
       "      <td>3</td>\n",
       "      <td>2019</td>\n",
       "      <td>0.0</td>\n",
       "      <td>0.0</td>\n",
       "      <td>0.0</td>\n",
       "      <td>0.0</td>\n",
       "      <td>2206.0</td>\n",
       "      <td>True</td>\n",
       "      <td>False</td>\n",
       "      <td>(500, 600]</td>\n",
       "      <td>2004.0</td>\n",
       "      <td>(2002, 2005]</td>\n",
       "      <td>NaN</td>\n",
       "      <td>NaN</td>\n",
       "      <td>NaN</td>\n",
       "      <td>Phoenix Sky Harbor International</td>\n",
       "      <td>Phoenix, AZ</td>\n",
       "      <td>PHOENIX AIRPORT, AZ US</td>\n",
       "      <td>1404</td>\n",
       "    </tr>\n",
       "    <tr>\n",
       "      <th>598600</th>\n",
       "      <td>758565</td>\n",
       "      <td>4</td>\n",
       "      <td>12</td>\n",
       "      <td>5</td>\n",
       "      <td>MQ</td>\n",
       "      <td>N678AE</td>\n",
       "      <td>3654</td>\n",
       "      <td>11637</td>\n",
       "      <td>13930</td>\n",
       "      <td>540</td>\n",
       "      <td>1619.0</td>\n",
       "      <td>2079.0</td>\n",
       "      <td>0001-0559</td>\n",
       "      <td>739</td>\n",
       "      <td>1814.0</td>\n",
       "      <td>2075.0</td>\n",
       "      <td>0700-0759</td>\n",
       "      <td>0</td>\n",
       "      <td>119.0</td>\n",
       "      <td>115.0</td>\n",
       "      <td>557</td>\n",
       "      <td>3</td>\n",
       "      <td>2019</td>\n",
       "      <td>0.0</td>\n",
       "      <td>61.0</td>\n",
       "      <td>0.0</td>\n",
       "      <td>0.0</td>\n",
       "      <td>2014.0</td>\n",
       "      <td>True</td>\n",
       "      <td>False</td>\n",
       "      <td>(500, 600]</td>\n",
       "      <td>2004.0</td>\n",
       "      <td>(2002, 2005]</td>\n",
       "      <td>NaN</td>\n",
       "      <td>NaN</td>\n",
       "      <td>NaN</td>\n",
       "      <td>Chicago O'Hare International</td>\n",
       "      <td>Chicago, IL</td>\n",
       "      <td>CHICAGO OHARE INTERNATIONAL AIRPORT, IL US</td>\n",
       "      <td>1346</td>\n",
       "    </tr>\n",
       "    <tr>\n",
       "      <th>5320495</th>\n",
       "      <td>7118140</td>\n",
       "      <td>2</td>\n",
       "      <td>7</td>\n",
       "      <td>4</td>\n",
       "      <td>MQ</td>\n",
       "      <td>N663AR</td>\n",
       "      <td>3879</td>\n",
       "      <td>15048</td>\n",
       "      <td>13930</td>\n",
       "      <td>551</td>\n",
       "      <td>1615.0</td>\n",
       "      <td>2064.0</td>\n",
       "      <td>0001-0559</td>\n",
       "      <td>734</td>\n",
       "      <td>1744.0</td>\n",
       "      <td>2050.0</td>\n",
       "      <td>0700-0759</td>\n",
       "      <td>0</td>\n",
       "      <td>103.0</td>\n",
       "      <td>89.0</td>\n",
       "      <td>436</td>\n",
       "      <td>2</td>\n",
       "      <td>2019</td>\n",
       "      <td>968.0</td>\n",
       "      <td>0.0</td>\n",
       "      <td>0.0</td>\n",
       "      <td>0.0</td>\n",
       "      <td>1082.0</td>\n",
       "      <td>True</td>\n",
       "      <td>False</td>\n",
       "      <td>(400, 500]</td>\n",
       "      <td>2004.0</td>\n",
       "      <td>(2002, 2005]</td>\n",
       "      <td>NaN</td>\n",
       "      <td>NaN</td>\n",
       "      <td>NaN</td>\n",
       "      <td>Chicago O'Hare International</td>\n",
       "      <td>Chicago, IL</td>\n",
       "      <td>CHICAGO OHARE INTERNATIONAL AIRPORT, IL US</td>\n",
       "      <td>924</td>\n",
       "    </tr>\n",
       "  </tbody>\n",
       "</table>\n",
       "</div>"
      ],
      "text/plain": [
       "              id  month  day_of_month  day_of_week op_unique_carrier tail_num  \\\n",
       "109369    135265     12            12            4                OO   N727SK   \n",
       "4518689  6039058      2            17            7                MQ   N817AE   \n",
       "1008667  1287738      2             8            5                YV   N922FJ   \n",
       "598600    758565      4            12            5                MQ   N678AE   \n",
       "5320495  7118140      2             7            4                MQ   N663AR   \n",
       "\n",
       "         op_carrier_fl_num  origin_airport_id  dest_airport_id  crs_dep_time  \\\n",
       "109369                3253              15096            13930          1511   \n",
       "4518689               3888              11433            12953          1728   \n",
       "1008667               5813              14698            14107           615   \n",
       "598600                3654              11637            13930           540   \n",
       "5320495               3879              15048            13930           551   \n",
       "\n",
       "         dep_time  dep_delay dep_time_blk  crs_arr_time  arr_time  \\\n",
       "109369     1221.0     2710.0    1500-1559          1632    1327.0   \n",
       "4518689    1400.0     2672.0    1700-1759          1922    1531.0   \n",
       "1008667    1904.0     2209.0    0600-0659           851    2137.0   \n",
       "598600     1619.0     2079.0    0001-0559           739    1814.0   \n",
       "5320495    1615.0     2064.0    0001-0559           734    1744.0   \n",
       "\n",
       "         arr_delay_new arr_time_blk  cancelled  crs_elapsed_time  \\\n",
       "109369          2695.0    1600-1659          0             141.0   \n",
       "4518689         2649.0    1900-1959          0             114.0   \n",
       "1008667         2206.0    0800-0859          0              96.0   \n",
       "598600          2075.0    0700-0759          0             119.0   \n",
       "5320495         2050.0    0700-0759          0             103.0   \n",
       "\n",
       "         actual_elapsed_time  distance  distance_group  year  carrier_delay  \\\n",
       "109369                 126.0       607               3  2019         2695.0   \n",
       "4518689                 91.0       502               3  2019         2592.0   \n",
       "1008667                 93.0       509               3  2019            0.0   \n",
       "598600                 115.0       557               3  2019            0.0   \n",
       "5320495                 89.0       436               2  2019          968.0   \n",
       "\n",
       "         weather_delay  nas_delay  security_delay  late_aircraft_delay  \\\n",
       "109369             0.0        0.0             0.0                  0.0   \n",
       "4518689            0.0        0.0             0.0                 57.0   \n",
       "1008667            0.0        0.0             0.0               2206.0   \n",
       "598600            61.0        0.0             0.0               2014.0   \n",
       "5320495            0.0        0.0             0.0               1082.0   \n",
       "\n",
       "         is_delayed  is_weekend distance_agg  manufacture_year  \\\n",
       "109369         True       False   (600, 700]            2005.0   \n",
       "4518689        True        True   (500, 600]            2002.0   \n",
       "1008667        True       False   (500, 600]            2004.0   \n",
       "598600         True       False   (500, 600]            2004.0   \n",
       "5320495        True       False   (400, 500]            2004.0   \n",
       "\n",
       "        manufacture_year_agg             origin_airport_name origin_city_name  \\\n",
       "109369          (2002, 2005]  Syracuse Hancock International     Syracuse, NY   \n",
       "4518689         (1999, 2002]      Detroit Metro Wayne County      Detroit, MI   \n",
       "1008667         (2002, 2005]                             NaN              NaN   \n",
       "598600          (2002, 2005]                             NaN              NaN   \n",
       "5320495         (2002, 2005]                             NaN              NaN   \n",
       "\n",
       "                                           origin_name  \\\n",
       "109369   SYRACUSE HANCOCK INTERNATIONAL AIRPORT, NY US   \n",
       "4518689                   DETROIT METRO AIRPORT, MI US   \n",
       "1008667                                            NaN   \n",
       "598600                                             NaN   \n",
       "5320495                                            NaN   \n",
       "\n",
       "                 destination_airport_name destination_city_name  \\\n",
       "109369       Chicago O'Hare International           Chicago, IL   \n",
       "4518689                         LaGuardia          New York, NY   \n",
       "1008667  Phoenix Sky Harbor International           Phoenix, AZ   \n",
       "598600       Chicago O'Hare International           Chicago, IL   \n",
       "5320495      Chicago O'Hare International           Chicago, IL   \n",
       "\n",
       "                                   destination_name  route_count  \n",
       "109369   CHICAGO OHARE INTERNATIONAL AIRPORT, IL US         2673  \n",
       "4518689                    LAGUARDIA AIRPORT, NY US         4893  \n",
       "1008667                      PHOENIX AIRPORT, AZ US         1404  \n",
       "598600   CHICAGO OHARE INTERNATIONAL AIRPORT, IL US         1346  \n",
       "5320495  CHICAGO OHARE INTERNATIONAL AIRPORT, IL US          924  "
      ]
     },
     "execution_count": 21,
     "metadata": {},
     "output_type": "execute_result"
    }
   ],
   "source": [
    "top_route_delays_df = flight_df.loc[flight_df['route_count'] > 500].sort_values(\n",
    "    by=['dep_delay'], ascending=False)\n",
    "top_route_delays_df.head()"
   ]
  },
  {
   "cell_type": "code",
   "execution_count": 22,
   "metadata": {},
   "outputs": [
    {
     "data": {
      "text/plain": [
       "6463719"
      ]
     },
     "execution_count": 22,
     "metadata": {},
     "output_type": "execute_result"
    }
   ],
   "source": [
    "top_route_delays_df.shape[0]"
   ]
  },
  {
   "cell_type": "markdown",
   "metadata": {
    "id": "ti3aFTkhiSsF"
   },
   "source": [
    " # Wzbogacenie o dane pogodowe\n",
    " Używając procedury `read_sql_table`, wczytaj tabelę `airport_weather` do ramki `airport_weather_df`. Następnie wykonaj następujące polecenia:\n",
    " 1. Pozostaw w ramce tylko następujące kolumny: `['station', 'name', 'date', 'prcp', 'snow', 'snwd', 'tmax', 'awnd']`.\n",
    " 1. Połącz ramki `airport_list_df` wraz z `airport_weather_df` po odpowiedniej kolumnie używając takiego złączenia, aby w wyniku usunąć te wiersze (lotniska), które nie posiadają danych pogodowych. Dodatkowo, upewnij się, że zostanie tylko dodana kolumna `origin_airport_id`."
   ]
  },
  {
   "cell_type": "markdown",
   "metadata": {
    "id": "XmM1BAg2iSsF"
   },
   "source": [
    " Tutaj wczytaj ramkę `airport_weather`"
   ]
  },
  {
   "cell_type": "code",
   "execution_count": 23,
   "metadata": {
    "id": "_8K-0UuYiSsF"
   },
   "outputs": [
    {
     "data": {
      "text/plain": [
       "Index(['id', 'wt18', 'station', 'name', 'date', 'awnd', 'prcp', 'snow', 'snwd',\n",
       "       'tavg', 'tmax', 'tmin', 'wdf2', 'wdf5', 'wsf2', 'wsf5', 'wt01', 'wt08',\n",
       "       'wt02', 'wt03', 'wt04', 'wt09', 'wt06', 'wt05', 'pgtm', 'wt10', 'wesd',\n",
       "       'sn32', 'sx32', 'psun', 'tsun', 'tobs', 'wt07', 'wt11'],\n",
       "      dtype='object')"
      ]
     },
     "execution_count": 23,
     "metadata": {},
     "output_type": "execute_result"
    }
   ],
   "source": [
    "airport_weather_df = read_sql_table(\"airport_weather\")\n",
    "airport_weather_df.columns"
   ]
  },
  {
   "cell_type": "markdown",
   "metadata": {
    "id": "UUWJZl4yiSsF"
   },
   "source": [
    " Tutaj oczyść ramkę `airport_weather_df` z nadmiarowych kolumn"
   ]
  },
  {
   "cell_type": "code",
   "execution_count": 24,
   "metadata": {
    "id": "uKoYzdP6iSsF"
   },
   "outputs": [],
   "source": [
    "airport_weather_df.drop(\n",
    "    columns=[\n",
    "        \"id\",\n",
    "        \"wt18\",\n",
    "        \"tavg\",\n",
    "        \"tmin\",\n",
    "        \"wdf2\",\n",
    "        \"wdf5\",\n",
    "        \"wsf2\",\n",
    "        \"wsf5\",\n",
    "        \"wt01\",\n",
    "        \"wt08\",\n",
    "        \"wt02\",\n",
    "        \"wt03\",\n",
    "        \"wt04\",\n",
    "        \"wt09\",\n",
    "        \"wt06\",\n",
    "        \"wt05\",\n",
    "        \"pgtm\",\n",
    "        \"wt10\",\n",
    "        \"wesd\",\n",
    "        \"sn32\",\n",
    "        \"sx32\",\n",
    "        \"psun\",\n",
    "        \"tsun\",\n",
    "        \"tobs\",\n",
    "        \"wt07\",\n",
    "        \"wt11\",\n",
    "    ],\n",
    "    inplace=True,\n",
    ")"
   ]
  },
  {
   "cell_type": "code",
   "execution_count": 25,
   "metadata": {
    "id": "uKoYzdP6iSsF"
   },
   "outputs": [
    {
     "data": {
      "text/plain": [
       "Index(['station', 'name', 'date', 'awnd', 'prcp', 'snow', 'snwd', 'tmax'], dtype='object')"
      ]
     },
     "execution_count": 25,
     "metadata": {},
     "output_type": "execute_result"
    }
   ],
   "source": [
    "airport_weather_df.columns"
   ]
  },
  {
   "cell_type": "code",
   "execution_count": 26,
   "metadata": {},
   "outputs": [
    {
     "data": {
      "text/plain": [
       "Index(['dest_airport_id', 'destination_airport_name', 'destination_city_name',\n",
       "       'destination_name'],\n",
       "      dtype='object')"
      ]
     },
     "execution_count": 26,
     "metadata": {},
     "output_type": "execute_result"
    }
   ],
   "source": [
    "airport_list_df.columns"
   ]
  },
  {
   "cell_type": "markdown",
   "metadata": {
    "id": "OS7fYirxiSsF"
   },
   "source": [
    " Tutaj połącz ramki `airport_list_df` oraz `airport_weather_df` aktualizując `airport_weather_df`"
   ]
  },
  {
   "cell_type": "code",
   "execution_count": 27,
   "metadata": {},
   "outputs": [
    {
     "data": {
      "text/html": [
       "<div>\n",
       "<style scoped>\n",
       "    .dataframe tbody tr th:only-of-type {\n",
       "        vertical-align: middle;\n",
       "    }\n",
       "\n",
       "    .dataframe tbody tr th {\n",
       "        vertical-align: top;\n",
       "    }\n",
       "\n",
       "    .dataframe thead th {\n",
       "        text-align: right;\n",
       "    }\n",
       "</style>\n",
       "<table border=\"1\" class=\"dataframe\">\n",
       "  <thead>\n",
       "    <tr style=\"text-align: right;\">\n",
       "      <th></th>\n",
       "      <th>dest_airport_id</th>\n",
       "      <th>destination_airport_name</th>\n",
       "      <th>destination_city_name</th>\n",
       "      <th>destination_name</th>\n",
       "      <th>station</th>\n",
       "      <th>name</th>\n",
       "      <th>date</th>\n",
       "      <th>awnd</th>\n",
       "      <th>prcp</th>\n",
       "      <th>snow</th>\n",
       "      <th>snwd</th>\n",
       "      <th>tmax</th>\n",
       "    </tr>\n",
       "  </thead>\n",
       "  <tbody>\n",
       "    <tr>\n",
       "      <th>0</th>\n",
       "      <td>11638</td>\n",
       "      <td>Fresno Air Terminal</td>\n",
       "      <td>Fresno, CA</td>\n",
       "      <td>FRESNO YOSEMITE INTERNATIONAL, CA US</td>\n",
       "      <td>USW00093193</td>\n",
       "      <td>FRESNO YOSEMITE INTERNATIONAL, CA US</td>\n",
       "      <td>2019-01-01</td>\n",
       "      <td>3.13</td>\n",
       "      <td>0.00</td>\n",
       "      <td>0.0</td>\n",
       "      <td>0.0</td>\n",
       "      <td>50.0</td>\n",
       "    </tr>\n",
       "    <tr>\n",
       "      <th>1</th>\n",
       "      <td>11638</td>\n",
       "      <td>Fresno Air Terminal</td>\n",
       "      <td>Fresno, CA</td>\n",
       "      <td>FRESNO YOSEMITE INTERNATIONAL, CA US</td>\n",
       "      <td>USW00093193</td>\n",
       "      <td>FRESNO YOSEMITE INTERNATIONAL, CA US</td>\n",
       "      <td>2019-01-02</td>\n",
       "      <td>1.12</td>\n",
       "      <td>0.00</td>\n",
       "      <td>0.0</td>\n",
       "      <td>0.0</td>\n",
       "      <td>55.0</td>\n",
       "    </tr>\n",
       "    <tr>\n",
       "      <th>2</th>\n",
       "      <td>11638</td>\n",
       "      <td>Fresno Air Terminal</td>\n",
       "      <td>Fresno, CA</td>\n",
       "      <td>FRESNO YOSEMITE INTERNATIONAL, CA US</td>\n",
       "      <td>USW00093193</td>\n",
       "      <td>FRESNO YOSEMITE INTERNATIONAL, CA US</td>\n",
       "      <td>2019-01-03</td>\n",
       "      <td>2.01</td>\n",
       "      <td>0.00</td>\n",
       "      <td>0.0</td>\n",
       "      <td>0.0</td>\n",
       "      <td>59.0</td>\n",
       "    </tr>\n",
       "    <tr>\n",
       "      <th>3</th>\n",
       "      <td>11638</td>\n",
       "      <td>Fresno Air Terminal</td>\n",
       "      <td>Fresno, CA</td>\n",
       "      <td>FRESNO YOSEMITE INTERNATIONAL, CA US</td>\n",
       "      <td>USW00093193</td>\n",
       "      <td>FRESNO YOSEMITE INTERNATIONAL, CA US</td>\n",
       "      <td>2019-01-04</td>\n",
       "      <td>2.68</td>\n",
       "      <td>0.00</td>\n",
       "      <td>0.0</td>\n",
       "      <td>0.0</td>\n",
       "      <td>64.0</td>\n",
       "    </tr>\n",
       "    <tr>\n",
       "      <th>4</th>\n",
       "      <td>11638</td>\n",
       "      <td>Fresno Air Terminal</td>\n",
       "      <td>Fresno, CA</td>\n",
       "      <td>FRESNO YOSEMITE INTERNATIONAL, CA US</td>\n",
       "      <td>USW00093193</td>\n",
       "      <td>FRESNO YOSEMITE INTERNATIONAL, CA US</td>\n",
       "      <td>2019-01-05</td>\n",
       "      <td>7.38</td>\n",
       "      <td>0.30</td>\n",
       "      <td>0.0</td>\n",
       "      <td>0.0</td>\n",
       "      <td>57.0</td>\n",
       "    </tr>\n",
       "    <tr>\n",
       "      <th>...</th>\n",
       "      <td>...</td>\n",
       "      <td>...</td>\n",
       "      <td>...</td>\n",
       "      <td>...</td>\n",
       "      <td>...</td>\n",
       "      <td>...</td>\n",
       "      <td>...</td>\n",
       "      <td>...</td>\n",
       "      <td>...</td>\n",
       "      <td>...</td>\n",
       "      <td>...</td>\n",
       "      <td>...</td>\n",
       "    </tr>\n",
       "    <tr>\n",
       "      <th>43389</th>\n",
       "      <td>10693</td>\n",
       "      <td>Myrtle Beach International</td>\n",
       "      <td>Myrtle Beach, SC</td>\n",
       "      <td>NORTH MYRTLE BEACH, SC US</td>\n",
       "      <td>USW00093718</td>\n",
       "      <td>NORTH MYRTLE BEACH, SC US</td>\n",
       "      <td>2020-03-27</td>\n",
       "      <td>12.30</td>\n",
       "      <td>0.00</td>\n",
       "      <td>NaN</td>\n",
       "      <td>NaN</td>\n",
       "      <td>75.0</td>\n",
       "    </tr>\n",
       "    <tr>\n",
       "      <th>43390</th>\n",
       "      <td>10693</td>\n",
       "      <td>Myrtle Beach International</td>\n",
       "      <td>Myrtle Beach, SC</td>\n",
       "      <td>NORTH MYRTLE BEACH, SC US</td>\n",
       "      <td>USW00093718</td>\n",
       "      <td>NORTH MYRTLE BEACH, SC US</td>\n",
       "      <td>2020-03-28</td>\n",
       "      <td>13.87</td>\n",
       "      <td>0.00</td>\n",
       "      <td>NaN</td>\n",
       "      <td>NaN</td>\n",
       "      <td>77.0</td>\n",
       "    </tr>\n",
       "    <tr>\n",
       "      <th>43391</th>\n",
       "      <td>10693</td>\n",
       "      <td>Myrtle Beach International</td>\n",
       "      <td>Myrtle Beach, SC</td>\n",
       "      <td>NORTH MYRTLE BEACH, SC US</td>\n",
       "      <td>USW00093718</td>\n",
       "      <td>NORTH MYRTLE BEACH, SC US</td>\n",
       "      <td>2020-03-29</td>\n",
       "      <td>13.87</td>\n",
       "      <td>0.00</td>\n",
       "      <td>NaN</td>\n",
       "      <td>NaN</td>\n",
       "      <td>80.0</td>\n",
       "    </tr>\n",
       "    <tr>\n",
       "      <th>43392</th>\n",
       "      <td>10693</td>\n",
       "      <td>Myrtle Beach International</td>\n",
       "      <td>Myrtle Beach, SC</td>\n",
       "      <td>NORTH MYRTLE BEACH, SC US</td>\n",
       "      <td>USW00093718</td>\n",
       "      <td>NORTH MYRTLE BEACH, SC US</td>\n",
       "      <td>2020-03-30</td>\n",
       "      <td>5.82</td>\n",
       "      <td>0.00</td>\n",
       "      <td>NaN</td>\n",
       "      <td>NaN</td>\n",
       "      <td>80.0</td>\n",
       "    </tr>\n",
       "    <tr>\n",
       "      <th>43393</th>\n",
       "      <td>10693</td>\n",
       "      <td>Myrtle Beach International</td>\n",
       "      <td>Myrtle Beach, SC</td>\n",
       "      <td>NORTH MYRTLE BEACH, SC US</td>\n",
       "      <td>USW00093718</td>\n",
       "      <td>NORTH MYRTLE BEACH, SC US</td>\n",
       "      <td>2020-03-31</td>\n",
       "      <td>10.51</td>\n",
       "      <td>0.55</td>\n",
       "      <td>NaN</td>\n",
       "      <td>NaN</td>\n",
       "      <td>67.0</td>\n",
       "    </tr>\n",
       "  </tbody>\n",
       "</table>\n",
       "<p>43394 rows × 12 columns</p>\n",
       "</div>"
      ],
      "text/plain": [
       "       dest_airport_id    destination_airport_name destination_city_name  \\\n",
       "0                11638         Fresno Air Terminal            Fresno, CA   \n",
       "1                11638         Fresno Air Terminal            Fresno, CA   \n",
       "2                11638         Fresno Air Terminal            Fresno, CA   \n",
       "3                11638         Fresno Air Terminal            Fresno, CA   \n",
       "4                11638         Fresno Air Terminal            Fresno, CA   \n",
       "...                ...                         ...                   ...   \n",
       "43389            10693  Myrtle Beach International      Myrtle Beach, SC   \n",
       "43390            10693  Myrtle Beach International      Myrtle Beach, SC   \n",
       "43391            10693  Myrtle Beach International      Myrtle Beach, SC   \n",
       "43392            10693  Myrtle Beach International      Myrtle Beach, SC   \n",
       "43393            10693  Myrtle Beach International      Myrtle Beach, SC   \n",
       "\n",
       "                           destination_name      station  \\\n",
       "0      FRESNO YOSEMITE INTERNATIONAL, CA US  USW00093193   \n",
       "1      FRESNO YOSEMITE INTERNATIONAL, CA US  USW00093193   \n",
       "2      FRESNO YOSEMITE INTERNATIONAL, CA US  USW00093193   \n",
       "3      FRESNO YOSEMITE INTERNATIONAL, CA US  USW00093193   \n",
       "4      FRESNO YOSEMITE INTERNATIONAL, CA US  USW00093193   \n",
       "...                                     ...          ...   \n",
       "43389             NORTH MYRTLE BEACH, SC US  USW00093718   \n",
       "43390             NORTH MYRTLE BEACH, SC US  USW00093718   \n",
       "43391             NORTH MYRTLE BEACH, SC US  USW00093718   \n",
       "43392             NORTH MYRTLE BEACH, SC US  USW00093718   \n",
       "43393             NORTH MYRTLE BEACH, SC US  USW00093718   \n",
       "\n",
       "                                       name        date   awnd  prcp  snow  \\\n",
       "0      FRESNO YOSEMITE INTERNATIONAL, CA US  2019-01-01   3.13  0.00   0.0   \n",
       "1      FRESNO YOSEMITE INTERNATIONAL, CA US  2019-01-02   1.12  0.00   0.0   \n",
       "2      FRESNO YOSEMITE INTERNATIONAL, CA US  2019-01-03   2.01  0.00   0.0   \n",
       "3      FRESNO YOSEMITE INTERNATIONAL, CA US  2019-01-04   2.68  0.00   0.0   \n",
       "4      FRESNO YOSEMITE INTERNATIONAL, CA US  2019-01-05   7.38  0.30   0.0   \n",
       "...                                     ...         ...    ...   ...   ...   \n",
       "43389             NORTH MYRTLE BEACH, SC US  2020-03-27  12.30  0.00   NaN   \n",
       "43390             NORTH MYRTLE BEACH, SC US  2020-03-28  13.87  0.00   NaN   \n",
       "43391             NORTH MYRTLE BEACH, SC US  2020-03-29  13.87  0.00   NaN   \n",
       "43392             NORTH MYRTLE BEACH, SC US  2020-03-30   5.82  0.00   NaN   \n",
       "43393             NORTH MYRTLE BEACH, SC US  2020-03-31  10.51  0.55   NaN   \n",
       "\n",
       "       snwd  tmax  \n",
       "0       0.0  50.0  \n",
       "1       0.0  55.0  \n",
       "2       0.0  59.0  \n",
       "3       0.0  64.0  \n",
       "4       0.0  57.0  \n",
       "...     ...   ...  \n",
       "43389   NaN  75.0  \n",
       "43390   NaN  77.0  \n",
       "43391   NaN  80.0  \n",
       "43392   NaN  80.0  \n",
       "43393   NaN  67.0  \n",
       "\n",
       "[43394 rows x 12 columns]"
      ]
     },
     "execution_count": 27,
     "metadata": {},
     "output_type": "execute_result"
    }
   ],
   "source": [
    "airport_weather_df = pd.merge(\n",
    "    left=airport_list_df,\n",
    "    right=airport_weather_df,\n",
    "    left_on=\"destination_name\",\n",
    "    right_on=\"name\",\n",
    ")\n",
    "airport_weather_df"
   ]
  },
  {
   "cell_type": "markdown",
   "metadata": {
    "id": "Woi9xDUyiSsG"
   },
   "source": [
    " ### Sprawdzenie\n",
    " Uruchom kod poniżej, aby sprawdzić, czy ta część została poprawnie wykonana"
   ]
  },
  {
   "cell_type": "code",
   "execution_count": 28,
   "metadata": {
    "id": "oJ-Hl8DIiSsG"
   },
   "outputs": [],
   "source": [
    "airport_weather_df_expected_shape = (43394, 12)\n",
    "airport_weather_df_shape = airport_weather_df.shape\n",
    "\n",
    "assert (\n",
    "    airport_weather_df_expected_shape == airport_weather_df_shape\n",
    "), f\"Nieodpowiedni wymiar ramki airport_weather_df, oczekiwano (wierszy, kolumn): {airport_weather_df_expected_shape}\""
   ]
  },
  {
   "cell_type": "markdown",
   "metadata": {
    "id": "84aqKqmqiSsG"
   },
   "source": [
    " ## Połączenie `airport_weather_df` oraz `flight_df`\n",
    " W celu złączenia ramek `airport_weather_df` oraz `flight_df` wykonaj następujące kroki:\n",
    " 1. w ramce `aiport_weather_df` występuje kolumna `date`, zrzutuj ją na typ `DATETIME`.\n",
    " 1. w ramce `flight_df` należy stworzyć nową kolumnę o nazwie `date`. W tym celu:\n",
    " \t- złącz kolumny `month`, `day_of_month` oraz `year` razem, użyj następującego formatu daty: `YYYY-MM-DD`.\n",
    " \t- zrzutuj kolumnę `date` na typ `DATETIME`.\n",
    " 1. złącz ramki używając odpowiedniego klucza, wynik złączenia zapisz do ramki `flight_df`. Uzyj złącznia typu `LEFT JOIN`.\n",
    "\n",
    " > Dlaczego istotne jest zachowanie typów przy złączeniu?\n",
    "\n",
    "W trakcie pracy możesz posłużyć się następującymi artykułami z `LMS`:\n",
    " - `Python - analiza danych > Dzień 6 - Pandas > Merge`\n",
    " - `Python - analiza danych > Dzień 6 - Pandas > Praca z datetime`\n",
    " - Dokumentacje metody `to_datetime`: [klik](https://pandas.pydata.org/docs/reference/api/pandas.to_datetime.html)\n",
    " - Dostępne formaty dat: [klik](https://www.programiz.com/python-programming/datetime/strftime) - sekcja `Format Code List`"
   ]
  },
  {
   "cell_type": "markdown",
   "metadata": {
    "id": "3LimbS-niSsG"
   },
   "source": [
    " Tutaj zrzutuj kolumnę `date` na `DATETIME` w ramce `airport_weather_df`"
   ]
  },
  {
   "cell_type": "code",
   "execution_count": 29,
   "metadata": {
    "id": "SZKRgHq1iSsG"
   },
   "outputs": [
    {
     "name": "stdout",
     "output_type": "stream",
     "text": [
      "<class 'pandas.core.series.Series'>\n",
      "RangeIndex: 43394 entries, 0 to 43393\n",
      "Series name: date\n",
      "Non-Null Count  Dtype         \n",
      "--------------  -----         \n",
      "43394 non-null  datetime64[ns]\n",
      "dtypes: datetime64[ns](1)\n",
      "memory usage: 339.1 KB\n"
     ]
    }
   ],
   "source": [
    "airport_weather_df[\"date\"] = pd.to_datetime(airport_weather_df[\"date\"])\n",
    "airport_weather_df['date'].info()"
   ]
  },
  {
   "cell_type": "markdown",
   "metadata": {
    "id": "99k4j9KSiSsH"
   },
   "source": [
    " Tutaj stwórz kolumnę `date` w ramce `flight_df`. Pamiętaj, aby była ona również typu `DATETIME`"
   ]
  },
  {
   "cell_type": "code",
   "execution_count": 30,
   "metadata": {},
   "outputs": [
    {
     "name": "stdout",
     "output_type": "stream",
     "text": [
      "<class 'pandas.core.series.Series'>\n",
      "Index: 6922924 entries, 6307175 to 1249465\n",
      "Series name: date\n",
      "Non-Null Count    Dtype         \n",
      "--------------    -----         \n",
      "6922924 non-null  datetime64[ns]\n",
      "dtypes: datetime64[ns](1)\n",
      "memory usage: 105.6 MB\n"
     ]
    }
   ],
   "source": [
    "flight_df['date'] = pd.to_datetime(\n",
    "    dict(year=flight_df.year, month=flight_df.month, day=flight_df.day_of_month))\n",
    "flight_df['date'].info()"
   ]
  },
  {
   "cell_type": "code",
   "execution_count": 31,
   "metadata": {},
   "outputs": [
    {
     "data": {
      "text/plain": [
       "Index(['id', 'month', 'day_of_month', 'day_of_week', 'op_unique_carrier',\n",
       "       'tail_num', 'op_carrier_fl_num', 'origin_airport_id', 'dest_airport_id',\n",
       "       'crs_dep_time', 'dep_time', 'dep_delay', 'dep_time_blk', 'crs_arr_time',\n",
       "       'arr_time', 'arr_delay_new', 'arr_time_blk', 'cancelled',\n",
       "       'crs_elapsed_time', 'actual_elapsed_time', 'distance', 'distance_group',\n",
       "       'year', 'carrier_delay', 'weather_delay', 'nas_delay', 'security_delay',\n",
       "       'late_aircraft_delay', 'is_delayed', 'is_weekend', 'distance_agg',\n",
       "       'manufacture_year', 'manufacture_year_agg', 'origin_airport_name',\n",
       "       'origin_city_name', 'origin_name', 'destination_airport_name',\n",
       "       'destination_city_name', 'destination_name', 'route_count', 'date'],\n",
       "      dtype='object')"
      ]
     },
     "execution_count": 31,
     "metadata": {},
     "output_type": "execute_result"
    }
   ],
   "source": [
    "flight_df.columns"
   ]
  },
  {
   "cell_type": "code",
   "execution_count": 32,
   "metadata": {},
   "outputs": [
    {
     "data": {
      "text/plain": [
       "Index(['dest_airport_id', 'destination_airport_name', 'destination_city_name',\n",
       "       'destination_name', 'station', 'name', 'date', 'awnd', 'prcp', 'snow',\n",
       "       'snwd', 'tmax'],\n",
       "      dtype='object')"
      ]
     },
     "execution_count": 32,
     "metadata": {},
     "output_type": "execute_result"
    }
   ],
   "source": [
    "airport_weather_df.columns"
   ]
  },
  {
   "cell_type": "code",
   "execution_count": 33,
   "metadata": {},
   "outputs": [],
   "source": [
    "airport_weather_df.drop(columns=[\"name\"], inplace=True)"
   ]
  },
  {
   "cell_type": "markdown",
   "metadata": {
    "id": "joHaF82HiSsH"
   },
   "source": [
    " Tutaj złącz tabele `airport_weather_df` oraz `flight_df`"
   ]
  },
  {
   "cell_type": "code",
   "execution_count": 34,
   "metadata": {},
   "outputs": [],
   "source": [
    "flight_df = flight_df.merge(airport_weather_df, how='left', on=['date',\n",
    "                                                                'dest_airport_id',\n",
    "                                                                'destination_airport_name',\n",
    "                                                                'destination_city_name',\n",
    "                                                                'destination_name'],\n",
    "                            )"
   ]
  },
  {
   "cell_type": "code",
   "execution_count": 35,
   "metadata": {},
   "outputs": [
    {
     "data": {
      "text/plain": [
       "Index(['id', 'month', 'day_of_month', 'day_of_week', 'op_unique_carrier',\n",
       "       'tail_num', 'op_carrier_fl_num', 'origin_airport_id', 'dest_airport_id',\n",
       "       'crs_dep_time', 'dep_time', 'dep_delay', 'dep_time_blk', 'crs_arr_time',\n",
       "       'arr_time', 'arr_delay_new', 'arr_time_blk', 'cancelled',\n",
       "       'crs_elapsed_time', 'actual_elapsed_time', 'distance', 'distance_group',\n",
       "       'year', 'carrier_delay', 'weather_delay', 'nas_delay', 'security_delay',\n",
       "       'late_aircraft_delay', 'is_delayed', 'is_weekend', 'distance_agg',\n",
       "       'manufacture_year', 'manufacture_year_agg', 'origin_airport_name',\n",
       "       'origin_city_name', 'origin_name', 'destination_airport_name',\n",
       "       'destination_city_name', 'destination_name', 'route_count', 'date',\n",
       "       'station', 'awnd', 'prcp', 'snow', 'snwd', 'tmax'],\n",
       "      dtype='object')"
      ]
     },
     "execution_count": 35,
     "metadata": {},
     "output_type": "execute_result"
    }
   ],
   "source": [
    "flight_df.columns"
   ]
  },
  {
   "cell_type": "code",
   "execution_count": 36,
   "metadata": {},
   "outputs": [],
   "source": [
    "airport_weather_df.rename(\n",
    "    columns={\n",
    "        \"dest_airport_id\": \"origin_airport_id\",\n",
    "        \"destination_airport_name\": \"origin_airport_name\",\n",
    "        \"destination_city_name\": \"origin_city_name\",\n",
    "        \"destination_name\": \"origin_name\",\n",
    "    },\n",
    "    inplace=True,\n",
    ")"
   ]
  },
  {
   "cell_type": "code",
   "execution_count": 37,
   "metadata": {},
   "outputs": [
    {
     "data": {
      "text/plain": [
       "Index(['origin_airport_id', 'origin_airport_name', 'origin_city_name',\n",
       "       'origin_name', 'station', 'date', 'awnd', 'prcp', 'snow', 'snwd',\n",
       "       'tmax'],\n",
       "      dtype='object')"
      ]
     },
     "execution_count": 37,
     "metadata": {},
     "output_type": "execute_result"
    }
   ],
   "source": [
    "airport_weather_df.columns"
   ]
  },
  {
   "cell_type": "code",
   "execution_count": 38,
   "metadata": {},
   "outputs": [],
   "source": [
    "flight_df = flight_df.merge(airport_weather_df,\n",
    "                            how='left',\n",
    "                            on=[\"date\", \"origin_airport_id\",\n",
    "                                \"origin_airport_name\",\n",
    "                                \"origin_city_name\",\n",
    "                                \"origin_name\",\n",
    "                                ],\n",
    "                            suffixes=(\"_dest\", \"_origin\"),\n",
    "                            )"
   ]
  },
  {
   "cell_type": "code",
   "execution_count": 39,
   "metadata": {},
   "outputs": [
    {
     "data": {
      "text/plain": [
       "Index(['id', 'month', 'day_of_month', 'day_of_week', 'op_unique_carrier',\n",
       "       'tail_num', 'op_carrier_fl_num', 'origin_airport_id', 'dest_airport_id',\n",
       "       'crs_dep_time', 'dep_time', 'dep_delay', 'dep_time_blk', 'crs_arr_time',\n",
       "       'arr_time', 'arr_delay_new', 'arr_time_blk', 'cancelled',\n",
       "       'crs_elapsed_time', 'actual_elapsed_time', 'distance', 'distance_group',\n",
       "       'year', 'carrier_delay', 'weather_delay', 'nas_delay', 'security_delay',\n",
       "       'late_aircraft_delay', 'is_delayed', 'is_weekend', 'distance_agg',\n",
       "       'manufacture_year', 'manufacture_year_agg', 'origin_airport_name',\n",
       "       'origin_city_name', 'origin_name', 'destination_airport_name',\n",
       "       'destination_city_name', 'destination_name', 'route_count', 'date',\n",
       "       'station_dest', 'awnd_dest', 'prcp_dest', 'snow_dest', 'snwd_dest',\n",
       "       'tmax_dest', 'station_origin', 'awnd_origin', 'prcp_origin',\n",
       "       'snow_origin', 'snwd_origin', 'tmax_origin'],\n",
       "      dtype='object')"
      ]
     },
     "execution_count": 39,
     "metadata": {},
     "output_type": "execute_result"
    }
   ],
   "source": [
    "flight_df.columns"
   ]
  },
  {
   "cell_type": "markdown",
   "metadata": {
    "id": "CKYPhq-CiSsH"
   },
   "source": [
    " ### Sprawdzenie\n",
    " Uruchom kod poniżej, aby sprawdzić, czy ta część została poprawnie wykonana"
   ]
  },
  {
   "cell_type": "code",
   "execution_count": 40,
   "metadata": {
    "id": "ebiyp_5SiSsH"
   },
   "outputs": [],
   "source": [
    "flight_df_expected_rows_amount = 6922924\n",
    "assert (\n",
    "    flight_df.shape[0] == flight_df_expected_rows_amount\n",
    "), \"Ups, zmieniła się liczba wierszy...\""
   ]
  },
  {
   "cell_type": "markdown",
   "metadata": {
    "id": "FopJHJ3-iSsH"
   },
   "source": [
    " # Praca samodzielna\n",
    " Używając `flight_df` zbadaj następujące hipotezy:\n",
    " 1. Opady śniegu w lotnisku wylotowym wpływają na **wielkość** opóźnienia lotów (kolumna `snow`).\n",
    " 1. Wielkość pokrywy śnieżnej wpływa na **wielkość** opóźnienia lotów (kolumna `snwd`).\n",
    " 1. Temperatura maksymalna wpływa na **wielkość** opóźnienia lotów (kolumna `tmax`).\n",
    " W każdym ćwiczeniu pamiętaj o uwzględnieniu tylko tych zjawisk atmosferycznych, które były zaobserwowane (`>`). Przy wykonywaniu tego zadania masz pełną dowolność.\n",
    "\n",
    "> **Wskazówka:**  \n",
    "> Pamiętaj o tym, aby każda analiza była porównywalna, tj. dokonana przy podobnych założeniach."
   ]
  },
  {
   "cell_type": "markdown",
   "metadata": {
    "id": "ot9M18lXiSsI"
   },
   "source": [
    " ## Analiza dla kolumny `snow`"
   ]
  },
  {
   "cell_type": "markdown",
   "metadata": {
    "id": "8Bfo0ZU6iSsI"
   },
   "source": [
    " ### Określenie statystyk opisowych dla kolumny `snow`"
   ]
  },
  {
   "cell_type": "code",
   "execution_count": 41,
   "metadata": {},
   "outputs": [],
   "source": [
    "flight_df_snow = flight_df.loc[flight_df['snow_origin'] > 0][[\n",
    "    'dep_delay', 'snow_origin']]"
   ]
  },
  {
   "cell_type": "code",
   "execution_count": 42,
   "metadata": {},
   "outputs": [],
   "source": [
    "# flight_df_snow.corr().style.background_gradient(cmap='seismic')"
   ]
  },
  {
   "cell_type": "code",
   "execution_count": 43,
   "metadata": {},
   "outputs": [
    {
     "data": {
      "image/png": "[encoded data removed]",
      "text/plain": [
       "<Figure size 640x480 with 1 Axes>"
      ]
     },
     "metadata": {},
     "output_type": "display_data"
    }
   ],
   "source": [
    "plt.scatter(flight_df_snow.snow_origin, flight_df_snow.dep_delay, alpha=0.5)\n",
    "plt.xlabel = \"ilość opadów śniegu\"\n",
    "plt.ylabel = \"czas opóżnienia odlotów\"\n",
    "plt.show()"
   ]
  },
  {
   "cell_type": "markdown",
   "metadata": {
    "id": "71em1ElSiSsI"
   },
   "source": [
    " ## Analiza dla kolumny `snwd`"
   ]
  },
  {
   "cell_type": "markdown",
   "metadata": {
    "id": "qZ3XLzuyiSsI"
   },
   "source": [
    " ### Określenie statystyk opisowych dla kolumny `snwd`"
   ]
  },
  {
   "cell_type": "code",
   "execution_count": 44,
   "metadata": {
    "id": "GQbego0SiSsI"
   },
   "outputs": [],
   "source": [
    "flight_df_snwd = flight_df.loc[flight_df['snwd_origin'] > 0][[\n",
    "    'dep_delay', 'snwd_origin']]\n",
    "# flight_df_snwd.corr().style.background_gradient(cmap='seismic')"
   ]
  },
  {
   "cell_type": "code",
   "execution_count": 45,
   "metadata": {},
   "outputs": [
    {
     "data": {
      "image/png": "[encoded data removed]",
      "text/plain": [
       "<Figure size 640x480 with 1 Axes>"
      ]
     },
     "metadata": {},
     "output_type": "display_data"
    }
   ],
   "source": [
    "plt.scatter(flight_df_snwd.snwd_origin, flight_df_snwd.dep_delay, alpha=0.5)\n",
    "plt.xlabel = \"grubość zalegającego śniegu\"\n",
    "plt.ylabel = \"czas opóżnienia odlotów\"\n",
    "plt.show()"
   ]
  },
  {
   "cell_type": "markdown",
   "metadata": {
    "id": "esT7sp11iSsI"
   },
   "source": [
    " ## Analiza dla kolumny `tmax`"
   ]
  },
  {
   "cell_type": "markdown",
   "metadata": {
    "id": "VhDL12yxiSsI"
   },
   "source": [
    " ### Określenie statystyk opisowych dla kolumny `tmax`"
   ]
  },
  {
   "cell_type": "code",
   "execution_count": 46,
   "metadata": {
    "id": "vAViuWrdiSsJ"
   },
   "outputs": [],
   "source": [
    "flight_df_tmax = flight_df[['dep_delay', 'tmax_origin']]\n",
    "# flight_df_tmax.corr().style.background_gradient(cmap='seismic')"
   ]
  },
  {
   "cell_type": "code",
   "execution_count": 47,
   "metadata": {},
   "outputs": [
    {
     "data": {
      "image/png": "[encoded data removed]",
      "text/plain": [
       "<Figure size 640x480 with 1 Axes>"
      ]
     },
     "metadata": {},
     "output_type": "display_data"
    }
   ],
   "source": [
    "plt.scatter(flight_df_tmax.tmax_origin, flight_df_tmax.dep_delay, alpha=0.5)\n",
    "plt.xlabel = \"temperatura\"\n",
    "plt.ylabel = \"czas opóżnienia odlotów\"\n",
    "plt.show()"
   ]
  },
  {
   "cell_type": "markdown",
   "metadata": {
    "id": "B9pXYHV_iSsJ"
   },
   "source": [
    "# Podsumowanie\n",
    "W tej części warsztatu dokonaliśmy kompleksowej analizy posiadanego zbioru danych. Eksploracja\n",
    "pozwoliła nam na zapoznanie się z cechami charakterystycznymi lotów - wiemy już, które \n",
    "zmienne mogą mieć wpływ na opóźnienia lotów, a które nie. Co warto podkreślić, skupiliśmy się na wielu\n",
    "aspektach tej analizy, co otwiera potencjalnie również inne możliwości dalszej pracy nad tą bazą.\n",
    "\n",
    "W tym momencie przejdziemy do kolejnego kroku, w którym, na podstawie tej analizy, przygotujemy \n",
    "system raportowy. Zanim jednak stworzymy dashboard, potrzebujemy zaktualizować naszą bazę danych."
   ]
  }
 ],
 "metadata": {
  "colab": {
   "provenance": []
  },
  "kernelspec": {
   "display_name": ".venv",
   "language": "python",
   "name": "python3"
  },
  "language_info": {
   "codemirror_mode": {
    "name": "ipython",
    "version": 3
   },
   "file_extension": ".py",
   "mimetype": "text/x-python",
   "name": "python",
   "nbconvert_exporter": "python",
   "pygments_lexer": "ipython3",
   "version": "3.10.12"
  },
  "widgets": {
   "application/vnd.jupyter.widget-state+json": {
    "state": {},
    "version_major": 2,
    "version_minor": 0
   }
  }
 },
 "nbformat": 4,
 "nbformat_minor": 4
}
