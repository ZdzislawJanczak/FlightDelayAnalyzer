{
 "cells": [
  {
   "cell_type": "markdown",
   "metadata": {},
   "source": [
    " # Opis notatnika\n",
    " Analiza przygotowana w poprzednim kroku została odebrana pozytywnie. W związku z tym, zostaliśmy poproszeni\n",
    " o przygotowanie raportu na podstawie danych z roku 2020. Ma być on później  wdrożony przez zespół IT na zewnętrzny\n",
    " serwis. Wybór padł na `Dash`.\n",
    "\n",
    " Zadanie wykonamy w dwóch krokach:\n",
    " 1. Znając wymagania raportu, stworzymy na bazie danych odpowiednie komponenty, które zostaną następnie wykorzystane do wizualizacji.\n",
    " 1. Stworzymy raport używając `Dash`.\n",
    "\n",
    " Ten notatnik skupia się na odpowiednim przygotowaniu bazy danych pod cele raportowe."
   ]
  },
  {
   "cell_type": "markdown",
   "metadata": {},
   "source": [
    " # Wymagania biznesowe\n",
    " Po prezentacji wyników analizy na niezależnym spotkaniu, zostały określone następujące obszary raportowania:\n",
    " 1. Wyświetlanie TOP 10 lotnisk na podstawie liczby odlotów, wyświetlona ma być również informacja o liczbie przylotów - widok `top_airports_by_departure`.\n",
    " 1. Wyświetlenie TOP 10 tras na podstawie niezawodności, minimalna liczba lotów odbytych na trasie powinna wynosić co najmniej 10000. Przy czym istotna dla nas jest kolejność, przykładowo trasa (Warszawa, Paryż) jest inna niż (Paryż, Warszawa) - widok `top_reliability_roads`.\n",
    " 1. Porównanie roku 2019 vs. 2020, aby śledzić wpływ COVID na realizację lotów. Interesują nas podejścia:\n",
    "     - miesiąc do miesiąca, przykładowo styczeń 2019 vs. styczeń 2020, luty 2019 vs. luty 2020 itd. - widok `year_to_year_comparision`,\n",
    "     - dzień do dnia, przykładowo wtorek 2019 vs. wtorek 2020 - widok `day_to_day_comparision`.\n",
    " 1. Dzienny."
   ]
  },
  {
   "cell_type": "markdown",
   "metadata": {},
   "source": [
    " # Podejście techniczne do problemu\n",
    " Naszym celem będzie odseparowanie warstwy przygotowania danych (logika raportu) od warstwy prezentacyjnej (wizualizacja).\n",
    " Chcemy zapewnić, aby odpowiednie procesy zajmowały się tylko swoimi zadaniami. W ten sposób warstwa prezentacyjna powinna w jak najmniejszym stopniu przetwarzać otrzymane dane.\n",
    "\n",
    " To podejście będzie spójne ze współczesnym sposobem projektowania aplikacji. Ma to też dodatkowy benefit - ze względu na wolumen danych na bazie, nie musimy ich najpierw pobierać - warstwa logiczna je odpowiednio zagreguje i przekaże zdecydowanie mniejszą liczbę wierszy, co przyśpieszy działanie całości.\n",
    "\n",
    " > Logika działania tego notebooka jest zbieżna z tą, którą robiliśmy już na przykładzie `Inicjowania bazy danych` - warto mieć go pod ręką."
   ]
  },
  {
   "cell_type": "markdown",
   "metadata": {},
   "source": [
    " # Przygotowanie bazy danych\n",
    " Na bazie danych, gdzie umieszczone są już dane, wszystko wylądowało na schemacie `public`. Ponieważ mamy już dedykowany obszar wykorzystania danych, stworzymy sobie schemat dedykowany - `reporting`.\n",
    " Dalej stworzymy widoki, które odpowiedzą na zadane wcześniej pytania\n",
    "\n",
    " ## Stworzenie dedykowanego schematu\n",
    " W pliku `reporting.sql` napisz kwerendę, która stworzy (o ile już nie istnieje) schemat `reporting`.\n",
    " Ten temat nie był omawiany w trakcie trwania kursu, jednak łatwo można uzupełnić wiedzę czytając np. [ten](https://www.postgresqltutorial.com/postgresql-administration/postgresql-create-schema/) samouczek."
   ]
  },
  {
   "cell_type": "markdown",
   "metadata": {},
   "source": [
    " # Aktualizacja bazy danych\n",
    " W tym miejscu odpowiednio skonfiguruj połączenie do bazy danych."
   ]
  },
  {
   "cell_type": "markdown",
   "metadata": {},
   "source": [
    " Tutaj zaimportuj potrzebne biblioteki"
   ]
  },
  {
   "cell_type": "code",
   "execution_count": 1,
   "metadata": {},
   "outputs": [],
   "source": [
    "import sys\n",
    "sys.path.append('../')\n",
    "\n",
    "from sqlalchemy import create_engine\n",
    "\n",
    "from config.DB_connect import username, passwd, hostname, db_name, port"
   ]
  },
  {
   "cell_type": "markdown",
   "metadata": {},
   "source": [
    " ## Konfiguracja połączenia\n",
    " Tutaj uzupełnij konfigurację połączenia"
   ]
  },
  {
   "cell_type": "code",
   "execution_count": 2,
   "metadata": {},
   "outputs": [],
   "source": [
    "url = f\"postgresql://{username}:{passwd}@{hostname}:{port}/{db_name}\"\n",
    "engine = create_engine(url, echo=False)"
   ]
  },
  {
   "cell_type": "markdown",
   "metadata": {},
   "source": [
    " Tutaj zdefiniuj zmienną `con` oraz `cursor`"
   ]
  },
  {
   "cell_type": "code",
   "execution_count": 3,
   "metadata": {},
   "outputs": [],
   "source": [
    "con = engine.connect()\n",
    "cursor = con.connection.cursor()"
   ]
  },
  {
   "cell_type": "markdown",
   "metadata": {},
   "source": [
    " ## Wczytanie pliku `reporting.sql`\n",
    " Z katalogu `sql` wczytaj plik `reporting.sql`"
   ]
  },
  {
   "cell_type": "code",
   "execution_count": 4,
   "metadata": {},
   "outputs": [],
   "source": [
    "try:\n",
    "    with open(\"../sql/reporting.sql\", 'r') as file:\n",
    "        sqls = file.read()\n",
    "except FileNotFoundError:\n",
    "    print(\"File not found. Please check the file path.\")\n",
    "except IOError:\n",
    "    print(\"Error occurred while reading the file.\")"
   ]
  },
  {
   "cell_type": "markdown",
   "metadata": {},
   "source": [
    " W tym miejscu odpowiednio rozdziel zawartość pliku `reporting.sql` na mniejsze kwerendy używając `;`"
   ]
  },
  {
   "cell_type": "code",
   "execution_count": 5,
   "metadata": {},
   "outputs": [],
   "source": [
    "sql_list = sqls.split(\";\")\n",
    "\n"
   ]
  },
  {
   "cell_type": "code",
   "execution_count": 11,
   "metadata": {},
   "outputs": [
    {
     "data": {
      "text/plain": [
       "['-- CONNECTION: name=localhost\\n/*\\nTutaj zdefiniuj schemę `reporting`\\n*/\\nCREATE SCHEMA IF NOT EXISTS \"reporting\"\\n',\n",
       " '\\n/*\\nTutaj napisz definicję widoku reporting.flight, która:\\n- będzie usuwać dane o lotach anulowanych `cancelled = 0`\\n- będzie zawierać kolumnę `is_delayed`, zgodnie z wcześniejszą definicją tj. `is_delayed = 1 if dep_delay_new > 0 else 0` (zaimplementowana w SQL)\\n\\nWskazówka:\\n- SQL - analiza danych > Dzień 4 Proceduralny SQL > Wyrażenia warunkowe\\n- SQL - analiza danych > Przygotowanie do zjazdu 2 > Widoki\\n*/\\nCREATE OR REPLACE VIEW reporting.flight as\\nSELECT\\n\\tid\\n\\t, to_date(concat(\"year\", LPAD(\"month\"::TEXT, 2, \\'0\\'), LPAD(\"day_of_month\"::TEXT, 2, \\'0\\'))\\t, \\'YYYYMMDD\\') AS flight_date\\n\\t,day_of_week\\n\\t,op_unique_carrier\\n\\t,tail_num\\n\\t,op_carrier_fl_num\\n\\t,origin_airport_id\\n\\t,dest_airport_id\\n\\t,dep_time\\n\\t,dep_delay_new\\n\\t,dep_time_blk\\n\\t,crs_arr_time\\n\\t,crs_elapsed_time\\n\\t,crs_dep_time\\n\\t,arr_time\\n\\t,arr_delay_new\\n\\t,arr_time_blk\\n\\t,cancelled\\n\\t,actual_elapsed_time\\n\\t,distance\\n\\t,distance_group\\n\\t, CASE\\n\\t\\tWHEN dep_delay_new > 0 THEN 1\\n\\t\\tELSE 0\\n\\tEND AS is_delayed\\nFROM\\n\\tflight\\nWHERE\\n\\tcancelled = 0\\n',\n",
       " '\\n\\n\\n\\n/*\\nTutaj napisz definicję widoku reporting.top_reliability_roads, która będzie zawierała następujące kolumny:\\n- `origin_airport_id`,\\n- `origin_airport_name`,\\n- `dest_airport_id`,\\n- `dest_airport_name`,\\n- `year`,\\n- `cnt` - jako liczba wykonananych lotów na danej trasie,\\n- `reliability` - jako odsetek opóźnień na danej trasie,\\n- `nb` - numerowane od 1, 2, 3 według kolumny `reliability`. W przypadku takich samych wartości powino zwrócić 1, 2, 2, 3... \\nPamiętaj o tym, że w wyniku powinny pojawić się takie trasy, na których odbyło się ponad 10000 lotów.\\n\\nWskazówka:\\n- SQL - analiza danych > Dzień 2 Relacje oraz JOIN > JOIN\\n- SQL - analiza danych > Dzień 3 - Analiza danych > Grupowanie\\n- SQL - analiza danych > Dzień 1 Podstawy SQL > Aliasowanie\\n- SQL - analiza danych > Dzień 1 Podstawy SQL > Podzapytania\\n*/\\n\\nCREATE OR REPLACE VIEW reporting.top_reliability_roads AS\\n\\n',\n",
       " '\\n/*\\nTutaj napisz definicję widoku reporting.year_to_year_comparision, która będzie zawierał następujące kolumny:\\n- `year`\\n- `month`,\\n- `flights_amount`\\n- `reliability`\\n*/\\nCREATE OR REPLACE VIEW reporting.year_to_year_comparision AS\\nSELECT 1\\n',\n",
       " '\\n/*\\nTutaj napisz definicję widoku reporting.day_to_day_comparision, który będzie zawierał następujące kolumny:\\n- `year`\\n- `day_of_week`\\n- `flights_amount`\\n*/\\nCREATE OR REPLACE VIEW reporting.day_to_day_comparision AS\\nSELECT 1\\n',\n",
       " \"\\n/*\\nTutaj napisz definicję widoku reporting.day_by_day_reliability, ktory będzie zawierał następujące kolumny:\\n- `date` jako złożenie kolumn `year`, `month`, `day`, powinna być typu `date`\\n- `reliability` jako odsetek opóźnień danego dnia\\n\\nWskazówki:\\n- formaty dat w postgresql: [klik](https://www.postgresql.org/docs/13/functions-formatting.html),\\n- jeśli chcesz dodać zera na początek liczby np. `1` > `01`, posłuż się metodą `LPAD`: [przykład](https://stackoverflow.com/questions/26379446/padding-zeros-to-the-left-in-postgresql),\\n- do konwertowania ciągu znaków na datę najwygodniej w Postgres użyć `to_date`: [przykład](https://www.postgresqltutorial.com/postgresql-date-functions/postgresql-to_date/)\\n- do złączenia kilku kolumn / wartości typu string, używa się operatora `||`, przykładowo: SELECT 'a' || 'b' as example\\n\\nUwaga: Nie dodawaj tutaj na końcu `\",\n",
       " '` - przy używaniu split, pojawi się pusta kwerenda, co będzie skutkowało późniejszym błędem przy próbie wykonaniu skryptu z poziomu notatnika.\\n*/\\nCREATE OR REPLACE VIEW reporting.day_by_day_reliability AS\\nSELECT 1\\n']"
      ]
     },
     "execution_count": 11,
     "metadata": {},
     "output_type": "execute_result"
    }
   ],
   "source": [
    "sql_list"
   ]
  },
  {
   "cell_type": "markdown",
   "metadata": {},
   "source": [
    " W tym miejscu wykonaj każdą z kwerend, aby zainicjować strukturę bazy danych"
   ]
  },
  {
   "cell_type": "code",
   "execution_count": 12,
   "metadata": {},
   "outputs": [
    {
     "name": "stdout",
     "output_type": "stream",
     "text": [
      "-- CONNECTION: name=localhost\n",
      "/*\n",
      "Tutaj zdefiniuj schemę `reporting`\n",
      "*/\n",
      "CREATE SCHEMA IF NOT EXISTS \"reporting\"\n",
      "\n",
      "\n",
      "/*\n",
      "Tutaj napisz definicję widoku reporting.flight, która:\n",
      "- będzie usuwać dane o lotach anulowanych `cancelled = 0`\n",
      "- będzie zawierać kolumnę `is_delayed`, zgodnie z wcześniejszą definicją tj. `is_delayed = 1 if dep_delay_new > 0 else 0` (zaimplementowana w SQL)\n",
      "\n",
      "Wskazówka:\n",
      "- SQL - analiza danych > Dzień 4 Proceduralny SQL > Wyrażenia warunkowe\n",
      "- SQL - analiza danych > Przygotowanie do zjazdu 2 > Widoki\n",
      "*/\n",
      "CREATE OR REPLACE VIEW reporting.flight as\n",
      "SELECT\n",
      "\tid\n",
      "\t, to_date(concat(\"year\", LPAD(\"month\"::TEXT, 2, '0'), LPAD(\"day_of_month\"::TEXT, 2, '0'))\t, 'YYYYMMDD') AS flight_date\n",
      "\t,day_of_week\n",
      "\t,op_unique_carrier\n",
      "\t,tail_num\n",
      "\t,op_carrier_fl_num\n",
      "\t,origin_airport_id\n",
      "\t,dest_airport_id\n",
      "\t,dep_time\n",
      "\t,dep_delay_new\n",
      "\t,dep_time_blk\n",
      "\t,crs_arr_time\n",
      "\t,crs_elapsed_time\n",
      "\t,crs_dep_time\n",
      "\t,arr_time\n",
      "\t,arr_delay_new\n",
      "\t,arr_time_blk\n",
      "\t,cancelled\n",
      "\t,actual_elapsed_time\n",
      "\t,distance\n",
      "\t,distance_group\n",
      "\t, CASE\n",
      "\t\tWHEN dep_delay_new > 0 THEN 1\n",
      "\t\tELSE 0\n",
      "\tEND AS is_delayed\n",
      "FROM\n",
      "\tflight\n",
      "WHERE\n",
      "\tcancelled = 0\n",
      "\n",
      "\n",
      "\n",
      "\n",
      "\n",
      "/*\n",
      "Tutaj napisz definicję widoku reporting.top_reliability_roads, która będzie zawierała następujące kolumny:\n",
      "- `origin_airport_id`,\n",
      "- `origin_airport_name`,\n",
      "- `dest_airport_id`,\n",
      "- `dest_airport_name`,\n",
      "- `year`,\n",
      "- `cnt` - jako liczba wykonananych lotów na danej trasie,\n",
      "- `reliability` - jako odsetek opóźnień na danej trasie,\n",
      "- `nb` - numerowane od 1, 2, 3 według kolumny `reliability`. W przypadku takich samych wartości powino zwrócić 1, 2, 2, 3... \n",
      "Pamiętaj o tym, że w wyniku powinny pojawić się takie trasy, na których odbyło się ponad 10000 lotów.\n",
      "\n",
      "Wskazówka:\n",
      "- SQL - analiza danych > Dzień 2 Relacje oraz JOIN > JOIN\n",
      "- SQL - analiza danych > Dzień 3 - Analiza danych > Grupowanie\n",
      "- SQL - analiza danych > Dzień 1 Podstawy SQL > Aliasowanie\n",
      "- SQL - analiza danych > Dzień 1 Podstawy SQL > Podzapytania\n",
      "*/\n",
      "\n",
      "CREATE OR REPLACE VIEW reporting.top_reliability_roads AS\n",
      "\n",
      "\n",
      "\n",
      "/*\n",
      "Tutaj napisz definicję widoku reporting.year_to_year_comparision, która będzie zawierał następujące kolumny:\n",
      "- `year`\n",
      "- `month`,\n",
      "- `flights_amount`\n",
      "- `reliability`\n",
      "*/\n",
      "CREATE OR REPLACE VIEW reporting.year_to_year_comparision AS\n",
      "SELECT 1\n",
      "\n",
      "\n",
      "/*\n",
      "Tutaj napisz definicję widoku reporting.day_to_day_comparision, który będzie zawierał następujące kolumny:\n",
      "- `year`\n",
      "- `day_of_week`\n",
      "- `flights_amount`\n",
      "*/\n",
      "CREATE OR REPLACE VIEW reporting.day_to_day_comparision AS\n",
      "SELECT 1\n",
      "\n",
      "\n",
      "/*\n",
      "Tutaj napisz definicję widoku reporting.day_by_day_reliability, ktory będzie zawierał następujące kolumny:\n",
      "- `date` jako złożenie kolumn `year`, `month`, `day`, powinna być typu `date`\n",
      "- `reliability` jako odsetek opóźnień danego dnia\n",
      "\n",
      "Wskazówki:\n",
      "- formaty dat w postgresql: [klik](https://www.postgresql.org/docs/13/functions-formatting.html),\n",
      "- jeśli chcesz dodać zera na początek liczby np. `1` > `01`, posłuż się metodą `LPAD`: [przykład](https://stackoverflow.com/questions/26379446/padding-zeros-to-the-left-in-postgresql),\n",
      "- do konwertowania ciągu znaków na datę najwygodniej w Postgres użyć `to_date`: [przykład](https://www.postgresqltutorial.com/postgresql-date-functions/postgresql-to_date/)\n",
      "- do złączenia kilku kolumn / wartości typu string, używa się operatora `||`, przykładowo: SELECT 'a' || 'b' as example\n",
      "\n",
      "Uwaga: Nie dodawaj tutaj na końcu `\n",
      "` - przy używaniu split, pojawi się pusta kwerenda, co będzie skutkowało późniejszym błędem przy próbie wykonaniu skryptu z poziomu notatnika.\n",
      "*/\n",
      "CREATE OR REPLACE VIEW reporting.day_by_day_reliability AS\n",
      "SELECT 1\n",
      "\n"
     ]
    }
   ],
   "source": [
    "for sql in sql_list:\n",
    "    # cursor.execute(sql)\n",
    "    print(sql)"
   ]
  },
  {
   "cell_type": "markdown",
   "metadata": {},
   "source": [
    " Zatwierdzenie wszystkich operacji na bazie, czyli stworzenie widoków"
   ]
  },
  {
   "cell_type": "code",
   "execution_count": null,
   "metadata": {},
   "outputs": [],
   "source": [
    "con.commit()"
   ]
  },
  {
   "cell_type": "markdown",
   "metadata": {},
   "source": [
    " ### Sprawdzenie"
   ]
  },
  {
   "cell_type": "code",
   "execution_count": null,
   "metadata": {},
   "outputs": [],
   "source": [
    "# Ten kod chyba wygląda znajomo....\n",
    "# istnienie widoków możemy sprawdzić tak samo jak tabele\n",
    "def check_if_table_exists(table_name):\n",
    "    msg = f\"Sprawdzam, czy istnieje tabela {table_name}\"\n",
    "    print(msg)\n",
    "\n",
    "    query = f\"select 1 from {table_name}\"\n",
    "    # jeżeli tabela nie istnieje, ten krok zwróci wyjątek\n",
    "    cursor.execute(query)\n",
    "    print('OK!')"
   ]
  },
  {
   "cell_type": "code",
   "execution_count": null,
   "metadata": {},
   "outputs": [],
   "source": [
    "views_to_test = [\n",
    "    'reporting.flight',\n",
    "    'reporting.top_reliability_roads',\n",
    "    'reporting.year_to_year_comparision',\n",
    "    'reporting.day_to_day_comparision',\n",
    "    'reporting.day_by_day_reliability'\n",
    "]"
   ]
  },
  {
   "cell_type": "code",
   "execution_count": null,
   "metadata": {},
   "outputs": [],
   "source": [
    "for view in views_to_test:\n",
    "    check_if_table_exists(view)"
   ]
  },
  {
   "cell_type": "code",
   "execution_count": null,
   "metadata": {},
   "outputs": [],
   "source": [
    "con.close()\n",
    "msg = \"Wszystko wygląda OK :) Możesz przejść do kolejnego zadania.\"\n",
    "print(msg)"
   ]
  },
  {
   "cell_type": "markdown",
   "metadata": {},
   "source": [
    " # Podsumowanie\n",
    " W tym notatniku stworzyliśmy nowy schemat - `reporting`, którego zadaniem jest przygotowanie naszych danych\n",
    " do wizualizacji. Dalsza część pracy będzie polegała na wyświetleniu w wizualnie atrakcyjny sposób danych w interaktywnym raporcie stworzonym\n",
    " za pomocą `Dash`."
   ]
  }
 ],
 "metadata": {
  "kernelspec": {
   "display_name": ".venv",
   "language": "python",
   "name": "python3"
  },
  "language_info": {
   "codemirror_mode": {
    "name": "ipython",
    "version": 3
   },
   "file_extension": ".py",
   "mimetype": "text/x-python",
   "name": "python",
   "nbconvert_exporter": "python",
   "pygments_lexer": "ipython3",
   "version": "3.10.12"
  },
  "widgets": {
   "application/vnd.jupyter.widget-state+json": {
    "state": {},
    "version_major": 2,
    "version_minor": 0
   }
  }
 },
 "nbformat": 4,
 "nbformat_minor": 4
}
